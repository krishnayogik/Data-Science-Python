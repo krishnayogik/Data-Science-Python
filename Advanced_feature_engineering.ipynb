{
  "metadata": {
    "kernelspec": {
      "language": "python",
      "display_name": "Python 3",
      "name": "python3"
    },
    "language_info": {
      "name": "python",
      "version": "3.7.10",
      "mimetype": "text/x-python",
      "codemirror_mode": {
        "name": "ipython",
        "version": 3
      },
      "pygments_lexer": "ipython3",
      "nbconvert_exporter": "python",
      "file_extension": ".py"
    },
    "colab": {
      "provenance": []
    }
  },
  "nbformat_minor": 0,
  "nbformat": 4,
  "cells": [
    {
      "cell_type": "markdown",
      "source": [
        "# Feature Engineering\n",
        "\n",
        "What is a feature and why we need the engineering of it?\n",
        "\n",
        "Basically, all machine learning algorithms use some input data to create outputs. This input data comprise features, which are usually in the form of structured columns. Algorithms require features with some specific characteristic to work properly. Here, the need for feature engineering arises. Feature engineering efforts mainly have two goals:\n",
        "\n",
        "- Preparing the proper input dataset, compatible with the machine learning algorithm requirements.\n",
        "\n",
        "- Improving the performance of machine learning models.\n",
        "\n",
        "The important point is that machine learning algorithms desire structured dataset because of that reason feature engineering is a key indicator for data science life cyle. __Harward Business Review article__ stated that, \"Poor data quality is enemy number one to the widespread, profitable use of machine learning. The quality demands of machine learning are steep, and bad data can rear its ugly head twice both in the historical data used to train the predictive model and in the new data used by that model to make future decisions. To ensure you have the right data for machine learning, you must have an aggressive, well-executed quality program.\"\n",
        "\n",
        "Besides that, according to a survey in Forbes, data scientists spend 80% of their time on data preparation:\n",
        "\n",
        "![image.png](https://miro.medium.com/max/1400/0*-dn9U8gMVWjDahQV.jpg)\n",
        "\n",
        "\n",
        "\n",
        "Source:\n",
        "\n",
        "[Harward Business Review](https://hbr.org/2018/04/if-your-data-is-bad-your-machine-learning-tools-are-useless)\n",
        "\n",
        "[Towards Data Science](https://towardsdatascience.com/feature-engineering-for-machine-learning-3a5e293a5114)\n",
        "\n",
        "[Forbes Survey](https://www.forbes.com/sites/gilpress/2016/03/23/data-preparation-most-time-consuming-least-enjoyable-data-science-task-survey-says/?sh=28c8fe0c6f63)\n"
      ],
      "metadata": {
        "id": "ruFlCU3MkLcz"
      }
    },
    {
      "cell_type": "markdown",
      "source": [
        "In this notebook we will deeply analyze feature engineering topics as below.\n",
        "\n",
        "- Outliers\n",
        "- Missing Values\n",
        "- Encoding (Label Encoding, One-Hot Encoding, Rare Encoding)\n",
        "- Feature Scaling\n",
        "- Feature Extraction\n",
        "- Feature Interactions\n",
        "- End-to-End Application"
      ],
      "metadata": {
        "id": "idqtUXX0kLc2"
      }
    },
    {
      "cell_type": "markdown",
      "source": [
        "# 1. Outliers\n",
        "\n",
        "An outlier is an observation that lies an abnormal distance from other values in a random sample from a population. In a sense, this definition leaves it up to the analyst (or a consensus process) to decide what will be considered abnormal. Before abnormal observations can be singled out, it is necessary to characterize normal observations.\n",
        "\n",
        "👉 __Trimming__: It excludes the outlier values from our analysis. By applying this technique our data becomes thin when there are more outliers present in the dataset. Its main advantage is its fastest nature.\n",
        "\n",
        "👉 __Capping__: In this technique, we cap our outliers data and make the limit i.e, above a particular value or less than that value, all the values will be considered as outliers, and the number of outliers in the dataset gives that capping number.\n",
        "\n",
        "For Example, if you’re working on the income feature, you might find that people above a certain income level behave in the same way as those with a lower income. In this case, you can cap the income value at a level that keeps that intact and accordingly treat the outliers.\n",
        "\n",
        "👉 __Treat outliers as a missing value__: By assuming outliers as the missing observations, treat them accordingly i.e, same as those of missing values.\n",
        "\n",
        "👉 __Discretization__: In this technique, by making the groups we include the outliers in a particular group and force them to behave in the same manner as those of other points in that group. This technique is also known as Binning.\n",
        "\n",
        "__How to Detect Outliers ?__\n",
        "\n",
        "👉 __For Normal distributions__: Use empirical relations of Normal distribution.\n",
        "\n",
        "       The data points which fall below mean-3*(sigma) or above mean+3*(sigma) are outliers.\n",
        "\n",
        "where mean and sigma are the average value and standard deviation of a particular column.\n",
        "\n",
        "👉 __For Skewed distributions__: Use Inter-Quartile Range (IQR) proximity rule __(Box Plot).__\n",
        "\n",
        "    The data points which fall below Q1 – 1.5 IQR or above Q3 + 1.5 IQR are outliers.\n",
        "\n",
        "where Q1 and Q3 are the 25th and 75th percentile of the dataset respectively, and IQR represents the inter-quartile range and given by Q3 – Q1.\n",
        "\n",
        "![image.png](https://miro.medium.com/max/1400/1*NRlqiZGQdsIyAu0KzP7LaQ.png)\n",
        "\n",
        "Source:\n",
        "\n",
        "[Analytics Vidhya](https://www.analyticsvidhya.com/blog/2021/05/feature-engineering-how-to-detect-and-remove-outliers-with-python-code/)"
      ],
      "metadata": {
        "id": "aK4awMDUkLc3"
      }
    },
    {
      "cell_type": "markdown",
      "source": [
        "## Code"
      ],
      "metadata": {
        "id": "kEat5HePkLc4"
      }
    },
    {
      "cell_type": "code",
      "source": [
        "import numpy as np\n",
        "import pandas as pd\n",
        "import seaborn as sns\n",
        "from matplotlib import pyplot as plt\n",
        "import missingno as msno\n",
        "import os\n",
        "from sklearn.metrics import accuracy_score\n",
        "from sklearn.model_selection import train_test_split\n",
        "from sklearn.neighbors import LocalOutlierFactor\n",
        "from sklearn.preprocessing import MinMaxScaler, LabelEncoder, StandardScaler, RobustScaler\n",
        "\n",
        "import os\n",
        "for dirname, _, filenames in os.walk('/kaggle/input'):\n",
        "    for filename in filenames:\n",
        "        print(os.path.join(dirname, filename))"
      ],
      "metadata": {
        "execution": {
          "iopub.status.busy": "2021-10-05T16:43:54.516165Z",
          "iopub.execute_input": "2021-10-05T16:43:54.516932Z",
          "iopub.status.idle": "2021-10-05T16:43:55.911324Z",
          "shell.execute_reply.started": "2021-10-05T16:43:54.516827Z",
          "shell.execute_reply": "2021-10-05T16:43:55.910618Z"
        },
        "trusted": true,
        "id": "yuV7QcNgkLc4",
        "outputId": "47d28ca4-e46c-4cad-ffc1-c6069ea30b20"
      },
      "execution_count": null,
      "outputs": [
        {
          "name": "stdout",
          "text": "/kaggle/input/data-science-day1-titanic/DSB_Day1_Titanic_train.csv\n/kaggle/input/titanic/train.csv\n/kaggle/input/titanic/test.csv\n/kaggle/input/titanic/gender_submission.csv\n/kaggle/input/home-credit-default-risk/sample_submission.csv\n/kaggle/input/home-credit-default-risk/bureau_balance.csv\n/kaggle/input/home-credit-default-risk/POS_CASH_balance.csv\n/kaggle/input/home-credit-default-risk/application_train.csv\n/kaggle/input/home-credit-default-risk/HomeCredit_columns_description.csv\n/kaggle/input/home-credit-default-risk/application_test.csv\n/kaggle/input/home-credit-default-risk/previous_application.csv\n/kaggle/input/home-credit-default-risk/credit_card_balance.csv\n/kaggle/input/home-credit-default-risk/installments_payments.csv\n/kaggle/input/home-credit-default-risk/bureau.csv\n",
          "output_type": "stream"
        }
      ]
    },
    {
      "cell_type": "code",
      "source": [
        "df = pd.read_csv(\"../input/data-science-day1-titanic/DSB_Day1_Titanic_train.csv\")\n",
        "df.head()"
      ],
      "metadata": {
        "execution": {
          "iopub.status.busy": "2021-10-05T16:43:55.913061Z",
          "iopub.execute_input": "2021-10-05T16:43:55.913513Z",
          "iopub.status.idle": "2021-10-05T16:43:55.959851Z",
          "shell.execute_reply.started": "2021-10-05T16:43:55.913482Z",
          "shell.execute_reply": "2021-10-05T16:43:55.958887Z"
        },
        "trusted": true,
        "id": "42-sVzfPkLc6",
        "outputId": "19f7b940-f1aa-4725-efe0-89ef63732d24"
      },
      "execution_count": null,
      "outputs": [
        {
          "execution_count": 2,
          "output_type": "execute_result",
          "data": {
            "text/plain": "   PassengerId  Survived  Pclass  \\\n0            1         0       3   \n1            2         1       1   \n2            3         1       3   \n3            4         1       1   \n4            5         0       3   \n\n                                                Name     Sex   Age  SibSp  \\\n0                            Braund, Mr. Owen Harris    male  22.0      1   \n1  Cumings, Mrs. John Bradley (Florence Briggs Th...  female  38.0      1   \n2                             Heikkinen, Miss. Laina  female  26.0      0   \n3       Futrelle, Mrs. Jacques Heath (Lily May Peel)  female  35.0      1   \n4                           Allen, Mr. William Henry    male  35.0      0   \n\n   Parch            Ticket     Fare Cabin Embarked  \n0      0         A/5 21171   7.2500   NaN        S  \n1      0          PC 17599  71.2833   C85        C  \n2      0  STON/O2. 3101282   7.9250   NaN        S  \n3      0            113803  53.1000  C123        S  \n4      0            373450   8.0500   NaN        S  ",
            "text/html": "<div>\n<style scoped>\n    .dataframe tbody tr th:only-of-type {\n        vertical-align: middle;\n    }\n\n    .dataframe tbody tr th {\n        vertical-align: top;\n    }\n\n    .dataframe thead th {\n        text-align: right;\n    }\n</style>\n<table border=\"1\" class=\"dataframe\">\n  <thead>\n    <tr style=\"text-align: right;\">\n      <th></th>\n      <th>PassengerId</th>\n      <th>Survived</th>\n      <th>Pclass</th>\n      <th>Name</th>\n      <th>Sex</th>\n      <th>Age</th>\n      <th>SibSp</th>\n      <th>Parch</th>\n      <th>Ticket</th>\n      <th>Fare</th>\n      <th>Cabin</th>\n      <th>Embarked</th>\n    </tr>\n  </thead>\n  <tbody>\n    <tr>\n      <th>0</th>\n      <td>1</td>\n      <td>0</td>\n      <td>3</td>\n      <td>Braund, Mr. Owen Harris</td>\n      <td>male</td>\n      <td>22.0</td>\n      <td>1</td>\n      <td>0</td>\n      <td>A/5 21171</td>\n      <td>7.2500</td>\n      <td>NaN</td>\n      <td>S</td>\n    </tr>\n    <tr>\n      <th>1</th>\n      <td>2</td>\n      <td>1</td>\n      <td>1</td>\n      <td>Cumings, Mrs. John Bradley (Florence Briggs Th...</td>\n      <td>female</td>\n      <td>38.0</td>\n      <td>1</td>\n      <td>0</td>\n      <td>PC 17599</td>\n      <td>71.2833</td>\n      <td>C85</td>\n      <td>C</td>\n    </tr>\n    <tr>\n      <th>2</th>\n      <td>3</td>\n      <td>1</td>\n      <td>3</td>\n      <td>Heikkinen, Miss. Laina</td>\n      <td>female</td>\n      <td>26.0</td>\n      <td>0</td>\n      <td>0</td>\n      <td>STON/O2. 3101282</td>\n      <td>7.9250</td>\n      <td>NaN</td>\n      <td>S</td>\n    </tr>\n    <tr>\n      <th>3</th>\n      <td>4</td>\n      <td>1</td>\n      <td>1</td>\n      <td>Futrelle, Mrs. Jacques Heath (Lily May Peel)</td>\n      <td>female</td>\n      <td>35.0</td>\n      <td>1</td>\n      <td>0</td>\n      <td>113803</td>\n      <td>53.1000</td>\n      <td>C123</td>\n      <td>S</td>\n    </tr>\n    <tr>\n      <th>4</th>\n      <td>5</td>\n      <td>0</td>\n      <td>3</td>\n      <td>Allen, Mr. William Henry</td>\n      <td>male</td>\n      <td>35.0</td>\n      <td>0</td>\n      <td>0</td>\n      <td>373450</td>\n      <td>8.0500</td>\n      <td>NaN</td>\n      <td>S</td>\n    </tr>\n  </tbody>\n</table>\n</div>"
          },
          "metadata": {}
        }
      ]
    },
    {
      "cell_type": "code",
      "source": [
        "# Defining Interquartile Range\n",
        "q1 = df[\"Age\"].quantile(0.25)\n",
        "q3 = df[\"Age\"].quantile(0.75)\n",
        "iqr = q3 - q1\n",
        "up = q3 + 1.5 * iqr\n",
        "low = q1 - 1.5 * iqr"
      ],
      "metadata": {
        "execution": {
          "iopub.status.busy": "2021-10-05T16:43:55.961094Z",
          "iopub.execute_input": "2021-10-05T16:43:55.961341Z",
          "iopub.status.idle": "2021-10-05T16:43:55.973233Z",
          "shell.execute_reply.started": "2021-10-05T16:43:55.961312Z",
          "shell.execute_reply": "2021-10-05T16:43:55.972161Z"
        },
        "trusted": true,
        "id": "tzDi5dufkLc7"
      },
      "execution_count": null,
      "outputs": []
    },
    {
      "cell_type": "code",
      "source": [
        "# less than the lower limit or greater than the upper limit\n",
        "df[(df[\"Age\"] < low) | (df[\"Age\"] > up)]"
      ],
      "metadata": {
        "execution": {
          "iopub.status.busy": "2021-10-05T16:43:55.975328Z",
          "iopub.execute_input": "2021-10-05T16:43:55.976147Z",
          "iopub.status.idle": "2021-10-05T16:43:56.004406Z",
          "shell.execute_reply.started": "2021-10-05T16:43:55.976113Z",
          "shell.execute_reply": "2021-10-05T16:43:56.003691Z"
        },
        "trusted": true,
        "id": "UMCcvcbckLc7",
        "outputId": "b9e63f24-8e05-4904-d66f-29b3141c2489"
      },
      "execution_count": null,
      "outputs": [
        {
          "execution_count": 4,
          "output_type": "execute_result",
          "data": {
            "text/plain": "     PassengerId  Survived  Pclass                                  Name  \\\n33            34         0       2                 Wheadon, Mr. Edward H   \n54            55         0       1        Ostby, Mr. Engelhart Cornelius   \n96            97         0       1             Goldschmidt, Mr. George B   \n116          117         0       3                  Connors, Mr. Patrick   \n280          281         0       3                      Duane, Mr. Frank   \n456          457         0       1             Millet, Mr. Francis Davis   \n493          494         0       1               Artagaveytia, Mr. Ramon   \n630          631         1       1  Barkworth, Mr. Algernon Henry Wilson   \n672          673         0       2           Mitchell, Mr. Henry Michael   \n745          746         0       1          Crosby, Capt. Edward Gifford   \n851          852         0       3                   Svensson, Mr. Johan   \n\n      Sex   Age  SibSp  Parch      Ticket     Fare Cabin Embarked  \n33   male  66.0      0      0  C.A. 24579  10.5000   NaN        S  \n54   male  65.0      0      1      113509  61.9792   B30        C  \n96   male  71.0      0      0    PC 17754  34.6542    A5        C  \n116  male  70.5      0      0      370369   7.7500   NaN        Q  \n280  male  65.0      0      0      336439   7.7500   NaN        Q  \n456  male  65.0      0      0       13509  26.5500   E38        S  \n493  male  71.0      0      0    PC 17609  49.5042   NaN        C  \n630  male  80.0      0      0       27042  30.0000   A23        S  \n672  male  70.0      0      0  C.A. 24580  10.5000   NaN        S  \n745  male  70.0      1      1   WE/P 5735  71.0000   B22        S  \n851  male  74.0      0      0      347060   7.7750   NaN        S  ",
            "text/html": "<div>\n<style scoped>\n    .dataframe tbody tr th:only-of-type {\n        vertical-align: middle;\n    }\n\n    .dataframe tbody tr th {\n        vertical-align: top;\n    }\n\n    .dataframe thead th {\n        text-align: right;\n    }\n</style>\n<table border=\"1\" class=\"dataframe\">\n  <thead>\n    <tr style=\"text-align: right;\">\n      <th></th>\n      <th>PassengerId</th>\n      <th>Survived</th>\n      <th>Pclass</th>\n      <th>Name</th>\n      <th>Sex</th>\n      <th>Age</th>\n      <th>SibSp</th>\n      <th>Parch</th>\n      <th>Ticket</th>\n      <th>Fare</th>\n      <th>Cabin</th>\n      <th>Embarked</th>\n    </tr>\n  </thead>\n  <tbody>\n    <tr>\n      <th>33</th>\n      <td>34</td>\n      <td>0</td>\n      <td>2</td>\n      <td>Wheadon, Mr. Edward H</td>\n      <td>male</td>\n      <td>66.0</td>\n      <td>0</td>\n      <td>0</td>\n      <td>C.A. 24579</td>\n      <td>10.5000</td>\n      <td>NaN</td>\n      <td>S</td>\n    </tr>\n    <tr>\n      <th>54</th>\n      <td>55</td>\n      <td>0</td>\n      <td>1</td>\n      <td>Ostby, Mr. Engelhart Cornelius</td>\n      <td>male</td>\n      <td>65.0</td>\n      <td>0</td>\n      <td>1</td>\n      <td>113509</td>\n      <td>61.9792</td>\n      <td>B30</td>\n      <td>C</td>\n    </tr>\n    <tr>\n      <th>96</th>\n      <td>97</td>\n      <td>0</td>\n      <td>1</td>\n      <td>Goldschmidt, Mr. George B</td>\n      <td>male</td>\n      <td>71.0</td>\n      <td>0</td>\n      <td>0</td>\n      <td>PC 17754</td>\n      <td>34.6542</td>\n      <td>A5</td>\n      <td>C</td>\n    </tr>\n    <tr>\n      <th>116</th>\n      <td>117</td>\n      <td>0</td>\n      <td>3</td>\n      <td>Connors, Mr. Patrick</td>\n      <td>male</td>\n      <td>70.5</td>\n      <td>0</td>\n      <td>0</td>\n      <td>370369</td>\n      <td>7.7500</td>\n      <td>NaN</td>\n      <td>Q</td>\n    </tr>\n    <tr>\n      <th>280</th>\n      <td>281</td>\n      <td>0</td>\n      <td>3</td>\n      <td>Duane, Mr. Frank</td>\n      <td>male</td>\n      <td>65.0</td>\n      <td>0</td>\n      <td>0</td>\n      <td>336439</td>\n      <td>7.7500</td>\n      <td>NaN</td>\n      <td>Q</td>\n    </tr>\n    <tr>\n      <th>456</th>\n      <td>457</td>\n      <td>0</td>\n      <td>1</td>\n      <td>Millet, Mr. Francis Davis</td>\n      <td>male</td>\n      <td>65.0</td>\n      <td>0</td>\n      <td>0</td>\n      <td>13509</td>\n      <td>26.5500</td>\n      <td>E38</td>\n      <td>S</td>\n    </tr>\n    <tr>\n      <th>493</th>\n      <td>494</td>\n      <td>0</td>\n      <td>1</td>\n      <td>Artagaveytia, Mr. Ramon</td>\n      <td>male</td>\n      <td>71.0</td>\n      <td>0</td>\n      <td>0</td>\n      <td>PC 17609</td>\n      <td>49.5042</td>\n      <td>NaN</td>\n      <td>C</td>\n    </tr>\n    <tr>\n      <th>630</th>\n      <td>631</td>\n      <td>1</td>\n      <td>1</td>\n      <td>Barkworth, Mr. Algernon Henry Wilson</td>\n      <td>male</td>\n      <td>80.0</td>\n      <td>0</td>\n      <td>0</td>\n      <td>27042</td>\n      <td>30.0000</td>\n      <td>A23</td>\n      <td>S</td>\n    </tr>\n    <tr>\n      <th>672</th>\n      <td>673</td>\n      <td>0</td>\n      <td>2</td>\n      <td>Mitchell, Mr. Henry Michael</td>\n      <td>male</td>\n      <td>70.0</td>\n      <td>0</td>\n      <td>0</td>\n      <td>C.A. 24580</td>\n      <td>10.5000</td>\n      <td>NaN</td>\n      <td>S</td>\n    </tr>\n    <tr>\n      <th>745</th>\n      <td>746</td>\n      <td>0</td>\n      <td>1</td>\n      <td>Crosby, Capt. Edward Gifford</td>\n      <td>male</td>\n      <td>70.0</td>\n      <td>1</td>\n      <td>1</td>\n      <td>WE/P 5735</td>\n      <td>71.0000</td>\n      <td>B22</td>\n      <td>S</td>\n    </tr>\n    <tr>\n      <th>851</th>\n      <td>852</td>\n      <td>0</td>\n      <td>3</td>\n      <td>Svensson, Mr. Johan</td>\n      <td>male</td>\n      <td>74.0</td>\n      <td>0</td>\n      <td>0</td>\n      <td>347060</td>\n      <td>7.7750</td>\n      <td>NaN</td>\n      <td>S</td>\n    </tr>\n  </tbody>\n</table>\n</div>"
          },
          "metadata": {}
        }
      ]
    },
    {
      "cell_type": "code",
      "source": [
        "# lets find the index of the outliers\n",
        "df[(df[\"Age\"] < low) | (df[\"Age\"] > up)].index"
      ],
      "metadata": {
        "execution": {
          "iopub.status.busy": "2021-10-05T16:43:56.005597Z",
          "iopub.execute_input": "2021-10-05T16:43:56.005838Z",
          "iopub.status.idle": "2021-10-05T16:43:56.018972Z",
          "shell.execute_reply.started": "2021-10-05T16:43:56.005809Z",
          "shell.execute_reply": "2021-10-05T16:43:56.018256Z"
        },
        "trusted": true,
        "id": "_VVxl1owkLc8",
        "outputId": "8984026a-83fb-4df1-cf93-1c1f10206d36"
      },
      "execution_count": null,
      "outputs": [
        {
          "execution_count": 5,
          "output_type": "execute_result",
          "data": {
            "text/plain": "Int64Index([33, 54, 96, 116, 280, 456, 493, 630, 672, 745, 851], dtype='int64')"
          },
          "metadata": {}
        }
      ]
    },
    {
      "cell_type": "code",
      "source": [
        "# Lets find do I have any outliers ?\n",
        "df[(df[\"Age\"] > up) | (df[\"Age\"] < low)].any(axis=None)"
      ],
      "metadata": {
        "execution": {
          "iopub.status.busy": "2021-10-05T16:43:56.020268Z",
          "iopub.execute_input": "2021-10-05T16:43:56.021077Z",
          "iopub.status.idle": "2021-10-05T16:43:56.034694Z",
          "shell.execute_reply.started": "2021-10-05T16:43:56.021031Z",
          "shell.execute_reply": "2021-10-05T16:43:56.033790Z"
        },
        "trusted": true,
        "id": "tZbQ3gCxkLc9",
        "outputId": "3af480eb-81cd-486e-808c-1d44f7272812"
      },
      "execution_count": null,
      "outputs": [
        {
          "execution_count": 6,
          "output_type": "execute_result",
          "data": {
            "text/plain": "True"
          },
          "metadata": {}
        }
      ]
    },
    {
      "cell_type": "code",
      "source": [
        "# Lets add functionalty\n",
        "\n",
        "def outlier_thresholds(dataframe, col_name, q1=0.25, q3=0.75):\n",
        "    quartile1 = dataframe[col_name].quantile(q1)\n",
        "    quartile3 = dataframe[col_name].quantile(q3)\n",
        "    interquantile_range = quartile3 - quartile1\n",
        "    up_limit = quartile3 + 1.5 * interquantile_range\n",
        "    low_limit = quartile1 - 1.5 * interquantile_range\n",
        "    return low_limit, up_limit\n",
        "\n",
        "outlier_thresholds(df, \"Age\")\n",
        "outlier_thresholds(df, \"Fare\")"
      ],
      "metadata": {
        "execution": {
          "iopub.status.busy": "2021-10-05T16:43:56.036130Z",
          "iopub.execute_input": "2021-10-05T16:43:56.037032Z",
          "iopub.status.idle": "2021-10-05T16:43:56.053921Z",
          "shell.execute_reply.started": "2021-10-05T16:43:56.036986Z",
          "shell.execute_reply": "2021-10-05T16:43:56.053044Z"
        },
        "trusted": true,
        "id": "zbbMW_4ZkLc9",
        "outputId": "1f2a689e-4eed-4d7d-bd65-d867ce9535a2"
      },
      "execution_count": null,
      "outputs": [
        {
          "execution_count": 7,
          "output_type": "execute_result",
          "data": {
            "text/plain": "(-26.724, 65.6344)"
          },
          "metadata": {}
        }
      ]
    },
    {
      "cell_type": "code",
      "source": [
        "# Lets add check outlier function for further needs (Return Boolean)\n",
        "def check_outlier(dataframe, col_name):\n",
        "    low_limit, up_limit = outlier_thresholds(dataframe, col_name)\n",
        "    if dataframe[(dataframe[col_name] > up_limit) | (dataframe[col_name] < low_limit)].any(axis=None):\n",
        "        return True\n",
        "    else:\n",
        "        return False\n",
        "\n",
        "check_outlier(df, \"Age\")"
      ],
      "metadata": {
        "execution": {
          "iopub.status.busy": "2021-10-05T16:43:56.055217Z",
          "iopub.execute_input": "2021-10-05T16:43:56.055794Z",
          "iopub.status.idle": "2021-10-05T16:43:56.068747Z",
          "shell.execute_reply.started": "2021-10-05T16:43:56.055758Z",
          "shell.execute_reply": "2021-10-05T16:43:56.068030Z"
        },
        "trusted": true,
        "id": "etYcpkO1kLc9",
        "outputId": "1b177160-f86a-4d39-e01c-264fd565bf2e"
      },
      "execution_count": null,
      "outputs": [
        {
          "execution_count": 8,
          "output_type": "execute_result",
          "data": {
            "text/plain": "True"
          },
          "metadata": {}
        }
      ]
    },
    {
      "cell_type": "code",
      "source": [
        "def grab_col_names(dataframe, cat_th=10, car_th=20):\n",
        "    # cat_cols, cat_but_car\n",
        "    cat_cols = [col for col in dataframe.columns if dataframe[col].dtypes == \"O\"]\n",
        "    num_but_cat = [col for col in dataframe.columns if dataframe[col].nunique() < cat_th and\n",
        "                   dataframe[col].dtypes != \"O\"]\n",
        "    cat_but_car = [col for col in dataframe.columns if dataframe[col].nunique() > car_th and\n",
        "                   dataframe[col].dtypes == \"O\"]\n",
        "    cat_cols = cat_cols + num_but_cat\n",
        "    cat_cols = [col for col in cat_cols if col not in cat_but_car]\n",
        "\n",
        "    # num_cols\n",
        "    num_cols = [col for col in dataframe.columns if dataframe[col].dtypes != \"O\"]\n",
        "    num_cols = [col for col in num_cols if col not in num_but_cat]\n",
        "\n",
        "    print(f\"Observations: {dataframe.shape[0]}\")\n",
        "    print(f\"Variables: {dataframe.shape[1]}\")\n",
        "    print(f'cat_cols: {len(cat_cols)}')\n",
        "    print(f'num_cols: {len(num_cols)}')\n",
        "    print(f'cat_but_car: {len(cat_but_car)}')\n",
        "    print(f'num_but_cat: {len(num_but_cat)}')\n",
        "\n",
        "    return cat_cols, num_cols, cat_but_car\n",
        "\n",
        "cat_cols, num_cols, cat_but_car = grab_col_names(df)"
      ],
      "metadata": {
        "execution": {
          "iopub.status.busy": "2021-10-05T16:43:56.070041Z",
          "iopub.execute_input": "2021-10-05T16:43:56.070446Z",
          "iopub.status.idle": "2021-10-05T16:43:56.091502Z",
          "shell.execute_reply.started": "2021-10-05T16:43:56.070416Z",
          "shell.execute_reply": "2021-10-05T16:43:56.090552Z"
        },
        "trusted": true,
        "id": "Ix0XHJN1kLc-",
        "outputId": "c57c1687-5ba4-4976-8acc-442320c4c4d6"
      },
      "execution_count": null,
      "outputs": [
        {
          "name": "stdout",
          "text": "Observations: 891\nVariables: 12\ncat_cols: 6\nnum_cols: 3\ncat_but_car: 3\nnum_but_cat: 4\n",
          "output_type": "stream"
        }
      ]
    },
    {
      "cell_type": "code",
      "source": [
        "for col in num_cols:\n",
        "    print(col, check_outlier(df, col))"
      ],
      "metadata": {
        "execution": {
          "iopub.status.busy": "2021-10-05T16:43:56.094409Z",
          "iopub.execute_input": "2021-10-05T16:43:56.095021Z",
          "iopub.status.idle": "2021-10-05T16:43:56.119128Z",
          "shell.execute_reply.started": "2021-10-05T16:43:56.094985Z",
          "shell.execute_reply": "2021-10-05T16:43:56.118125Z"
        },
        "trusted": true,
        "id": "LVDqW1x8kLc-",
        "outputId": "97f03fdf-0ad2-4c32-f441-8e7a2ecbdcec"
      },
      "execution_count": null,
      "outputs": [
        {
          "name": "stdout",
          "text": "PassengerId False\nAge True\nFare True\n",
          "output_type": "stream"
        }
      ]
    },
    {
      "cell_type": "code",
      "source": [
        "# Lets add function to grab the outliers\n",
        "def grab_outliers(dataframe, col_name, index=False):\n",
        "    low, up = outlier_thresholds(dataframe, col_name)\n",
        "    if dataframe[((dataframe[col_name] < low) | (dataframe[col_name] > up))].shape[0] > 10:\n",
        "        print(dataframe[((dataframe[col_name] < low) | (dataframe[col_name] > up))].head())\n",
        "    else:\n",
        "        print(dataframe[((dataframe[col_name] < low) | (dataframe[col_name] > up))])\n",
        "\n",
        "    if index:\n",
        "        outlier_index = dataframe[((dataframe[col_name] < low) | (dataframe[col_name] > up))].index\n",
        "        return outlier_index\n",
        "\n",
        "grab_outliers(df, \"Age\", True)"
      ],
      "metadata": {
        "execution": {
          "iopub.status.busy": "2021-10-05T16:43:56.120265Z",
          "iopub.execute_input": "2021-10-05T16:43:56.120485Z",
          "iopub.status.idle": "2021-10-05T16:43:56.144364Z",
          "shell.execute_reply.started": "2021-10-05T16:43:56.120458Z",
          "shell.execute_reply": "2021-10-05T16:43:56.143471Z"
        },
        "trusted": true,
        "id": "d6XGv-h1kLc_",
        "outputId": "ce1930b9-4d03-4270-d625-1918d58e19e1"
      },
      "execution_count": null,
      "outputs": [
        {
          "name": "stdout",
          "text": "     PassengerId  Survived  Pclass                            Name   Sex  \\\n33            34         0       2           Wheadon, Mr. Edward H  male   \n54            55         0       1  Ostby, Mr. Engelhart Cornelius  male   \n96            97         0       1       Goldschmidt, Mr. George B  male   \n116          117         0       3            Connors, Mr. Patrick  male   \n280          281         0       3                Duane, Mr. Frank  male   \n\n      Age  SibSp  Parch      Ticket     Fare Cabin Embarked  \n33   66.0      0      0  C.A. 24579  10.5000   NaN        S  \n54   65.0      0      1      113509  61.9792   B30        C  \n96   71.0      0      0    PC 17754  34.6542    A5        C  \n116  70.5      0      0      370369   7.7500   NaN        Q  \n280  65.0      0      0      336439   7.7500   NaN        Q  \n",
          "output_type": "stream"
        },
        {
          "execution_count": 11,
          "output_type": "execute_result",
          "data": {
            "text/plain": "Int64Index([33, 54, 96, 116, 280, 456, 493, 630, 672, 745, 851], dtype='int64')"
          },
          "metadata": {}
        }
      ]
    },
    {
      "cell_type": "code",
      "source": [
        "sns.boxplot(df[\"Age\"])"
      ],
      "metadata": {
        "execution": {
          "iopub.status.busy": "2021-10-05T16:43:56.145446Z",
          "iopub.execute_input": "2021-10-05T16:43:56.145683Z",
          "iopub.status.idle": "2021-10-05T16:43:56.398409Z",
          "shell.execute_reply.started": "2021-10-05T16:43:56.145655Z",
          "shell.execute_reply": "2021-10-05T16:43:56.397082Z"
        },
        "trusted": true,
        "id": "Uadjt5T0kLc_",
        "outputId": "386a83fa-9b8d-4b63-96b6-5e47cb3b8b65"
      },
      "execution_count": null,
      "outputs": [
        {
          "name": "stderr",
          "text": "/opt/conda/lib/python3.7/site-packages/seaborn/_decorators.py:43: FutureWarning: Pass the following variable as a keyword arg: x. From version 0.12, the only valid positional argument will be `data`, and passing other arguments without an explicit keyword will result in an error or misinterpretation.\n  FutureWarning\n",
          "output_type": "stream"
        },
        {
          "execution_count": 12,
          "output_type": "execute_result",
          "data": {
            "text/plain": "<AxesSubplot:xlabel='Age'>"
          },
          "metadata": {}
        },
        {
          "output_type": "display_data",
          "data": {
            "text/plain": "<Figure size 432x288 with 1 Axes>",
            "image/png": "[encoded data removed]"
          },
          "metadata": {
            "needs_background": "light"
          }
        }
      ]
    },
    {
      "cell_type": "markdown",
      "source": [
        "__Solving Outliers Problem__\n",
        "\n",
        "We will check dropping and capping methods in order to solve outlier problems"
      ],
      "metadata": {
        "id": "VFT24Kd8kLc_"
      }
    },
    {
      "cell_type": "code",
      "source": [
        "# Dropping the outlier data points\n",
        "def remove_outlier(dataframe, col_name):\n",
        "    low_limit, up_limit = outlier_thresholds(dataframe, col_name)\n",
        "    df_without_outliers = dataframe[~((dataframe[col_name] < low_limit) | (dataframe[col_name] > up_limit))]\n",
        "    return df_without_outliers\n",
        "\n",
        "remove_outlier(df, \"Fare\").shape"
      ],
      "metadata": {
        "execution": {
          "iopub.status.busy": "2021-10-05T16:43:56.399855Z",
          "iopub.execute_input": "2021-10-05T16:43:56.400107Z",
          "iopub.status.idle": "2021-10-05T16:43:56.418199Z",
          "shell.execute_reply.started": "2021-10-05T16:43:56.400078Z",
          "shell.execute_reply": "2021-10-05T16:43:56.416873Z"
        },
        "trusted": true,
        "id": "fSUSW3cOkLc_",
        "outputId": "ec26405b-65ea-496d-8643-71f4b8b71790"
      },
      "execution_count": null,
      "outputs": [
        {
          "execution_count": 13,
          "output_type": "execute_result",
          "data": {
            "text/plain": "(775, 12)"
          },
          "metadata": {}
        }
      ]
    },
    {
      "cell_type": "code",
      "source": [
        "for col in [\"Age\", \"Fare\"]:\n",
        "    new_df = remove_outlier(df, col)\n",
        "\n",
        "df.shape[0] - new_df.shape[0]"
      ],
      "metadata": {
        "execution": {
          "iopub.status.busy": "2021-10-05T16:43:56.419830Z",
          "iopub.execute_input": "2021-10-05T16:43:56.420180Z",
          "iopub.status.idle": "2021-10-05T16:43:56.443242Z",
          "shell.execute_reply.started": "2021-10-05T16:43:56.420137Z",
          "shell.execute_reply": "2021-10-05T16:43:56.440573Z"
        },
        "trusted": true,
        "id": "H7UY5m00kLdA",
        "outputId": "ed98aea9-0427-46d2-e4ff-58f48db4bf7e"
      },
      "execution_count": null,
      "outputs": [
        {
          "execution_count": 14,
          "output_type": "execute_result",
          "data": {
            "text/plain": "116"
          },
          "metadata": {}
        }
      ]
    },
    {
      "cell_type": "code",
      "source": [
        "def replace_with_thresholds(dataframe, variable):\n",
        "    low_limit, up_limit = outlier_thresholds(dataframe, variable)\n",
        "    dataframe.loc[(dataframe[variable] < low_limit), variable] = low_limit\n",
        "    dataframe.loc[(dataframe[variable] > up_limit), variable] = up_limit\n",
        "\n",
        "remove_outlier(df, \"Age\").shape\n",
        "replace_with_thresholds(df, \"Age\")"
      ],
      "metadata": {
        "execution": {
          "iopub.status.busy": "2021-10-05T16:43:56.444914Z",
          "iopub.execute_input": "2021-10-05T16:43:56.445194Z",
          "iopub.status.idle": "2021-10-05T16:43:56.460782Z",
          "shell.execute_reply.started": "2021-10-05T16:43:56.445165Z",
          "shell.execute_reply": "2021-10-05T16:43:56.459794Z"
        },
        "trusted": true,
        "id": "iCagC_WKkLdA"
      },
      "execution_count": null,
      "outputs": []
    },
    {
      "cell_type": "code",
      "source": [
        "# We can see that all the outlier data points have gone\n",
        "sns.boxplot(df[\"Age\"])"
      ],
      "metadata": {
        "execution": {
          "iopub.status.busy": "2021-10-05T16:43:56.462149Z",
          "iopub.execute_input": "2021-10-05T16:43:56.462372Z",
          "iopub.status.idle": "2021-10-05T16:43:56.675027Z",
          "shell.execute_reply.started": "2021-10-05T16:43:56.462344Z",
          "shell.execute_reply": "2021-10-05T16:43:56.674120Z"
        },
        "trusted": true,
        "id": "SnnCrPRakLdA",
        "outputId": "d3b049a1-31d9-4f78-c49a-de521a351a39"
      },
      "execution_count": null,
      "outputs": [
        {
          "name": "stderr",
          "text": "/opt/conda/lib/python3.7/site-packages/seaborn/_decorators.py:43: FutureWarning: Pass the following variable as a keyword arg: x. From version 0.12, the only valid positional argument will be `data`, and passing other arguments without an explicit keyword will result in an error or misinterpretation.\n  FutureWarning\n",
          "output_type": "stream"
        },
        {
          "execution_count": 16,
          "output_type": "execute_result",
          "data": {
            "text/plain": "<AxesSubplot:xlabel='Age'>"
          },
          "metadata": {}
        },
        {
          "output_type": "display_data",
          "data": {
            "text/plain": "<Figure size 432x288 with 1 Axes>",
            "image/png": "[encoded data removed]"
          },
          "metadata": {
            "needs_background": "light"
          }
        }
      ]
    },
    {
      "cell_type": "markdown",
      "source": [
        "__Multivariate Outlier Analysis (Local Outlier Factor)__"
      ],
      "metadata": {
        "id": "ljMyrzKXkLdB"
      }
    },
    {
      "cell_type": "code",
      "source": [
        "df = sns.load_dataset('diamonds')\n",
        "df = df.select_dtypes(include=['float64', 'int64'])\n",
        "df = df.dropna()\n",
        "df.head()"
      ],
      "metadata": {
        "execution": {
          "iopub.status.busy": "2021-10-05T16:43:56.676279Z",
          "iopub.execute_input": "2021-10-05T16:43:56.676628Z",
          "iopub.status.idle": "2021-10-05T16:43:59.353344Z",
          "shell.execute_reply.started": "2021-10-05T16:43:56.676598Z",
          "shell.execute_reply": "2021-10-05T16:43:59.352286Z"
        },
        "trusted": true,
        "id": "DbQBgINDkLdB",
        "outputId": "f7fbc17e-da01-41f4-9d70-910a6f38daa4"
      },
      "execution_count": null,
      "outputs": [
        {
          "execution_count": 17,
          "output_type": "execute_result",
          "data": {
            "text/plain": "   carat  depth  table  price     x     y     z\n0   0.23   61.5   55.0    326  3.95  3.98  2.43\n1   0.21   59.8   61.0    326  3.89  3.84  2.31\n2   0.23   56.9   65.0    327  4.05  4.07  2.31\n3   0.29   62.4   58.0    334  4.20  4.23  2.63\n4   0.31   63.3   58.0    335  4.34  4.35  2.75",
            "text/html": "<div>\n<style scoped>\n    .dataframe tbody tr th:only-of-type {\n        vertical-align: middle;\n    }\n\n    .dataframe tbody tr th {\n        vertical-align: top;\n    }\n\n    .dataframe thead th {\n        text-align: right;\n    }\n</style>\n<table border=\"1\" class=\"dataframe\">\n  <thead>\n    <tr style=\"text-align: right;\">\n      <th></th>\n      <th>carat</th>\n      <th>depth</th>\n      <th>table</th>\n      <th>price</th>\n      <th>x</th>\n      <th>y</th>\n      <th>z</th>\n    </tr>\n  </thead>\n  <tbody>\n    <tr>\n      <th>0</th>\n      <td>0.23</td>\n      <td>61.5</td>\n      <td>55.0</td>\n      <td>326</td>\n      <td>3.95</td>\n      <td>3.98</td>\n      <td>2.43</td>\n    </tr>\n    <tr>\n      <th>1</th>\n      <td>0.21</td>\n      <td>59.8</td>\n      <td>61.0</td>\n      <td>326</td>\n      <td>3.89</td>\n      <td>3.84</td>\n      <td>2.31</td>\n    </tr>\n    <tr>\n      <th>2</th>\n      <td>0.23</td>\n      <td>56.9</td>\n      <td>65.0</td>\n      <td>327</td>\n      <td>4.05</td>\n      <td>4.07</td>\n      <td>2.31</td>\n    </tr>\n    <tr>\n      <th>3</th>\n      <td>0.29</td>\n      <td>62.4</td>\n      <td>58.0</td>\n      <td>334</td>\n      <td>4.20</td>\n      <td>4.23</td>\n      <td>2.63</td>\n    </tr>\n    <tr>\n      <th>4</th>\n      <td>0.31</td>\n      <td>63.3</td>\n      <td>58.0</td>\n      <td>335</td>\n      <td>4.34</td>\n      <td>4.35</td>\n      <td>2.75</td>\n    </tr>\n  </tbody>\n</table>\n</div>"
          },
          "metadata": {}
        }
      ]
    },
    {
      "cell_type": "code",
      "source": [
        "for col in df.columns:\n",
        "    print(col, check_outlier(df, col))"
      ],
      "metadata": {
        "execution": {
          "iopub.status.busy": "2021-10-05T16:43:59.354492Z",
          "iopub.execute_input": "2021-10-05T16:43:59.354750Z",
          "iopub.status.idle": "2021-10-05T16:43:59.400161Z",
          "shell.execute_reply.started": "2021-10-05T16:43:59.354721Z",
          "shell.execute_reply": "2021-10-05T16:43:59.399199Z"
        },
        "trusted": true,
        "id": "HDjqCODvkLdB",
        "outputId": "3b01f4cf-ee00-4316-ee14-56fc1bc79815"
      },
      "execution_count": null,
      "outputs": [
        {
          "name": "stdout",
          "text": "carat True\ndepth True\ntable True\nprice True\nx True\ny True\nz True\n",
          "output_type": "stream"
        }
      ]
    },
    {
      "cell_type": "code",
      "source": [
        "# The higher LOF score means the more normal\n",
        "clf = LocalOutlierFactor(n_neighbors=20)\n",
        "clf.fit_predict(df)\n",
        "df_scores = clf.negative_outlier_factor_\n",
        "np.sort(df_scores)[0:5] # selecting the worst 5 five scores"
      ],
      "metadata": {
        "execution": {
          "iopub.status.busy": "2021-10-05T16:43:59.401436Z",
          "iopub.execute_input": "2021-10-05T16:43:59.401672Z",
          "iopub.status.idle": "2021-10-05T16:44:00.011866Z",
          "shell.execute_reply.started": "2021-10-05T16:43:59.401644Z",
          "shell.execute_reply": "2021-10-05T16:44:00.010971Z"
        },
        "trusted": true,
        "id": "8mUeOZegkLdB",
        "outputId": "fd6e29fe-08dd-4d95-ad23-2a728a08c831"
      },
      "execution_count": null,
      "outputs": [
        {
          "execution_count": 19,
          "output_type": "execute_result",
          "data": {
            "text/plain": "array([-8.60430658, -8.20889984, -5.86084355, -4.98415175, -4.81502092])"
          },
          "metadata": {}
        }
      ]
    },
    {
      "cell_type": "code",
      "source": [
        "scores = pd.DataFrame(np.sort(df_scores))\n",
        "scores.plot(stacked=True, xlim=[0, 20], style='.-')\n",
        "plt.show()"
      ],
      "metadata": {
        "execution": {
          "iopub.status.busy": "2021-10-05T16:44:00.013362Z",
          "iopub.execute_input": "2021-10-05T16:44:00.013612Z",
          "iopub.status.idle": "2021-10-05T16:44:00.324824Z",
          "shell.execute_reply.started": "2021-10-05T16:44:00.013583Z",
          "shell.execute_reply": "2021-10-05T16:44:00.323818Z"
        },
        "trusted": true,
        "id": "XNUK9OKLkLdB",
        "outputId": "f6901a9e-2304-4e64-c85b-587afb5c4968"
      },
      "execution_count": null,
      "outputs": [
        {
          "output_type": "display_data",
          "data": {
            "text/plain": "<Figure size 432x288 with 1 Axes>",
            "image/png": "[encoded data removed]"
          },
          "metadata": {
            "needs_background": "light"
          }
        }
      ]
    },
    {
      "cell_type": "code",
      "source": [
        "th = np.sort(df_scores)[3]\n",
        "df[df_scores < th]\n",
        "df[df_scores < th].shape\n",
        "df.describe([0.01, 0.05, 0.75, 0.90, 0.99]).T\n",
        "df[df_scores < th].index"
      ],
      "metadata": {
        "execution": {
          "iopub.status.busy": "2021-10-05T16:44:00.326362Z",
          "iopub.execute_input": "2021-10-05T16:44:00.326741Z",
          "iopub.status.idle": "2021-10-05T16:44:00.372184Z",
          "shell.execute_reply.started": "2021-10-05T16:44:00.326697Z",
          "shell.execute_reply": "2021-10-05T16:44:00.371219Z"
        },
        "trusted": true,
        "id": "q-UyVVsokLdC",
        "outputId": "73acbbec-e749-4690-c6b9-e6362bcc8841"
      },
      "execution_count": null,
      "outputs": [
        {
          "execution_count": 21,
          "output_type": "execute_result",
          "data": {
            "text/plain": "Int64Index([41918, 48410, 49189], dtype='int64')"
          },
          "metadata": {}
        }
      ]
    },
    {
      "cell_type": "code",
      "source": [
        "df[df_scores < th].drop(axis=0, labels=df[df_scores < th].index)"
      ],
      "metadata": {
        "execution": {
          "iopub.status.busy": "2021-10-05T16:44:00.373160Z",
          "iopub.execute_input": "2021-10-05T16:44:00.373376Z",
          "iopub.status.idle": "2021-10-05T16:44:00.386821Z",
          "shell.execute_reply.started": "2021-10-05T16:44:00.373350Z",
          "shell.execute_reply": "2021-10-05T16:44:00.385619Z"
        },
        "trusted": true,
        "id": "fiXzsqgqkLdC",
        "outputId": "95a11c52-5d7a-482b-bcca-021c16479bdb"
      },
      "execution_count": null,
      "outputs": [
        {
          "execution_count": 22,
          "output_type": "execute_result",
          "data": {
            "text/plain": "Empty DataFrame\nColumns: [carat, depth, table, price, x, y, z]\nIndex: []",
            "text/html": "<div>\n<style scoped>\n    .dataframe tbody tr th:only-of-type {\n        vertical-align: middle;\n    }\n\n    .dataframe tbody tr th {\n        vertical-align: top;\n    }\n\n    .dataframe thead th {\n        text-align: right;\n    }\n</style>\n<table border=\"1\" class=\"dataframe\">\n  <thead>\n    <tr style=\"text-align: right;\">\n      <th></th>\n      <th>carat</th>\n      <th>depth</th>\n      <th>table</th>\n      <th>price</th>\n      <th>x</th>\n      <th>y</th>\n      <th>z</th>\n    </tr>\n  </thead>\n  <tbody>\n  </tbody>\n</table>\n</div>"
          },
          "metadata": {}
        }
      ]
    },
    {
      "cell_type": "markdown",
      "source": [
        "# 2.Missing Values\n",
        "\n",
        "The imputation method develops reasonable guesses for missing data. It’s most useful when the percentage of missing data is low. If the portion of missing data is too high, the results lack natural variation that could result in an effective model.\n",
        "\n",
        "The other option is to remove data. When dealing with data that is missing at random, related data can be deleted to reduce bias. Removing data may not be the best option if there are not enough observations to result in a reliable analysis. In some situations, observation of specific events or factors may be required.\n",
        "\n",
        "💎 Direct removal of missing value observations from the data set and not examining the randomness will lose the statistical reliability of inferences and modelling studies (Alpar, 2011).\n",
        "\n",
        "![image.png](https://d35fo82fjcw0y8.cloudfront.net/2016/04/03210550/missing-values-.jpg)\n"
      ],
      "metadata": {
        "id": "cCXC61owkLdC"
      }
    },
    {
      "cell_type": "markdown",
      "source": [
        "## Code"
      ],
      "metadata": {
        "id": "96HhkH8lkLdD"
      }
    },
    {
      "cell_type": "code",
      "source": [
        "V1 = np.array([1, 3, 6, np.NaN, 7, 1, np.NaN, 9, 15])\n",
        "V2 = np.array([7, np.NaN, 5, 8, 12, np.NaN, np.NaN, 2, 3])\n",
        "V3 = np.array([np.NaN, 12, 5, 6, 14, 7, np.NaN, 2, 31])\n",
        "V4 = np.array([\"IT\", \"IT\", \"IK\", \"IK\", \"IK\", \"IK\", \"IT\", \"IT\", \"IT\"])\n",
        "\n",
        "dff = pd.DataFrame(\n",
        "    {\"salary\": V1,\n",
        "     \"V2\": V2,\n",
        "     \"V3\": V3,\n",
        "     \"departmant\": V4}\n",
        ")"
      ],
      "metadata": {
        "execution": {
          "iopub.status.busy": "2021-10-05T16:44:00.388169Z",
          "iopub.execute_input": "2021-10-05T16:44:00.388414Z",
          "iopub.status.idle": "2021-10-05T16:44:00.398105Z",
          "shell.execute_reply.started": "2021-10-05T16:44:00.388385Z",
          "shell.execute_reply": "2021-10-05T16:44:00.396897Z"
        },
        "trusted": true,
        "id": "9-CgEKwikLdD"
      },
      "execution_count": null,
      "outputs": []
    },
    {
      "cell_type": "code",
      "source": [
        "# Lets catch the missing values\n",
        "dff.isnull().values.any()"
      ],
      "metadata": {
        "execution": {
          "iopub.status.busy": "2021-10-05T16:44:00.399415Z",
          "iopub.execute_input": "2021-10-05T16:44:00.399705Z",
          "iopub.status.idle": "2021-10-05T16:44:00.412401Z",
          "shell.execute_reply.started": "2021-10-05T16:44:00.399675Z",
          "shell.execute_reply": "2021-10-05T16:44:00.411404Z"
        },
        "trusted": true,
        "id": "vfBG0EVYkLdD",
        "outputId": "c402af0b-92fd-48f9-fbe8-3cfd95ced539"
      },
      "execution_count": null,
      "outputs": [
        {
          "execution_count": 24,
          "output_type": "execute_result",
          "data": {
            "text/plain": "True"
          },
          "metadata": {}
        }
      ]
    },
    {
      "cell_type": "code",
      "source": [
        "# Catching the missing value counts for each columns\n",
        "dff.isnull().sum()"
      ],
      "metadata": {
        "execution": {
          "iopub.status.busy": "2021-10-05T16:44:00.413769Z",
          "iopub.execute_input": "2021-10-05T16:44:00.414082Z",
          "iopub.status.idle": "2021-10-05T16:44:00.425734Z",
          "shell.execute_reply.started": "2021-10-05T16:44:00.414050Z",
          "shell.execute_reply": "2021-10-05T16:44:00.424693Z"
        },
        "trusted": true,
        "id": "9ixDVfUXkLdD",
        "outputId": "92a4e176-8b99-4cb5-f382-23771a97913b"
      },
      "execution_count": null,
      "outputs": [
        {
          "execution_count": 25,
          "output_type": "execute_result",
          "data": {
            "text/plain": "salary        2\nV2            3\nV3            2\ndepartmant    0\ndtype: int64"
          },
          "metadata": {}
        }
      ]
    },
    {
      "cell_type": "code",
      "source": [
        "# Catching the not null data counts for each columns\n",
        "dff.notnull().sum()"
      ],
      "metadata": {
        "execution": {
          "iopub.status.busy": "2021-10-05T16:44:00.427291Z",
          "iopub.execute_input": "2021-10-05T16:44:00.427601Z",
          "iopub.status.idle": "2021-10-05T16:44:00.442741Z",
          "shell.execute_reply.started": "2021-10-05T16:44:00.427565Z",
          "shell.execute_reply": "2021-10-05T16:44:00.441660Z"
        },
        "trusted": true,
        "id": "6WSxA9DvkLdD",
        "outputId": "10c95365-7583-4b78-9461-2ea87fd44f9c"
      },
      "execution_count": null,
      "outputs": [
        {
          "execution_count": 26,
          "output_type": "execute_result",
          "data": {
            "text/plain": "salary        7\nV2            6\nV3            7\ndepartmant    9\ndtype: int64"
          },
          "metadata": {}
        }
      ]
    },
    {
      "cell_type": "code",
      "source": [
        "# Catching total missing value counts for all the dataset\n",
        "dff.isnull().sum().sum()"
      ],
      "metadata": {
        "execution": {
          "iopub.status.busy": "2021-10-05T16:44:00.444096Z",
          "iopub.execute_input": "2021-10-05T16:44:00.444369Z",
          "iopub.status.idle": "2021-10-05T16:44:00.456064Z",
          "shell.execute_reply.started": "2021-10-05T16:44:00.444340Z",
          "shell.execute_reply": "2021-10-05T16:44:00.455107Z"
        },
        "trusted": true,
        "id": "ak9EYbTYkLdE",
        "outputId": "20814c0e-973e-4f01-aafd-d26b751d70c3"
      },
      "execution_count": null,
      "outputs": [
        {
          "execution_count": 27,
          "output_type": "execute_result",
          "data": {
            "text/plain": "7"
          },
          "metadata": {}
        }
      ]
    },
    {
      "cell_type": "code",
      "source": [
        "# Catching the columns that have at least 1 misssing value\n",
        "dff[dff.isnull().any(axis=1)]"
      ],
      "metadata": {
        "execution": {
          "iopub.status.busy": "2021-10-05T16:44:00.461747Z",
          "iopub.execute_input": "2021-10-05T16:44:00.462683Z",
          "iopub.status.idle": "2021-10-05T16:44:00.477433Z",
          "shell.execute_reply.started": "2021-10-05T16:44:00.462630Z",
          "shell.execute_reply": "2021-10-05T16:44:00.476797Z"
        },
        "trusted": true,
        "id": "EhlR5NYNkLdE",
        "outputId": "64c65fc9-4524-4286-c8ca-b8a77d813c0d"
      },
      "execution_count": null,
      "outputs": [
        {
          "execution_count": 28,
          "output_type": "execute_result",
          "data": {
            "text/plain": "   salary   V2    V3 departmant\n0     1.0  7.0   NaN         IT\n1     3.0  NaN  12.0         IT\n3     NaN  8.0   6.0         IK\n5     1.0  NaN   7.0         IK\n6     NaN  NaN   NaN         IT",
            "text/html": "<div>\n<style scoped>\n    .dataframe tbody tr th:only-of-type {\n        vertical-align: middle;\n    }\n\n    .dataframe tbody tr th {\n        vertical-align: top;\n    }\n\n    .dataframe thead th {\n        text-align: right;\n    }\n</style>\n<table border=\"1\" class=\"dataframe\">\n  <thead>\n    <tr style=\"text-align: right;\">\n      <th></th>\n      <th>salary</th>\n      <th>V2</th>\n      <th>V3</th>\n      <th>departmant</th>\n    </tr>\n  </thead>\n  <tbody>\n    <tr>\n      <th>0</th>\n      <td>1.0</td>\n      <td>7.0</td>\n      <td>NaN</td>\n      <td>IT</td>\n    </tr>\n    <tr>\n      <th>1</th>\n      <td>3.0</td>\n      <td>NaN</td>\n      <td>12.0</td>\n      <td>IT</td>\n    </tr>\n    <tr>\n      <th>3</th>\n      <td>NaN</td>\n      <td>8.0</td>\n      <td>6.0</td>\n      <td>IK</td>\n    </tr>\n    <tr>\n      <th>5</th>\n      <td>1.0</td>\n      <td>NaN</td>\n      <td>7.0</td>\n      <td>IK</td>\n    </tr>\n    <tr>\n      <th>6</th>\n      <td>NaN</td>\n      <td>NaN</td>\n      <td>NaN</td>\n      <td>IT</td>\n    </tr>\n  </tbody>\n</table>\n</div>"
          },
          "metadata": {}
        }
      ]
    },
    {
      "cell_type": "code",
      "source": [
        "# Lets add functionality\n",
        "\n",
        "def missing_values_table(dataframe, na_name=False):\n",
        "    # The columns name that contains missing value\n",
        "    na_columns = [col for col in dataframe.columns if dataframe[col].isnull().sum() > 0]\n",
        "    # Number of missing data\n",
        "    n_miss = dataframe[na_columns].isnull().sum().sort_values(ascending=False)\n",
        "    # Ration of the missing data points over the dataset\n",
        "    ratio = (dataframe[na_columns].isnull().sum() / dataframe.shape[0] * 100).sort_values(ascending=False)\n",
        "    # Missing dataframe\n",
        "    missing_df = pd.concat([n_miss, np.round(ratio, 2)], axis=1, keys=['n_miss', 'ratio'])\n",
        "    print(missing_df, end=\"\\n\")\n",
        "    if na_name:\n",
        "        return na_columns\n",
        "\n",
        "missing_values_table(dff, True)"
      ],
      "metadata": {
        "execution": {
          "iopub.status.busy": "2021-10-05T16:44:00.478782Z",
          "iopub.execute_input": "2021-10-05T16:44:00.479830Z",
          "iopub.status.idle": "2021-10-05T16:44:00.500833Z",
          "shell.execute_reply.started": "2021-10-05T16:44:00.479763Z",
          "shell.execute_reply": "2021-10-05T16:44:00.499790Z"
        },
        "trusted": true,
        "id": "YR0WY6e1kLdE",
        "outputId": "8cad1078-15ef-437c-a771-1be71210f63b"
      },
      "execution_count": null,
      "outputs": [
        {
          "name": "stdout",
          "text": "        n_miss  ratio\nV2           3  33.33\nsalary       2  22.22\nV3           2  22.22\n",
          "output_type": "stream"
        },
        {
          "execution_count": 29,
          "output_type": "execute_result",
          "data": {
            "text/plain": "['salary', 'V2', 'V3']"
          },
          "metadata": {}
        }
      ]
    },
    {
      "cell_type": "markdown",
      "source": [
        "## We have defined the missing data points, so how can we solve the missing data problem ?\n",
        "\n",
        "There are some approach to achieve this goal as below.\n",
        "\n",
        "- Dropping the missing data points\n",
        "\n",
        "- Assigning mean, median value of the related column of the dataset\n",
        "\n",
        "- Using imputer to fill the missing data points\n",
        "\n",
        "- Value Assignment in Categorical Variable Breakdown\n",
        "\n",
        "- Using predictive methods to fill missing data points"
      ],
      "metadata": {
        "id": "W4vYsg0hkLdE"
      }
    },
    {
      "cell_type": "code",
      "source": [
        "df = pd.read_csv(\"../input/data-science-day1-titanic/DSB_Day1_Titanic_train.csv\")\n",
        "df.isnull().any()"
      ],
      "metadata": {
        "execution": {
          "iopub.status.busy": "2021-10-05T16:44:00.502513Z",
          "iopub.execute_input": "2021-10-05T16:44:00.503382Z",
          "iopub.status.idle": "2021-10-05T16:44:00.520748Z",
          "shell.execute_reply.started": "2021-10-05T16:44:00.503347Z",
          "shell.execute_reply": "2021-10-05T16:44:00.519809Z"
        },
        "trusted": true,
        "id": "9N2NvDB5kLdF",
        "outputId": "c335107a-06bc-4594-e6c3-665b6219df1d"
      },
      "execution_count": null,
      "outputs": [
        {
          "execution_count": 30,
          "output_type": "execute_result",
          "data": {
            "text/plain": "PassengerId    False\nSurvived       False\nPclass         False\nName           False\nSex            False\nAge             True\nSibSp          False\nParch          False\nTicket         False\nFare           False\nCabin           True\nEmbarked        True\ndtype: bool"
          },
          "metadata": {}
        }
      ]
    },
    {
      "cell_type": "code",
      "source": [
        "# Dropping the missing data points\n",
        "df.dropna()"
      ],
      "metadata": {
        "execution": {
          "iopub.status.busy": "2021-10-05T16:44:00.521934Z",
          "iopub.execute_input": "2021-10-05T16:44:00.522199Z",
          "iopub.status.idle": "2021-10-05T16:44:00.554209Z",
          "shell.execute_reply.started": "2021-10-05T16:44:00.522170Z",
          "shell.execute_reply": "2021-10-05T16:44:00.553176Z"
        },
        "trusted": true,
        "id": "0iX1Kn5lkLdG",
        "outputId": "f911e75f-39fd-4cfb-a280-56a1892a3298"
      },
      "execution_count": null,
      "outputs": [
        {
          "execution_count": 31,
          "output_type": "execute_result",
          "data": {
            "text/plain": "     PassengerId  Survived  Pclass  \\\n1              2         1       1   \n3              4         1       1   \n6              7         0       1   \n10            11         1       3   \n11            12         1       1   \n..           ...       ...     ...   \n871          872         1       1   \n872          873         0       1   \n879          880         1       1   \n887          888         1       1   \n889          890         1       1   \n\n                                                  Name     Sex   Age  SibSp  \\\n1    Cumings, Mrs. John Bradley (Florence Briggs Th...  female  38.0      1   \n3         Futrelle, Mrs. Jacques Heath (Lily May Peel)  female  35.0      1   \n6                              McCarthy, Mr. Timothy J    male  54.0      0   \n10                     Sandstrom, Miss. Marguerite Rut  female   4.0      1   \n11                            Bonnell, Miss. Elizabeth  female  58.0      0   \n..                                                 ...     ...   ...    ...   \n871   Beckwith, Mrs. Richard Leonard (Sallie Monypeny)  female  47.0      1   \n872                           Carlsson, Mr. Frans Olof    male  33.0      0   \n879      Potter, Mrs. Thomas Jr (Lily Alexenia Wilson)  female  56.0      0   \n887                       Graham, Miss. Margaret Edith  female  19.0      0   \n889                              Behr, Mr. Karl Howell    male  26.0      0   \n\n     Parch    Ticket     Fare        Cabin Embarked  \n1        0  PC 17599  71.2833          C85        C  \n3        0    113803  53.1000         C123        S  \n6        0     17463  51.8625          E46        S  \n10       1   PP 9549  16.7000           G6        S  \n11       0    113783  26.5500         C103        S  \n..     ...       ...      ...          ...      ...  \n871      1     11751  52.5542          D35        S  \n872      0       695   5.0000  B51 B53 B55        S  \n879      1     11767  83.1583          C50        C  \n887      0    112053  30.0000          B42        S  \n889      0    111369  30.0000         C148        C  \n\n[183 rows x 12 columns]",
            "text/html": "<div>\n<style scoped>\n    .dataframe tbody tr th:only-of-type {\n        vertical-align: middle;\n    }\n\n    .dataframe tbody tr th {\n        vertical-align: top;\n    }\n\n    .dataframe thead th {\n        text-align: right;\n    }\n</style>\n<table border=\"1\" class=\"dataframe\">\n  <thead>\n    <tr style=\"text-align: right;\">\n      <th></th>\n      <th>PassengerId</th>\n      <th>Survived</th>\n      <th>Pclass</th>\n      <th>Name</th>\n      <th>Sex</th>\n      <th>Age</th>\n      <th>SibSp</th>\n      <th>Parch</th>\n      <th>Ticket</th>\n      <th>Fare</th>\n      <th>Cabin</th>\n      <th>Embarked</th>\n    </tr>\n  </thead>\n  <tbody>\n    <tr>\n      <th>1</th>\n      <td>2</td>\n      <td>1</td>\n      <td>1</td>\n      <td>Cumings, Mrs. John Bradley (Florence Briggs Th...</td>\n      <td>female</td>\n      <td>38.0</td>\n      <td>1</td>\n      <td>0</td>\n      <td>PC 17599</td>\n      <td>71.2833</td>\n      <td>C85</td>\n      <td>C</td>\n    </tr>\n    <tr>\n      <th>3</th>\n      <td>4</td>\n      <td>1</td>\n      <td>1</td>\n      <td>Futrelle, Mrs. Jacques Heath (Lily May Peel)</td>\n      <td>female</td>\n      <td>35.0</td>\n      <td>1</td>\n      <td>0</td>\n      <td>113803</td>\n      <td>53.1000</td>\n      <td>C123</td>\n      <td>S</td>\n    </tr>\n    <tr>\n      <th>6</th>\n      <td>7</td>\n      <td>0</td>\n      <td>1</td>\n      <td>McCarthy, Mr. Timothy J</td>\n      <td>male</td>\n      <td>54.0</td>\n      <td>0</td>\n      <td>0</td>\n      <td>17463</td>\n      <td>51.8625</td>\n      <td>E46</td>\n      <td>S</td>\n    </tr>\n    <tr>\n      <th>10</th>\n      <td>11</td>\n      <td>1</td>\n      <td>3</td>\n      <td>Sandstrom, Miss. Marguerite Rut</td>\n      <td>female</td>\n      <td>4.0</td>\n      <td>1</td>\n      <td>1</td>\n      <td>PP 9549</td>\n      <td>16.7000</td>\n      <td>G6</td>\n      <td>S</td>\n    </tr>\n    <tr>\n      <th>11</th>\n      <td>12</td>\n      <td>1</td>\n      <td>1</td>\n      <td>Bonnell, Miss. Elizabeth</td>\n      <td>female</td>\n      <td>58.0</td>\n      <td>0</td>\n      <td>0</td>\n      <td>113783</td>\n      <td>26.5500</td>\n      <td>C103</td>\n      <td>S</td>\n    </tr>\n    <tr>\n      <th>...</th>\n      <td>...</td>\n      <td>...</td>\n      <td>...</td>\n      <td>...</td>\n      <td>...</td>\n      <td>...</td>\n      <td>...</td>\n      <td>...</td>\n      <td>...</td>\n      <td>...</td>\n      <td>...</td>\n      <td>...</td>\n    </tr>\n    <tr>\n      <th>871</th>\n      <td>872</td>\n      <td>1</td>\n      <td>1</td>\n      <td>Beckwith, Mrs. Richard Leonard (Sallie Monypeny)</td>\n      <td>female</td>\n      <td>47.0</td>\n      <td>1</td>\n      <td>1</td>\n      <td>11751</td>\n      <td>52.5542</td>\n      <td>D35</td>\n      <td>S</td>\n    </tr>\n    <tr>\n      <th>872</th>\n      <td>873</td>\n      <td>0</td>\n      <td>1</td>\n      <td>Carlsson, Mr. Frans Olof</td>\n      <td>male</td>\n      <td>33.0</td>\n      <td>0</td>\n      <td>0</td>\n      <td>695</td>\n      <td>5.0000</td>\n      <td>B51 B53 B55</td>\n      <td>S</td>\n    </tr>\n    <tr>\n      <th>879</th>\n      <td>880</td>\n      <td>1</td>\n      <td>1</td>\n      <td>Potter, Mrs. Thomas Jr (Lily Alexenia Wilson)</td>\n      <td>female</td>\n      <td>56.0</td>\n      <td>0</td>\n      <td>1</td>\n      <td>11767</td>\n      <td>83.1583</td>\n      <td>C50</td>\n      <td>C</td>\n    </tr>\n    <tr>\n      <th>887</th>\n      <td>888</td>\n      <td>1</td>\n      <td>1</td>\n      <td>Graham, Miss. Margaret Edith</td>\n      <td>female</td>\n      <td>19.0</td>\n      <td>0</td>\n      <td>0</td>\n      <td>112053</td>\n      <td>30.0000</td>\n      <td>B42</td>\n      <td>S</td>\n    </tr>\n    <tr>\n      <th>889</th>\n      <td>890</td>\n      <td>1</td>\n      <td>1</td>\n      <td>Behr, Mr. Karl Howell</td>\n      <td>male</td>\n      <td>26.0</td>\n      <td>0</td>\n      <td>0</td>\n      <td>111369</td>\n      <td>30.0000</td>\n      <td>C148</td>\n      <td>C</td>\n    </tr>\n  </tbody>\n</table>\n<p>183 rows × 12 columns</p>\n</div>"
          },
          "metadata": {}
        }
      ]
    },
    {
      "cell_type": "code",
      "source": [
        "# Assigning mean, median value of the related column of the dataset\n",
        "df[\"Age\"].fillna(0)\n",
        "df[\"Age\"].fillna(df[\"Age\"].mean())\n",
        "df[\"Age\"].fillna(df[\"Age\"].median())"
      ],
      "metadata": {
        "execution": {
          "iopub.status.busy": "2021-10-05T16:44:00.555573Z",
          "iopub.execute_input": "2021-10-05T16:44:00.556497Z",
          "iopub.status.idle": "2021-10-05T16:44:00.567727Z",
          "shell.execute_reply.started": "2021-10-05T16:44:00.556450Z",
          "shell.execute_reply": "2021-10-05T16:44:00.566877Z"
        },
        "trusted": true,
        "id": "1oYxPVzekLdG",
        "outputId": "44e80f1a-7ede-4a79-9e6f-e406cc29a9ee"
      },
      "execution_count": null,
      "outputs": [
        {
          "execution_count": 32,
          "output_type": "execute_result",
          "data": {
            "text/plain": "0      22.0\n1      38.0\n2      26.0\n3      35.0\n4      35.0\n       ... \n886    27.0\n887    19.0\n888    28.0\n889    26.0\n890    32.0\nName: Age, Length: 891, dtype: float64"
          },
          "metadata": {}
        }
      ]
    },
    {
      "cell_type": "code",
      "source": [
        "df.apply(lambda x: x.fillna(x.mean()) if x.dtype != \"O\" else x, axis=0).head()\n",
        "dff = df.apply(lambda x: x.fillna(x.mean()) if x.dtype != \"O\" else x, axis=0)\n",
        "dff.isnull().sum().sort_values(ascending=False)"
      ],
      "metadata": {
        "execution": {
          "iopub.status.busy": "2021-10-05T16:44:00.568867Z",
          "iopub.execute_input": "2021-10-05T16:44:00.569771Z",
          "iopub.status.idle": "2021-10-05T16:44:00.592899Z",
          "shell.execute_reply.started": "2021-10-05T16:44:00.569726Z",
          "shell.execute_reply": "2021-10-05T16:44:00.591881Z"
        },
        "trusted": true,
        "id": "XITrAQidkLdG",
        "outputId": "5fe5b4c6-e41d-469c-cb37-c82f008c664c"
      },
      "execution_count": null,
      "outputs": [
        {
          "execution_count": 33,
          "output_type": "execute_result",
          "data": {
            "text/plain": "Cabin          687\nEmbarked         2\nPassengerId      0\nSurvived         0\nPclass           0\nName             0\nSex              0\nAge              0\nSibSp            0\nParch            0\nTicket           0\nFare             0\ndtype: int64"
          },
          "metadata": {}
        }
      ]
    },
    {
      "cell_type": "code",
      "source": [
        "dff[\"Embarked\"].fillna(dff[\"Embarked\"].mode()[0])\n",
        "dff[\"Embarked\"].fillna(dff[\"Embarked\"].mode()[0]).isnull().sum()\n",
        "dff[\"Embarked\"].fillna(\"missing\")"
      ],
      "metadata": {
        "execution": {
          "iopub.status.busy": "2021-10-05T16:44:00.594259Z",
          "iopub.execute_input": "2021-10-05T16:44:00.594567Z",
          "iopub.status.idle": "2021-10-05T16:44:00.607242Z",
          "shell.execute_reply.started": "2021-10-05T16:44:00.594512Z",
          "shell.execute_reply": "2021-10-05T16:44:00.606163Z"
        },
        "trusted": true,
        "id": "Feep7UYskLdH",
        "outputId": "1573166d-7111-4ed1-97d8-329c0a0847fd"
      },
      "execution_count": null,
      "outputs": [
        {
          "execution_count": 34,
          "output_type": "execute_result",
          "data": {
            "text/plain": "0      S\n1      C\n2      S\n3      S\n4      S\n      ..\n886    S\n887    S\n888    S\n889    C\n890    Q\nName: Embarked, Length: 891, dtype: object"
          },
          "metadata": {}
        }
      ]
    },
    {
      "cell_type": "code",
      "source": [
        "dff.apply(lambda x: x.fillna(x.mode()[0]) if (x.dtype == \"O\" and len(x.unique()) <= 10) else x, axis=0)\n",
        "\n",
        "dff.apply(lambda x: x.fillna(x.mode()[0]) if (x.dtype == \"O\" and len(x.unique()) <= 10) else x, axis=0).isnull().sum()"
      ],
      "metadata": {
        "execution": {
          "iopub.status.busy": "2021-10-05T16:44:00.608669Z",
          "iopub.execute_input": "2021-10-05T16:44:00.609024Z",
          "iopub.status.idle": "2021-10-05T16:44:00.634791Z",
          "shell.execute_reply.started": "2021-10-05T16:44:00.608979Z",
          "shell.execute_reply": "2021-10-05T16:44:00.633764Z"
        },
        "trusted": true,
        "id": "j7s3Ne3ekLdH",
        "outputId": "2c02149b-084a-4089-b091-f78462c8f7ff"
      },
      "execution_count": null,
      "outputs": [
        {
          "execution_count": 35,
          "output_type": "execute_result",
          "data": {
            "text/plain": "PassengerId      0\nSurvived         0\nPclass           0\nName             0\nSex              0\nAge              0\nSibSp            0\nParch            0\nTicket           0\nFare             0\nCabin          687\nEmbarked         0\ndtype: int64"
          },
          "metadata": {}
        }
      ]
    },
    {
      "cell_type": "code",
      "source": [
        "# Using imputer to fill the missing data points\n",
        "from sklearn.impute import SimpleImputer\n",
        "\n",
        "imp_mean = SimpleImputer(missing_values=np.nan, strategy='mean')  # mean, median, most_frequent, constant\n",
        "imp_mean.fit(df)\n",
        "imp_mean.transform(df)"
      ],
      "metadata": {
        "trusted": true,
        "id": "0vmC4QKKkLdH"
      },
      "execution_count": null,
      "outputs": []
    },
    {
      "cell_type": "code",
      "source": [
        "# Value Assignment in Categorical Variable Breakdown\n",
        "# Using predictive methods to fill missing data points\n",
        "df = pd.read_csv(\"../input/data-science-day1-titanic/DSB_Day1_Titanic_train.csv\")\n",
        "df[\"Age\"].fillna(df.groupby(\"Sex\")[\"Age\"].transform(\"mean\")).isnull().sum()"
      ],
      "metadata": {
        "execution": {
          "iopub.status.busy": "2021-10-05T16:44:16.482619Z",
          "iopub.execute_input": "2021-10-05T16:44:16.482929Z",
          "iopub.status.idle": "2021-10-05T16:44:16.502350Z",
          "shell.execute_reply.started": "2021-10-05T16:44:16.482886Z",
          "shell.execute_reply": "2021-10-05T16:44:16.501374Z"
        },
        "trusted": true,
        "id": "mz3wIfrkkLdH",
        "outputId": "be5469ad-f8a3-484a-c378-430dc6d990ba"
      },
      "execution_count": null,
      "outputs": [
        {
          "execution_count": 37,
          "output_type": "execute_result",
          "data": {
            "text/plain": "0"
          },
          "metadata": {}
        }
      ]
    },
    {
      "cell_type": "code",
      "source": [
        "# Using predictive methods to fill missing data points\n",
        "df = pd.read_csv(\"../input/data-science-day1-titanic/DSB_Day1_Titanic_train.csv\")\n",
        "cat_cols, num_cols, cat_but_car = grab_col_names(df)\n",
        "num_cols = [col for col in num_cols if col not in \"PassengerId\"]\n",
        "dff = pd.get_dummies(df[cat_cols + num_cols], drop_first=True)\n",
        "dff.head()"
      ],
      "metadata": {
        "execution": {
          "iopub.status.busy": "2021-10-05T16:44:16.602444Z",
          "iopub.execute_input": "2021-10-05T16:44:16.602747Z",
          "iopub.status.idle": "2021-10-05T16:44:16.640147Z",
          "shell.execute_reply.started": "2021-10-05T16:44:16.602717Z",
          "shell.execute_reply": "2021-10-05T16:44:16.638982Z"
        },
        "trusted": true,
        "id": "X8-SgSBOkLdI",
        "outputId": "d4f6e7ad-ebf8-4491-82ab-dc6ff38a713b"
      },
      "execution_count": null,
      "outputs": [
        {
          "name": "stdout",
          "text": "Observations: 891\nVariables: 12\ncat_cols: 6\nnum_cols: 3\ncat_but_car: 3\nnum_but_cat: 4\n",
          "output_type": "stream"
        },
        {
          "execution_count": 38,
          "output_type": "execute_result",
          "data": {
            "text/plain": "   Survived  Pclass  SibSp  Parch   Age     Fare  Sex_male  Embarked_Q  \\\n0         0       3      1      0  22.0   7.2500         1           0   \n1         1       1      1      0  38.0  71.2833         0           0   \n2         1       3      0      0  26.0   7.9250         0           0   \n3         1       1      1      0  35.0  53.1000         0           0   \n4         0       3      0      0  35.0   8.0500         1           0   \n\n   Embarked_S  \n0           1  \n1           0  \n2           1  \n3           1  \n4           1  ",
            "text/html": "<div>\n<style scoped>\n    .dataframe tbody tr th:only-of-type {\n        vertical-align: middle;\n    }\n\n    .dataframe tbody tr th {\n        vertical-align: top;\n    }\n\n    .dataframe thead th {\n        text-align: right;\n    }\n</style>\n<table border=\"1\" class=\"dataframe\">\n  <thead>\n    <tr style=\"text-align: right;\">\n      <th></th>\n      <th>Survived</th>\n      <th>Pclass</th>\n      <th>SibSp</th>\n      <th>Parch</th>\n      <th>Age</th>\n      <th>Fare</th>\n      <th>Sex_male</th>\n      <th>Embarked_Q</th>\n      <th>Embarked_S</th>\n    </tr>\n  </thead>\n  <tbody>\n    <tr>\n      <th>0</th>\n      <td>0</td>\n      <td>3</td>\n      <td>1</td>\n      <td>0</td>\n      <td>22.0</td>\n      <td>7.2500</td>\n      <td>1</td>\n      <td>0</td>\n      <td>1</td>\n    </tr>\n    <tr>\n      <th>1</th>\n      <td>1</td>\n      <td>1</td>\n      <td>1</td>\n      <td>0</td>\n      <td>38.0</td>\n      <td>71.2833</td>\n      <td>0</td>\n      <td>0</td>\n      <td>0</td>\n    </tr>\n    <tr>\n      <th>2</th>\n      <td>1</td>\n      <td>3</td>\n      <td>0</td>\n      <td>0</td>\n      <td>26.0</td>\n      <td>7.9250</td>\n      <td>0</td>\n      <td>0</td>\n      <td>1</td>\n    </tr>\n    <tr>\n      <th>3</th>\n      <td>1</td>\n      <td>1</td>\n      <td>1</td>\n      <td>0</td>\n      <td>35.0</td>\n      <td>53.1000</td>\n      <td>0</td>\n      <td>0</td>\n      <td>1</td>\n    </tr>\n    <tr>\n      <th>4</th>\n      <td>0</td>\n      <td>3</td>\n      <td>0</td>\n      <td>0</td>\n      <td>35.0</td>\n      <td>8.0500</td>\n      <td>1</td>\n      <td>0</td>\n      <td>1</td>\n    </tr>\n  </tbody>\n</table>\n</div>"
          },
          "metadata": {}
        }
      ]
    },
    {
      "cell_type": "code",
      "source": [
        "# Scaling the dataset\n",
        "scaler = MinMaxScaler()\n",
        "dff = pd.DataFrame(scaler.fit_transform(dff), columns=dff.columns)\n",
        "dff.head()"
      ],
      "metadata": {
        "execution": {
          "iopub.status.busy": "2021-10-05T16:44:17.194087Z",
          "iopub.execute_input": "2021-10-05T16:44:17.195132Z",
          "iopub.status.idle": "2021-10-05T16:44:17.221077Z",
          "shell.execute_reply.started": "2021-10-05T16:44:17.195085Z",
          "shell.execute_reply": "2021-10-05T16:44:17.220177Z"
        },
        "trusted": true,
        "id": "FVNaceEkkLdI",
        "outputId": "c4b6f4c2-117d-4904-9f2d-6467f3791532"
      },
      "execution_count": null,
      "outputs": [
        {
          "execution_count": 39,
          "output_type": "execute_result",
          "data": {
            "text/plain": "   Survived  Pclass  SibSp  Parch       Age      Fare  Sex_male  Embarked_Q  \\\n0       0.0     1.0  0.125    0.0  0.271174  0.014151       1.0         0.0   \n1       1.0     0.0  0.125    0.0  0.472229  0.139136       0.0         0.0   \n2       1.0     1.0  0.000    0.0  0.321438  0.015469       0.0         0.0   \n3       1.0     0.0  0.125    0.0  0.434531  0.103644       0.0         0.0   \n4       0.0     1.0  0.000    0.0  0.434531  0.015713       1.0         0.0   \n\n   Embarked_S  \n0         1.0  \n1         0.0  \n2         1.0  \n3         1.0  \n4         1.0  ",
            "text/html": "<div>\n<style scoped>\n    .dataframe tbody tr th:only-of-type {\n        vertical-align: middle;\n    }\n\n    .dataframe tbody tr th {\n        vertical-align: top;\n    }\n\n    .dataframe thead th {\n        text-align: right;\n    }\n</style>\n<table border=\"1\" class=\"dataframe\">\n  <thead>\n    <tr style=\"text-align: right;\">\n      <th></th>\n      <th>Survived</th>\n      <th>Pclass</th>\n      <th>SibSp</th>\n      <th>Parch</th>\n      <th>Age</th>\n      <th>Fare</th>\n      <th>Sex_male</th>\n      <th>Embarked_Q</th>\n      <th>Embarked_S</th>\n    </tr>\n  </thead>\n  <tbody>\n    <tr>\n      <th>0</th>\n      <td>0.0</td>\n      <td>1.0</td>\n      <td>0.125</td>\n      <td>0.0</td>\n      <td>0.271174</td>\n      <td>0.014151</td>\n      <td>1.0</td>\n      <td>0.0</td>\n      <td>1.0</td>\n    </tr>\n    <tr>\n      <th>1</th>\n      <td>1.0</td>\n      <td>0.0</td>\n      <td>0.125</td>\n      <td>0.0</td>\n      <td>0.472229</td>\n      <td>0.139136</td>\n      <td>0.0</td>\n      <td>0.0</td>\n      <td>0.0</td>\n    </tr>\n    <tr>\n      <th>2</th>\n      <td>1.0</td>\n      <td>1.0</td>\n      <td>0.000</td>\n      <td>0.0</td>\n      <td>0.321438</td>\n      <td>0.015469</td>\n      <td>0.0</td>\n      <td>0.0</td>\n      <td>1.0</td>\n    </tr>\n    <tr>\n      <th>3</th>\n      <td>1.0</td>\n      <td>0.0</td>\n      <td>0.125</td>\n      <td>0.0</td>\n      <td>0.434531</td>\n      <td>0.103644</td>\n      <td>0.0</td>\n      <td>0.0</td>\n      <td>1.0</td>\n    </tr>\n    <tr>\n      <th>4</th>\n      <td>0.0</td>\n      <td>1.0</td>\n      <td>0.000</td>\n      <td>0.0</td>\n      <td>0.434531</td>\n      <td>0.015713</td>\n      <td>1.0</td>\n      <td>0.0</td>\n      <td>1.0</td>\n    </tr>\n  </tbody>\n</table>\n</div>"
          },
          "metadata": {}
        }
      ]
    },
    {
      "cell_type": "code",
      "source": [
        "# Lets use KNN imputer for predictive filling the missing data points\n",
        "\n",
        "from sklearn.impute import KNNImputer\n",
        "imputer = KNNImputer(n_neighbors=5)\n",
        "dff = pd.DataFrame(imputer.fit_transform(dff), columns=dff.columns)\n",
        "dff.head()"
      ],
      "metadata": {
        "execution": {
          "iopub.status.busy": "2021-10-05T16:44:17.923601Z",
          "iopub.execute_input": "2021-10-05T16:44:17.924483Z",
          "iopub.status.idle": "2021-10-05T16:44:17.976743Z",
          "shell.execute_reply.started": "2021-10-05T16:44:17.924444Z",
          "shell.execute_reply": "2021-10-05T16:44:17.975662Z"
        },
        "trusted": true,
        "id": "6J7yNc0_kLdI",
        "outputId": "d1e511f6-6797-444d-876c-a30b01ffb6b4"
      },
      "execution_count": null,
      "outputs": [
        {
          "execution_count": 40,
          "output_type": "execute_result",
          "data": {
            "text/plain": "   Survived  Pclass  SibSp  Parch       Age      Fare  Sex_male  Embarked_Q  \\\n0       0.0     1.0  0.125    0.0  0.271174  0.014151       1.0         0.0   \n1       1.0     0.0  0.125    0.0  0.472229  0.139136       0.0         0.0   \n2       1.0     1.0  0.000    0.0  0.321438  0.015469       0.0         0.0   \n3       1.0     0.0  0.125    0.0  0.434531  0.103644       0.0         0.0   \n4       0.0     1.0  0.000    0.0  0.434531  0.015713       1.0         0.0   \n\n   Embarked_S  \n0         1.0  \n1         0.0  \n2         1.0  \n3         1.0  \n4         1.0  ",
            "text/html": "<div>\n<style scoped>\n    .dataframe tbody tr th:only-of-type {\n        vertical-align: middle;\n    }\n\n    .dataframe tbody tr th {\n        vertical-align: top;\n    }\n\n    .dataframe thead th {\n        text-align: right;\n    }\n</style>\n<table border=\"1\" class=\"dataframe\">\n  <thead>\n    <tr style=\"text-align: right;\">\n      <th></th>\n      <th>Survived</th>\n      <th>Pclass</th>\n      <th>SibSp</th>\n      <th>Parch</th>\n      <th>Age</th>\n      <th>Fare</th>\n      <th>Sex_male</th>\n      <th>Embarked_Q</th>\n      <th>Embarked_S</th>\n    </tr>\n  </thead>\n  <tbody>\n    <tr>\n      <th>0</th>\n      <td>0.0</td>\n      <td>1.0</td>\n      <td>0.125</td>\n      <td>0.0</td>\n      <td>0.271174</td>\n      <td>0.014151</td>\n      <td>1.0</td>\n      <td>0.0</td>\n      <td>1.0</td>\n    </tr>\n    <tr>\n      <th>1</th>\n      <td>1.0</td>\n      <td>0.0</td>\n      <td>0.125</td>\n      <td>0.0</td>\n      <td>0.472229</td>\n      <td>0.139136</td>\n      <td>0.0</td>\n      <td>0.0</td>\n      <td>0.0</td>\n    </tr>\n    <tr>\n      <th>2</th>\n      <td>1.0</td>\n      <td>1.0</td>\n      <td>0.000</td>\n      <td>0.0</td>\n      <td>0.321438</td>\n      <td>0.015469</td>\n      <td>0.0</td>\n      <td>0.0</td>\n      <td>1.0</td>\n    </tr>\n    <tr>\n      <th>3</th>\n      <td>1.0</td>\n      <td>0.0</td>\n      <td>0.125</td>\n      <td>0.0</td>\n      <td>0.434531</td>\n      <td>0.103644</td>\n      <td>0.0</td>\n      <td>0.0</td>\n      <td>1.0</td>\n    </tr>\n    <tr>\n      <th>4</th>\n      <td>0.0</td>\n      <td>1.0</td>\n      <td>0.000</td>\n      <td>0.0</td>\n      <td>0.434531</td>\n      <td>0.015713</td>\n      <td>1.0</td>\n      <td>0.0</td>\n      <td>1.0</td>\n    </tr>\n  </tbody>\n</table>\n</div>"
          },
          "metadata": {}
        }
      ]
    },
    {
      "cell_type": "code",
      "source": [
        "# Lets use inverse transform to reach the raw dataset\n",
        "dff = pd.DataFrame(scaler.inverse_transform(dff), columns=dff.columns)\n",
        "df[\"age_imputed_knn\"] = dff[[\"Age\"]]\n",
        "df.head()"
      ],
      "metadata": {
        "execution": {
          "iopub.status.busy": "2021-10-05T16:44:18.742384Z",
          "iopub.execute_input": "2021-10-05T16:44:18.742950Z",
          "iopub.status.idle": "2021-10-05T16:44:18.770191Z",
          "shell.execute_reply.started": "2021-10-05T16:44:18.742907Z",
          "shell.execute_reply": "2021-10-05T16:44:18.769231Z"
        },
        "trusted": true,
        "id": "aTsKEBwUkLdJ",
        "outputId": "3ad0ce73-fd1a-4ab1-d903-534c7a7b862c"
      },
      "execution_count": null,
      "outputs": [
        {
          "execution_count": 41,
          "output_type": "execute_result",
          "data": {
            "text/plain": "   PassengerId  Survived  Pclass  \\\n0            1         0       3   \n1            2         1       1   \n2            3         1       3   \n3            4         1       1   \n4            5         0       3   \n\n                                                Name     Sex   Age  SibSp  \\\n0                            Braund, Mr. Owen Harris    male  22.0      1   \n1  Cumings, Mrs. John Bradley (Florence Briggs Th...  female  38.0      1   \n2                             Heikkinen, Miss. Laina  female  26.0      0   \n3       Futrelle, Mrs. Jacques Heath (Lily May Peel)  female  35.0      1   \n4                           Allen, Mr. William Henry    male  35.0      0   \n\n   Parch            Ticket     Fare Cabin Embarked  age_imputed_knn  \n0      0         A/5 21171   7.2500   NaN        S             22.0  \n1      0          PC 17599  71.2833   C85        C             38.0  \n2      0  STON/O2. 3101282   7.9250   NaN        S             26.0  \n3      0            113803  53.1000  C123        S             35.0  \n4      0            373450   8.0500   NaN        S             35.0  ",
            "text/html": "<div>\n<style scoped>\n    .dataframe tbody tr th:only-of-type {\n        vertical-align: middle;\n    }\n\n    .dataframe tbody tr th {\n        vertical-align: top;\n    }\n\n    .dataframe thead th {\n        text-align: right;\n    }\n</style>\n<table border=\"1\" class=\"dataframe\">\n  <thead>\n    <tr style=\"text-align: right;\">\n      <th></th>\n      <th>PassengerId</th>\n      <th>Survived</th>\n      <th>Pclass</th>\n      <th>Name</th>\n      <th>Sex</th>\n      <th>Age</th>\n      <th>SibSp</th>\n      <th>Parch</th>\n      <th>Ticket</th>\n      <th>Fare</th>\n      <th>Cabin</th>\n      <th>Embarked</th>\n      <th>age_imputed_knn</th>\n    </tr>\n  </thead>\n  <tbody>\n    <tr>\n      <th>0</th>\n      <td>1</td>\n      <td>0</td>\n      <td>3</td>\n      <td>Braund, Mr. Owen Harris</td>\n      <td>male</td>\n      <td>22.0</td>\n      <td>1</td>\n      <td>0</td>\n      <td>A/5 21171</td>\n      <td>7.2500</td>\n      <td>NaN</td>\n      <td>S</td>\n      <td>22.0</td>\n    </tr>\n    <tr>\n      <th>1</th>\n      <td>2</td>\n      <td>1</td>\n      <td>1</td>\n      <td>Cumings, Mrs. John Bradley (Florence Briggs Th...</td>\n      <td>female</td>\n      <td>38.0</td>\n      <td>1</td>\n      <td>0</td>\n      <td>PC 17599</td>\n      <td>71.2833</td>\n      <td>C85</td>\n      <td>C</td>\n      <td>38.0</td>\n    </tr>\n    <tr>\n      <th>2</th>\n      <td>3</td>\n      <td>1</td>\n      <td>3</td>\n      <td>Heikkinen, Miss. Laina</td>\n      <td>female</td>\n      <td>26.0</td>\n      <td>0</td>\n      <td>0</td>\n      <td>STON/O2. 3101282</td>\n      <td>7.9250</td>\n      <td>NaN</td>\n      <td>S</td>\n      <td>26.0</td>\n    </tr>\n    <tr>\n      <th>3</th>\n      <td>4</td>\n      <td>1</td>\n      <td>1</td>\n      <td>Futrelle, Mrs. Jacques Heath (Lily May Peel)</td>\n      <td>female</td>\n      <td>35.0</td>\n      <td>1</td>\n      <td>0</td>\n      <td>113803</td>\n      <td>53.1000</td>\n      <td>C123</td>\n      <td>S</td>\n      <td>35.0</td>\n    </tr>\n    <tr>\n      <th>4</th>\n      <td>5</td>\n      <td>0</td>\n      <td>3</td>\n      <td>Allen, Mr. William Henry</td>\n      <td>male</td>\n      <td>35.0</td>\n      <td>0</td>\n      <td>0</td>\n      <td>373450</td>\n      <td>8.0500</td>\n      <td>NaN</td>\n      <td>S</td>\n      <td>35.0</td>\n    </tr>\n  </tbody>\n</table>\n</div>"
          },
          "metadata": {}
        }
      ]
    },
    {
      "cell_type": "code",
      "source": [
        "# Lets check the null age values with computed age_imputed_knn\n",
        "df.loc[df[\"Age\"].isnull(), [\"Age\", \"age_imputed_knn\"]]"
      ],
      "metadata": {
        "execution": {
          "iopub.status.busy": "2021-10-05T16:44:19.362419Z",
          "iopub.execute_input": "2021-10-05T16:44:19.362749Z",
          "iopub.status.idle": "2021-10-05T16:44:19.378379Z",
          "shell.execute_reply.started": "2021-10-05T16:44:19.362717Z",
          "shell.execute_reply": "2021-10-05T16:44:19.377649Z"
        },
        "trusted": true,
        "id": "wbuH6-0KkLdJ",
        "outputId": "fbb33a2b-276a-4e5b-a70b-da1276cb1bab"
      },
      "execution_count": null,
      "outputs": [
        {
          "execution_count": 42,
          "output_type": "execute_result",
          "data": {
            "text/plain": "     Age  age_imputed_knn\n5    NaN             47.8\n17   NaN             37.6\n19   NaN             12.2\n26   NaN             32.8\n28   NaN             17.6\n..   ...              ...\n859  NaN             25.8\n863  NaN              8.8\n868  NaN             25.0\n878  NaN             24.4\n888  NaN             22.2\n\n[177 rows x 2 columns]",
            "text/html": "<div>\n<style scoped>\n    .dataframe tbody tr th:only-of-type {\n        vertical-align: middle;\n    }\n\n    .dataframe tbody tr th {\n        vertical-align: top;\n    }\n\n    .dataframe thead th {\n        text-align: right;\n    }\n</style>\n<table border=\"1\" class=\"dataframe\">\n  <thead>\n    <tr style=\"text-align: right;\">\n      <th></th>\n      <th>Age</th>\n      <th>age_imputed_knn</th>\n    </tr>\n  </thead>\n  <tbody>\n    <tr>\n      <th>5</th>\n      <td>NaN</td>\n      <td>47.8</td>\n    </tr>\n    <tr>\n      <th>17</th>\n      <td>NaN</td>\n      <td>37.6</td>\n    </tr>\n    <tr>\n      <th>19</th>\n      <td>NaN</td>\n      <td>12.2</td>\n    </tr>\n    <tr>\n      <th>26</th>\n      <td>NaN</td>\n      <td>32.8</td>\n    </tr>\n    <tr>\n      <th>28</th>\n      <td>NaN</td>\n      <td>17.6</td>\n    </tr>\n    <tr>\n      <th>...</th>\n      <td>...</td>\n      <td>...</td>\n    </tr>\n    <tr>\n      <th>859</th>\n      <td>NaN</td>\n      <td>25.8</td>\n    </tr>\n    <tr>\n      <th>863</th>\n      <td>NaN</td>\n      <td>8.8</td>\n    </tr>\n    <tr>\n      <th>868</th>\n      <td>NaN</td>\n      <td>25.0</td>\n    </tr>\n    <tr>\n      <th>878</th>\n      <td>NaN</td>\n      <td>24.4</td>\n    </tr>\n    <tr>\n      <th>888</th>\n      <td>NaN</td>\n      <td>22.2</td>\n    </tr>\n  </tbody>\n</table>\n<p>177 rows × 2 columns</p>\n</div>"
          },
          "metadata": {}
        }
      ]
    },
    {
      "cell_type": "markdown",
      "source": [
        "## Advanced Analysis for Missing Data Points\n",
        "\n",
        "💎 We will use missingo library for plotting and interpreting the figure.\n",
        "\n",
        "💎 And, we will check the missing value correlations and the missing values relation between each other"
      ],
      "metadata": {
        "id": "MAS6jECdkLdJ"
      }
    },
    {
      "cell_type": "code",
      "source": [
        "msno.bar(df)\n",
        "plt.show()"
      ],
      "metadata": {
        "execution": {
          "iopub.status.busy": "2021-10-05T16:44:19.898203Z",
          "iopub.execute_input": "2021-10-05T16:44:19.899030Z",
          "iopub.status.idle": "2021-10-05T16:44:20.881704Z",
          "shell.execute_reply.started": "2021-10-05T16:44:19.898993Z",
          "shell.execute_reply": "2021-10-05T16:44:20.880516Z"
        },
        "trusted": true,
        "id": "lo-MuM-nkLdJ",
        "outputId": "7ff6f90f-5bbf-4731-f33d-27329f7c458c"
      },
      "execution_count": null,
      "outputs": [
        {
          "output_type": "display_data",
          "data": {
            "text/plain": "<Figure size 1728x720 with 3 Axes>",
            "image/png": "[encoded data removed]"
          },
          "metadata": {
            "needs_background": "light"
          }
        }
      ]
    },
    {
      "cell_type": "code",
      "source": [
        "msno.matrix(df)\n",
        "plt.show()"
      ],
      "metadata": {
        "execution": {
          "iopub.status.busy": "2021-10-05T16:44:20.883754Z",
          "iopub.execute_input": "2021-10-05T16:44:20.884164Z",
          "iopub.status.idle": "2021-10-05T16:44:21.347440Z",
          "shell.execute_reply.started": "2021-10-05T16:44:20.884121Z",
          "shell.execute_reply": "2021-10-05T16:44:21.346598Z"
        },
        "trusted": true,
        "id": "IW9KlWwskLdK",
        "outputId": "ad61715c-0826-4332-b22a-51c30f5c841e"
      },
      "execution_count": null,
      "outputs": [
        {
          "output_type": "display_data",
          "data": {
            "text/plain": "<Figure size 1800x720 with 2 Axes>",
            "image/png": "[encoded data removed]"
          },
          "metadata": {
            "needs_background": "light"
          }
        }
      ]
    },
    {
      "cell_type": "code",
      "source": [
        "msno.heatmap(df)\n",
        "plt.show()"
      ],
      "metadata": {
        "execution": {
          "iopub.status.busy": "2021-10-05T16:44:21.348795Z",
          "iopub.execute_input": "2021-10-05T16:44:21.349709Z",
          "iopub.status.idle": "2021-10-05T16:44:21.674660Z",
          "shell.execute_reply.started": "2021-10-05T16:44:21.349665Z",
          "shell.execute_reply": "2021-10-05T16:44:21.673676Z"
        },
        "trusted": true,
        "id": "eiSUm_QNkLdK",
        "outputId": "9e4e137b-8bfa-48ef-c837-8a2f02f8b2a5"
      },
      "execution_count": null,
      "outputs": [
        {
          "output_type": "display_data",
          "data": {
            "text/plain": "<Figure size 1440x864 with 2 Axes>",
            "image/png": "[encoded data removed]"
          },
          "metadata": {
            "needs_background": "light"
          }
        }
      ]
    },
    {
      "cell_type": "code",
      "source": [
        "missing_values_table(df, True)\n",
        "na_cols = missing_values_table(df, True)\n",
        "\n",
        "\n",
        "def missing_vs_target(dataframe, target, na_columns):\n",
        "    temp_df = dataframe.copy()\n",
        "    for col in na_columns:\n",
        "        temp_df[col + '_NA_FLAG'] = np.where(temp_df[col].isnull(), 1, 0)\n",
        "    na_flags = temp_df.loc[:, temp_df.columns.str.contains(\"_NA_\")].columns\n",
        "    for col in na_flags:\n",
        "        print(pd.DataFrame({\"TARGET_MEAN\": temp_df.groupby(col)[target].mean(),\n",
        "                            \"Count\": temp_df.groupby(col)[target].count()}), end=\"\\n\\n\\n\")\n",
        "\n",
        "\n",
        "missing_vs_target(df, \"Survived\", na_cols)"
      ],
      "metadata": {
        "execution": {
          "iopub.status.busy": "2021-10-05T16:44:21.677123Z",
          "iopub.execute_input": "2021-10-05T16:44:21.678064Z",
          "iopub.status.idle": "2021-10-05T16:44:21.730560Z",
          "shell.execute_reply.started": "2021-10-05T16:44:21.678021Z",
          "shell.execute_reply": "2021-10-05T16:44:21.729618Z"
        },
        "trusted": true,
        "id": "0sk3Iu_vkLdK",
        "outputId": "ac426ae2-0f23-44ea-885c-9cbe0a54075d"
      },
      "execution_count": null,
      "outputs": [
        {
          "name": "stdout",
          "text": "          n_miss  ratio\nCabin        687  77.10\nAge          177  19.87\nEmbarked       2   0.22\n          n_miss  ratio\nCabin        687  77.10\nAge          177  19.87\nEmbarked       2   0.22\n             TARGET_MEAN  Count\nAge_NA_FLAG                    \n0               0.406162    714\n1               0.293785    177\n\n\n               TARGET_MEAN  Count\nCabin_NA_FLAG                    \n0                 0.666667    204\n1                 0.299854    687\n\n\n                  TARGET_MEAN  Count\nEmbarked_NA_FLAG                    \n0                    0.382452    889\n1                    1.000000      2\n\n\n",
          "output_type": "stream"
        }
      ]
    },
    {
      "cell_type": "markdown",
      "source": [
        "# 3. Encoding (Label Encoding, One-Hot Encoding, Rare Encoding)"
      ],
      "metadata": {
        "id": "9XQVgAUzkLdL"
      }
    },
    {
      "cell_type": "markdown",
      "source": [
        "## Label Encoding & Binary Encoding\n",
        "\n",
        "Encoding or continuization is the transformation of categorical variables to binary or numerical counterparts. An example is to treat male or female for gender as 1 or 0. Categorical variables must be encoded in many modeling methods (e.g., linear regression, SVM, neural networks)\n",
        "\n",
        "![image.png](https://womaneng.com/wp-content/uploads/2018/09/onehotencoding.jpg)"
      ],
      "metadata": {
        "id": "FeeosMshkLdL"
      }
    },
    {
      "cell_type": "code",
      "source": [
        "df = pd.read_csv(\"../input/data-science-day1-titanic/DSB_Day1_Titanic_train.csv\")\n",
        "\n",
        "df[\"Sex\"].head()"
      ],
      "metadata": {
        "execution": {
          "iopub.status.busy": "2021-10-05T16:44:21.731812Z",
          "iopub.execute_input": "2021-10-05T16:44:21.732053Z",
          "iopub.status.idle": "2021-10-05T16:44:21.746150Z",
          "shell.execute_reply.started": "2021-10-05T16:44:21.732024Z",
          "shell.execute_reply": "2021-10-05T16:44:21.745235Z"
        },
        "trusted": true,
        "id": "e7IIapXekLdL",
        "outputId": "6e2dbd87-cf8c-4b80-8b6f-932b70d74d03"
      },
      "execution_count": null,
      "outputs": [
        {
          "execution_count": 47,
          "output_type": "execute_result",
          "data": {
            "text/plain": "0      male\n1    female\n2    female\n3    female\n4      male\nName: Sex, dtype: object"
          },
          "metadata": {}
        }
      ]
    },
    {
      "cell_type": "code",
      "source": [
        "le = LabelEncoder()\n",
        "le.fit_transform(df[\"Sex\"])[0:5]\n",
        "le.inverse_transform([0, 1])"
      ],
      "metadata": {
        "execution": {
          "iopub.status.busy": "2021-10-05T16:44:21.747421Z",
          "iopub.execute_input": "2021-10-05T16:44:21.747727Z",
          "iopub.status.idle": "2021-10-05T16:44:21.755634Z",
          "shell.execute_reply.started": "2021-10-05T16:44:21.747694Z",
          "shell.execute_reply": "2021-10-05T16:44:21.754566Z"
        },
        "trusted": true,
        "id": "H1-TIUp0kLdM",
        "outputId": "7465e8d1-d30c-4c2d-a4b3-a515c816f553"
      },
      "execution_count": null,
      "outputs": [
        {
          "execution_count": 48,
          "output_type": "execute_result",
          "data": {
            "text/plain": "array(['female', 'male'], dtype=object)"
          },
          "metadata": {}
        }
      ]
    },
    {
      "cell_type": "code",
      "source": [
        "# Lets add fuctionality\n",
        "\n",
        "df[\"Age\"].fillna(df.groupby(\"Sex\")[\"Age\"].transform(\"mean\")).isnull().sum()\n",
        "\n",
        "# First defining the binary columns using categorical columns\n",
        "binary_cols = [col for col in df.columns if df[col].dtype not in [int, float]\n",
        "               and df[col].nunique() == 2]"
      ],
      "metadata": {
        "execution": {
          "iopub.status.busy": "2021-10-05T16:44:21.757101Z",
          "iopub.execute_input": "2021-10-05T16:44:21.757449Z",
          "iopub.status.idle": "2021-10-05T16:44:21.771505Z",
          "shell.execute_reply.started": "2021-10-05T16:44:21.757387Z",
          "shell.execute_reply": "2021-10-05T16:44:21.770460Z"
        },
        "trusted": true,
        "id": "iynhzhs7kLdM"
      },
      "execution_count": null,
      "outputs": []
    },
    {
      "cell_type": "code",
      "source": [
        "\n",
        "def label_encoder(dataframe, binary_col):\n",
        "    labelencoder = LabelEncoder()\n",
        "    dataframe[binary_col] = labelencoder.fit_transform(dataframe[binary_col])\n",
        "    return dataframe\n",
        "\n",
        "for col in binary_cols:\n",
        "    label_encoder(df, col)\n",
        "\n",
        "df.head(10)"
      ],
      "metadata": {
        "execution": {
          "iopub.status.busy": "2021-10-05T16:44:21.773183Z",
          "iopub.execute_input": "2021-10-05T16:44:21.773695Z",
          "iopub.status.idle": "2021-10-05T16:44:21.800102Z",
          "shell.execute_reply.started": "2021-10-05T16:44:21.773566Z",
          "shell.execute_reply": "2021-10-05T16:44:21.799057Z"
        },
        "trusted": true,
        "id": "WZ4gcMQtkLdM",
        "outputId": "9f92ff93-38cf-4b93-a612-1fbf2616dfa5"
      },
      "execution_count": null,
      "outputs": [
        {
          "execution_count": 50,
          "output_type": "execute_result",
          "data": {
            "text/plain": "   PassengerId  Survived  Pclass  \\\n0            1         0       3   \n1            2         1       1   \n2            3         1       3   \n3            4         1       1   \n4            5         0       3   \n5            6         0       3   \n6            7         0       1   \n7            8         0       3   \n8            9         1       3   \n9           10         1       2   \n\n                                                Name  Sex   Age  SibSp  Parch  \\\n0                            Braund, Mr. Owen Harris    1  22.0      1      0   \n1  Cumings, Mrs. John Bradley (Florence Briggs Th...    0  38.0      1      0   \n2                             Heikkinen, Miss. Laina    0  26.0      0      0   \n3       Futrelle, Mrs. Jacques Heath (Lily May Peel)    0  35.0      1      0   \n4                           Allen, Mr. William Henry    1  35.0      0      0   \n5                                   Moran, Mr. James    1   NaN      0      0   \n6                            McCarthy, Mr. Timothy J    1  54.0      0      0   \n7                     Palsson, Master. Gosta Leonard    1   2.0      3      1   \n8  Johnson, Mrs. Oscar W (Elisabeth Vilhelmina Berg)    0  27.0      0      2   \n9                Nasser, Mrs. Nicholas (Adele Achem)    0  14.0      1      0   \n\n             Ticket     Fare Cabin Embarked  \n0         A/5 21171   7.2500   NaN        S  \n1          PC 17599  71.2833   C85        C  \n2  STON/O2. 3101282   7.9250   NaN        S  \n3            113803  53.1000  C123        S  \n4            373450   8.0500   NaN        S  \n5            330877   8.4583   NaN        Q  \n6             17463  51.8625   E46        S  \n7            349909  21.0750   NaN        S  \n8            347742  11.1333   NaN        S  \n9            237736  30.0708   NaN        C  ",
            "text/html": "<div>\n<style scoped>\n    .dataframe tbody tr th:only-of-type {\n        vertical-align: middle;\n    }\n\n    .dataframe tbody tr th {\n        vertical-align: top;\n    }\n\n    .dataframe thead th {\n        text-align: right;\n    }\n</style>\n<table border=\"1\" class=\"dataframe\">\n  <thead>\n    <tr style=\"text-align: right;\">\n      <th></th>\n      <th>PassengerId</th>\n      <th>Survived</th>\n      <th>Pclass</th>\n      <th>Name</th>\n      <th>Sex</th>\n      <th>Age</th>\n      <th>SibSp</th>\n      <th>Parch</th>\n      <th>Ticket</th>\n      <th>Fare</th>\n      <th>Cabin</th>\n      <th>Embarked</th>\n    </tr>\n  </thead>\n  <tbody>\n    <tr>\n      <th>0</th>\n      <td>1</td>\n      <td>0</td>\n      <td>3</td>\n      <td>Braund, Mr. Owen Harris</td>\n      <td>1</td>\n      <td>22.0</td>\n      <td>1</td>\n      <td>0</td>\n      <td>A/5 21171</td>\n      <td>7.2500</td>\n      <td>NaN</td>\n      <td>S</td>\n    </tr>\n    <tr>\n      <th>1</th>\n      <td>2</td>\n      <td>1</td>\n      <td>1</td>\n      <td>Cumings, Mrs. John Bradley (Florence Briggs Th...</td>\n      <td>0</td>\n      <td>38.0</td>\n      <td>1</td>\n      <td>0</td>\n      <td>PC 17599</td>\n      <td>71.2833</td>\n      <td>C85</td>\n      <td>C</td>\n    </tr>\n    <tr>\n      <th>2</th>\n      <td>3</td>\n      <td>1</td>\n      <td>3</td>\n      <td>Heikkinen, Miss. Laina</td>\n      <td>0</td>\n      <td>26.0</td>\n      <td>0</td>\n      <td>0</td>\n      <td>STON/O2. 3101282</td>\n      <td>7.9250</td>\n      <td>NaN</td>\n      <td>S</td>\n    </tr>\n    <tr>\n      <th>3</th>\n      <td>4</td>\n      <td>1</td>\n      <td>1</td>\n      <td>Futrelle, Mrs. Jacques Heath (Lily May Peel)</td>\n      <td>0</td>\n      <td>35.0</td>\n      <td>1</td>\n      <td>0</td>\n      <td>113803</td>\n      <td>53.1000</td>\n      <td>C123</td>\n      <td>S</td>\n    </tr>\n    <tr>\n      <th>4</th>\n      <td>5</td>\n      <td>0</td>\n      <td>3</td>\n      <td>Allen, Mr. William Henry</td>\n      <td>1</td>\n      <td>35.0</td>\n      <td>0</td>\n      <td>0</td>\n      <td>373450</td>\n      <td>8.0500</td>\n      <td>NaN</td>\n      <td>S</td>\n    </tr>\n    <tr>\n      <th>5</th>\n      <td>6</td>\n      <td>0</td>\n      <td>3</td>\n      <td>Moran, Mr. James</td>\n      <td>1</td>\n      <td>NaN</td>\n      <td>0</td>\n      <td>0</td>\n      <td>330877</td>\n      <td>8.4583</td>\n      <td>NaN</td>\n      <td>Q</td>\n    </tr>\n    <tr>\n      <th>6</th>\n      <td>7</td>\n      <td>0</td>\n      <td>1</td>\n      <td>McCarthy, Mr. Timothy J</td>\n      <td>1</td>\n      <td>54.0</td>\n      <td>0</td>\n      <td>0</td>\n      <td>17463</td>\n      <td>51.8625</td>\n      <td>E46</td>\n      <td>S</td>\n    </tr>\n    <tr>\n      <th>7</th>\n      <td>8</td>\n      <td>0</td>\n      <td>3</td>\n      <td>Palsson, Master. Gosta Leonard</td>\n      <td>1</td>\n      <td>2.0</td>\n      <td>3</td>\n      <td>1</td>\n      <td>349909</td>\n      <td>21.0750</td>\n      <td>NaN</td>\n      <td>S</td>\n    </tr>\n    <tr>\n      <th>8</th>\n      <td>9</td>\n      <td>1</td>\n      <td>3</td>\n      <td>Johnson, Mrs. Oscar W (Elisabeth Vilhelmina Berg)</td>\n      <td>0</td>\n      <td>27.0</td>\n      <td>0</td>\n      <td>2</td>\n      <td>347742</td>\n      <td>11.1333</td>\n      <td>NaN</td>\n      <td>S</td>\n    </tr>\n    <tr>\n      <th>9</th>\n      <td>10</td>\n      <td>1</td>\n      <td>2</td>\n      <td>Nasser, Mrs. Nicholas (Adele Achem)</td>\n      <td>0</td>\n      <td>14.0</td>\n      <td>1</td>\n      <td>0</td>\n      <td>237736</td>\n      <td>30.0708</td>\n      <td>NaN</td>\n      <td>C</td>\n    </tr>\n  </tbody>\n</table>\n</div>"
          },
          "metadata": {}
        }
      ]
    },
    {
      "cell_type": "markdown",
      "source": [
        "## One-Hot Encoding\n",
        "\n",
        "Though label encoding is straight but it has the disadvantage that the numeric values can be misinterpreted by algorithms as having some sort of hierarchy/order in them. This ordering issue is addressed in another common alternative approach called ‘One-Hot Encoding’. In this strategy, each category value is converted into a new column and assigned a 1 or 0 (notation for true/false) value to the column.\n",
        "\n",
        "![image.png](https://miro.medium.com/max/2000/1*WHM-sZuVQBOZzZv64fMgow.png)\n",
        "\n",
        "__Advantages of one-hot encoding__\n",
        "- Does not assume the distribution of categories of the categorical variable.\n",
        "\n",
        "- Keeps all the information of the categorical variable.\n",
        "\n",
        "- Suitable for linear models.\n",
        "\n",
        "__Limitations of one-hot encoding__\n",
        "\n",
        "- Expands the feature space.\n",
        "\n",
        "- Does not add extra information while encoding.\n",
        "\n",
        "- Many dummy variables may be identical, and this can introduce redundant information.\n",
        "\n",
        "Source:\n",
        "\n",
        "[One-Hot Encoding](https://towardsdatascience.com/categorical-encoding-using-label-encoding-and-one-hot-encoder-911ef77fb5bd)"
      ],
      "metadata": {
        "id": "3b8EIx7lkLdN"
      }
    },
    {
      "cell_type": "code",
      "source": [
        "def one_hot_encoder(dataframe, categorical_cols, drop_first=False):\n",
        "    dataframe = pd.get_dummies(dataframe, columns=categorical_cols, drop_first=drop_first)\n",
        "    return dataframe\n",
        "\n",
        "ohe_cols = [col for col in df.columns if 10 >= df[col].nunique() > 2]\n",
        "one_hot_encoder(df, ohe_cols).head()"
      ],
      "metadata": {
        "execution": {
          "iopub.status.busy": "2021-10-05T16:44:21.801189Z",
          "iopub.execute_input": "2021-10-05T16:44:21.801426Z",
          "iopub.status.idle": "2021-10-05T16:44:21.839402Z",
          "shell.execute_reply.started": "2021-10-05T16:44:21.801397Z",
          "shell.execute_reply": "2021-10-05T16:44:21.838374Z"
        },
        "trusted": true,
        "id": "WYREVklqkLdN",
        "outputId": "366f50fb-70bb-409b-b912-6cdf91b277e0"
      },
      "execution_count": null,
      "outputs": [
        {
          "execution_count": 51,
          "output_type": "execute_result",
          "data": {
            "text/plain": "   PassengerId  Survived                                               Name  \\\n0            1         0                            Braund, Mr. Owen Harris   \n1            2         1  Cumings, Mrs. John Bradley (Florence Briggs Th...   \n2            3         1                             Heikkinen, Miss. Laina   \n3            4         1       Futrelle, Mrs. Jacques Heath (Lily May Peel)   \n4            5         0                           Allen, Mr. William Henry   \n\n   Sex   Age            Ticket     Fare Cabin  Pclass_1  Pclass_2  ...  \\\n0    1  22.0         A/5 21171   7.2500   NaN         0         0  ...   \n1    0  38.0          PC 17599  71.2833   C85         1         0  ...   \n2    0  26.0  STON/O2. 3101282   7.9250   NaN         0         0  ...   \n3    0  35.0            113803  53.1000  C123         1         0  ...   \n4    1  35.0            373450   8.0500   NaN         0         0  ...   \n\n   Parch_0  Parch_1  Parch_2  Parch_3  Parch_4  Parch_5  Parch_6  Embarked_C  \\\n0        1        0        0        0        0        0        0           0   \n1        1        0        0        0        0        0        0           1   \n2        1        0        0        0        0        0        0           0   \n3        1        0        0        0        0        0        0           0   \n4        1        0        0        0        0        0        0           0   \n\n   Embarked_Q  Embarked_S  \n0           0           1  \n1           0           0  \n2           0           1  \n3           0           1  \n4           0           1  \n\n[5 rows x 28 columns]",
            "text/html": "<div>\n<style scoped>\n    .dataframe tbody tr th:only-of-type {\n        vertical-align: middle;\n    }\n\n    .dataframe tbody tr th {\n        vertical-align: top;\n    }\n\n    .dataframe thead th {\n        text-align: right;\n    }\n</style>\n<table border=\"1\" class=\"dataframe\">\n  <thead>\n    <tr style=\"text-align: right;\">\n      <th></th>\n      <th>PassengerId</th>\n      <th>Survived</th>\n      <th>Name</th>\n      <th>Sex</th>\n      <th>Age</th>\n      <th>Ticket</th>\n      <th>Fare</th>\n      <th>Cabin</th>\n      <th>Pclass_1</th>\n      <th>Pclass_2</th>\n      <th>...</th>\n      <th>Parch_0</th>\n      <th>Parch_1</th>\n      <th>Parch_2</th>\n      <th>Parch_3</th>\n      <th>Parch_4</th>\n      <th>Parch_5</th>\n      <th>Parch_6</th>\n      <th>Embarked_C</th>\n      <th>Embarked_Q</th>\n      <th>Embarked_S</th>\n    </tr>\n  </thead>\n  <tbody>\n    <tr>\n      <th>0</th>\n      <td>1</td>\n      <td>0</td>\n      <td>Braund, Mr. Owen Harris</td>\n      <td>1</td>\n      <td>22.0</td>\n      <td>A/5 21171</td>\n      <td>7.2500</td>\n      <td>NaN</td>\n      <td>0</td>\n      <td>0</td>\n      <td>...</td>\n      <td>1</td>\n      <td>0</td>\n      <td>0</td>\n      <td>0</td>\n      <td>0</td>\n      <td>0</td>\n      <td>0</td>\n      <td>0</td>\n      <td>0</td>\n      <td>1</td>\n    </tr>\n    <tr>\n      <th>1</th>\n      <td>2</td>\n      <td>1</td>\n      <td>Cumings, Mrs. John Bradley (Florence Briggs Th...</td>\n      <td>0</td>\n      <td>38.0</td>\n      <td>PC 17599</td>\n      <td>71.2833</td>\n      <td>C85</td>\n      <td>1</td>\n      <td>0</td>\n      <td>...</td>\n      <td>1</td>\n      <td>0</td>\n      <td>0</td>\n      <td>0</td>\n      <td>0</td>\n      <td>0</td>\n      <td>0</td>\n      <td>1</td>\n      <td>0</td>\n      <td>0</td>\n    </tr>\n    <tr>\n      <th>2</th>\n      <td>3</td>\n      <td>1</td>\n      <td>Heikkinen, Miss. Laina</td>\n      <td>0</td>\n      <td>26.0</td>\n      <td>STON/O2. 3101282</td>\n      <td>7.9250</td>\n      <td>NaN</td>\n      <td>0</td>\n      <td>0</td>\n      <td>...</td>\n      <td>1</td>\n      <td>0</td>\n      <td>0</td>\n      <td>0</td>\n      <td>0</td>\n      <td>0</td>\n      <td>0</td>\n      <td>0</td>\n      <td>0</td>\n      <td>1</td>\n    </tr>\n    <tr>\n      <th>3</th>\n      <td>4</td>\n      <td>1</td>\n      <td>Futrelle, Mrs. Jacques Heath (Lily May Peel)</td>\n      <td>0</td>\n      <td>35.0</td>\n      <td>113803</td>\n      <td>53.1000</td>\n      <td>C123</td>\n      <td>1</td>\n      <td>0</td>\n      <td>...</td>\n      <td>1</td>\n      <td>0</td>\n      <td>0</td>\n      <td>0</td>\n      <td>0</td>\n      <td>0</td>\n      <td>0</td>\n      <td>0</td>\n      <td>0</td>\n      <td>1</td>\n    </tr>\n    <tr>\n      <th>4</th>\n      <td>5</td>\n      <td>0</td>\n      <td>Allen, Mr. William Henry</td>\n      <td>1</td>\n      <td>35.0</td>\n      <td>373450</td>\n      <td>8.0500</td>\n      <td>NaN</td>\n      <td>0</td>\n      <td>0</td>\n      <td>...</td>\n      <td>1</td>\n      <td>0</td>\n      <td>0</td>\n      <td>0</td>\n      <td>0</td>\n      <td>0</td>\n      <td>0</td>\n      <td>0</td>\n      <td>0</td>\n      <td>1</td>\n    </tr>\n  </tbody>\n</table>\n<p>5 rows × 28 columns</p>\n</div>"
          },
          "metadata": {}
        }
      ]
    },
    {
      "cell_type": "markdown",
      "source": [
        "## Rare Encoding\n",
        "\n",
        "Rare labels are those that appear only in a tiny proportion of the observations in a dataset. Rare labels may cause some issues, especially with overfitting and generalization.\n",
        "The solution to that problem is to group those rare labels into a new category like other or rare—this way, the possible issues can be prevented.\n",
        "\n",
        "![image.png](https://miro.medium.com/max/2000/1*wmgHrdrZ3fXvlYL5zHpt7A.png)\n",
        "\n",
        "This way, categories that are new in the test set are treated as rare, and the model can know how to handle those categories as well, even though they weren’t present in the train set.\n",
        "\n",
        "Source:\n",
        "\n",
        "[Rare Encoding](https://heartbeat.comet.ml/hands-on-with-feature-engineering-techniques-encoding-categorical-variables-be4bc0715394)"
      ],
      "metadata": {
        "id": "EDWliuq9kLdN"
      }
    },
    {
      "cell_type": "code",
      "source": [
        "# 1. Target Frequency\n",
        "# 2. Traget Ratio\n",
        "# 3. Group by columns for target column\n",
        "\n",
        "# Lets use large dataset to understand better the rare encoding\n",
        "df = pd.read_csv(\"../input/home-credit-default-risk/application_train.csv\")\n",
        "\n",
        "def rare_analyser(dataframe, target, cat_cols):\n",
        "    for col in cat_cols:\n",
        "        print(col, \":\", len(dataframe[col].value_counts()))\n",
        "        print(pd.DataFrame({\"COUNT\": dataframe[col].value_counts(),\n",
        "                            \"RATIO\": dataframe[col].value_counts() / len(dataframe),\n",
        "                            \"TARGET_MEAN\": dataframe.groupby(col)[target].mean()}), end=\"\\n\\n\\n\")"
      ],
      "metadata": {
        "execution": {
          "iopub.status.busy": "2021-10-05T16:44:21.878635Z",
          "iopub.execute_input": "2021-10-05T16:44:21.879289Z",
          "iopub.status.idle": "2021-10-05T16:44:27.466412Z",
          "shell.execute_reply.started": "2021-10-05T16:44:21.879255Z",
          "shell.execute_reply": "2021-10-05T16:44:27.465616Z"
        },
        "trusted": true,
        "id": "LsusMEVMkLdN"
      },
      "execution_count": null,
      "outputs": []
    },
    {
      "cell_type": "code",
      "source": [
        "df.TARGET.head()"
      ],
      "metadata": {
        "execution": {
          "iopub.status.busy": "2021-10-05T16:46:07.436619Z",
          "iopub.execute_input": "2021-10-05T16:46:07.437320Z",
          "iopub.status.idle": "2021-10-05T16:46:07.445597Z",
          "shell.execute_reply.started": "2021-10-05T16:46:07.437283Z",
          "shell.execute_reply": "2021-10-05T16:46:07.444368Z"
        },
        "trusted": true,
        "id": "wkmaH6bekLdO",
        "outputId": "ba71cb9e-628f-4229-d0ab-369502cc3d17"
      },
      "execution_count": null,
      "outputs": [
        {
          "execution_count": 54,
          "output_type": "execute_result",
          "data": {
            "text/plain": "0    1\n1    0\n2    0\n3    0\n4    0\nName: TARGET, dtype: int64"
          },
          "metadata": {}
        }
      ]
    },
    {
      "cell_type": "code",
      "source": [
        "def rare_encoder(dataframe, rare_perc):\n",
        "    temp_df = dataframe.copy()\n",
        "\n",
        "    rare_columns = [col for col in temp_df.columns if temp_df[col].dtypes == 'O'\n",
        "                    and (temp_df[col].value_counts() / len(temp_df) < rare_perc).any(axis=None)]\n",
        "\n",
        "    for var in rare_columns:\n",
        "        tmp = temp_df[var].value_counts() / len(temp_df)\n",
        "        rare_labels = tmp[tmp < rare_perc].index\n",
        "        temp_df[var] = np.where(temp_df[var].isin(rare_labels), 'Rare', temp_df[var])\n",
        "\n",
        "    return temp_df\n",
        "\n",
        "new_df = rare_encoder(df, 0.01)"
      ],
      "metadata": {
        "execution": {
          "iopub.status.busy": "2021-10-05T16:46:51.275573Z",
          "iopub.execute_input": "2021-10-05T16:46:51.276477Z",
          "iopub.status.idle": "2021-10-05T16:46:52.525990Z",
          "shell.execute_reply.started": "2021-10-05T16:46:51.276425Z",
          "shell.execute_reply": "2021-10-05T16:46:52.525272Z"
        },
        "trusted": true,
        "id": "JfAGoUwvkLdO"
      },
      "execution_count": null,
      "outputs": []
    },
    {
      "cell_type": "code",
      "source": [
        "cat_cols, num_cols, cat_but_car = grab_col_names(df)\n",
        "# With the ouput, we can analyze the rare columns\n",
        "rare_analyser(new_df, \"TARGET\", cat_cols)"
      ],
      "metadata": {
        "execution": {
          "iopub.status.busy": "2021-10-05T16:47:55.344711Z",
          "iopub.execute_input": "2021-10-05T16:47:55.345514Z",
          "iopub.status.idle": "2021-10-05T16:47:59.559816Z",
          "shell.execute_reply.started": "2021-10-05T16:47:55.345453Z",
          "shell.execute_reply": "2021-10-05T16:47:59.558785Z"
        },
        "trusted": true,
        "id": "mAGVS8nFkLdO",
        "outputId": "5a8596eb-e50f-49a9-917a-d5ece0b69c14"
      },
      "execution_count": null,
      "outputs": [
        {
          "name": "stdout",
          "text": "Observations: 307511\nVariables: 122\ncat_cols: 54\nnum_cols: 67\ncat_but_car: 1\nnum_but_cat: 39\nNAME_CONTRACT_TYPE : 2\n                  COUNT     RATIO  TARGET_MEAN\nCash loans       278232  0.904787     0.083459\nRevolving loans   29279  0.095213     0.054783\n\n\nCODE_GENDER : 3\n       COUNT     RATIO  TARGET_MEAN\nF     202448  0.658344     0.069993\nM     105059  0.341643     0.101419\nRare       4  0.000013     0.000000\n\n\nFLAG_OWN_CAR : 2\n    COUNT     RATIO  TARGET_MEAN\nN  202924  0.659892     0.085002\nY  104587  0.340108     0.072437\n\n\nFLAG_OWN_REALTY : 2\n    COUNT     RATIO  TARGET_MEAN\nN   94199  0.306327     0.083249\nY  213312  0.693673     0.079616\n\n\nNAME_TYPE_SUITE : 5\n                  COUNT     RATIO  TARGET_MEAN\nChildren           3267  0.010624     0.073768\nFamily            40149  0.130561     0.074946\nRare               2907  0.009453     0.093911\nSpouse, partner   11370  0.036974     0.078716\nUnaccompanied    248526  0.808186     0.081830\n\n\nNAME_INCOME_TYPE : 5\n                       COUNT     RATIO  TARGET_MEAN\nCommercial associate   71617  0.232892     0.074843\nPensioner              55362  0.180033     0.053864\nRare                      55  0.000179     0.181818\nState servant          21703  0.070576     0.057550\nWorking               158774  0.516320     0.095885\n\n\nNAME_EDUCATION_TYPE : 5\n                                COUNT     RATIO  TARGET_MEAN\nHigher education                74863  0.243448     0.053551\nIncomplete higher               10277  0.033420     0.084850\nLower secondary                  3816  0.012409     0.109277\nRare                              164  0.000533     0.018293\nSecondary / secondary special  218391  0.710189     0.089399\n\n\nNAME_FAMILY_STATUS : 6\n                       COUNT     RATIO  TARGET_MEAN\nCivil marriage         29775  0.096826     0.099446\nMarried               196432  0.638780     0.075599\nRare                       2  0.000007     0.000000\nSeparated              19770  0.064290     0.081942\nSingle / not married   45444  0.147780     0.098077\nWidow                  16088  0.052317     0.058242\n\n\nNAME_HOUSING_TYPE : 5\n                      COUNT     RATIO  TARGET_MEAN\nHouse / apartment    272868  0.887344     0.077957\nMunicipal apartment   11183  0.036366     0.085397\nRare                   3739  0.012159     0.069805\nRented apartment       4881  0.015873     0.123131\nWith parents          14840  0.048258     0.116981\n\n\nOCCUPATION_TYPE : 12\n                       COUNT     RATIO  TARGET_MEAN\nAccountants             9813  0.031911     0.048303\nCleaning staff          4653  0.015131     0.096067\nCooking staff           5946  0.019336     0.104440\nCore staff             27570  0.089655     0.063040\nDrivers                18603  0.060495     0.113261\nHigh skill tech staff  11380  0.037007     0.061599\nLaborers               55186  0.179460     0.105788\nManagers               21371  0.069497     0.062140\nMedicine staff          8537  0.027762     0.067002\nRare                    9238  0.030041     0.098181\nSales staff            32102  0.104393     0.096318\nSecurity staff          6721  0.021856     0.107424\n\n\nWEEKDAY_APPR_PROCESS_START : 7\n           COUNT     RATIO  TARGET_MEAN\nFRIDAY     50338  0.163695     0.081469\nMONDAY     50714  0.164918     0.077572\nSATURDAY   33852  0.110084     0.078873\nSUNDAY     16181  0.052619     0.079291\nTHURSDAY   50591  0.164518     0.081003\nTUESDAY    53901  0.175282     0.083505\nWEDNESDAY  51934  0.168885     0.081604\n\n\nFONDKAPREMONT_MODE : 4\n                       COUNT     RATIO  TARGET_MEAN\nnot specified           5687  0.018494     0.075435\norg spec account        5619  0.018273     0.058195\nreg oper account       73830  0.240089     0.069782\nreg oper spec account  12080  0.039283     0.065563\n\n\nHOUSETYPE_MODE : 2\n                 COUNT     RATIO  TARGET_MEAN\nRare              2711  0.008816     0.094061\nblock of flats  150503  0.489423     0.069434\n\n\nWALLSMATERIAL_MODE : 5\n              COUNT     RATIO  TARGET_MEAN\nBlock          9253  0.030090     0.070247\nPanel         66040  0.214757     0.063477\nRare           5700  0.018536     0.068772\nStone, brick  64815  0.210773     0.074057\nWooden         5362  0.017437     0.096979\n\n\nEMERGENCYSTATE_MODE : 2\n       COUNT     RATIO  TARGET_MEAN\nNo    159428  0.518446     0.069649\nRare    2328  0.007570     0.095790\n\n\nTARGET : 2\n    COUNT     RATIO  TARGET_MEAN\n0  282686  0.919271          0.0\n1   24825  0.080729          1.0\n\n\nFLAG_MOBIL : 2\n    COUNT     RATIO  TARGET_MEAN\n0       1  0.000003     0.000000\n1  307510  0.999997     0.080729\n\n\nFLAG_EMP_PHONE : 2\n    COUNT     RATIO  TARGET_MEAN\n0   55386  0.180111     0.054003\n1  252125  0.819889     0.086600\n\n\nFLAG_WORK_PHONE : 2\n    COUNT     RATIO  TARGET_MEAN\n0  246203  0.800632     0.076851\n1   61308  0.199368     0.096301\n\n\nFLAG_CONT_MOBILE : 2\n    COUNT     RATIO  TARGET_MEAN\n0     574  0.001867     0.078397\n1  306937  0.998133     0.080733\n\n\nFLAG_PHONE : 2\n    COUNT     RATIO  TARGET_MEAN\n0  221080  0.718934     0.084784\n1   86431  0.281066     0.070357\n\n\nFLAG_EMAIL : 2\n    COUNT    RATIO  TARGET_MEAN\n0  290069  0.94328     0.080846\n1   17442  0.05672     0.078775\n\n\nREGION_RATING_CLIENT : 3\n    COUNT     RATIO  TARGET_MEAN\n1   32197  0.104702     0.048203\n2  226984  0.738133     0.078891\n3   48330  0.157165     0.111028\n\n\nREGION_RATING_CLIENT_W_CITY : 3\n    COUNT     RATIO  TARGET_MEAN\n1   34167  0.111108     0.048409\n2  229484  0.746263     0.079178\n3   43860  0.142629     0.114022\n\n\nREG_REGION_NOT_LIVE_REGION : 2\n    COUNT     RATIO  TARGET_MEAN\n0  302854  0.984856     0.080540\n1    4657  0.015144     0.092978\n\n\nREG_REGION_NOT_WORK_REGION : 2\n    COUNT     RATIO  TARGET_MEAN\n0  291899  0.949231     0.080291\n1   15612  0.050769     0.088906\n\n\nLIVE_REGION_NOT_WORK_REGION : 2\n    COUNT     RATIO  TARGET_MEAN\n0  295008  0.959341     0.080571\n1   12503  0.040659     0.084460\n\n\nREG_CITY_NOT_LIVE_CITY : 2\n    COUNT     RATIO  TARGET_MEAN\n0  283472  0.921827     0.077207\n1   24039  0.078173     0.122260\n\n\nREG_CITY_NOT_WORK_CITY : 2\n    COUNT     RATIO  TARGET_MEAN\n0  236644  0.769546     0.073127\n1   70867  0.230454     0.106114\n\n\nLIVE_CITY_NOT_WORK_CITY : 2\n    COUNT     RATIO  TARGET_MEAN\n0  252296  0.820445     0.076585\n1   55215  0.179555     0.099665\n\n\nDEF_60_CNT_SOCIAL_CIRCLE : 9\n       COUNT     RATIO  TARGET_MEAN\n0.0   280721  0.912881     0.078348\n1.0    21841  0.071025     0.105169\n2.0     3170  0.010309     0.121451\n3.0      598  0.001945     0.158863\n4.0      135  0.000439     0.111111\n5.0       20  0.000065     0.150000\n6.0        3  0.000010     0.000000\n7.0        1  0.000003     0.000000\n24.0       1  0.000003     0.000000\n\n\nFLAG_DOCUMENT_2 : 2\n    COUNT     RATIO  TARGET_MEAN\n0  307498  0.999958     0.080719\n1      13  0.000042     0.307692\n\n\nFLAG_DOCUMENT_3 : 2\n    COUNT     RATIO  TARGET_MEAN\n0   89171  0.289977     0.061825\n1  218340  0.710023     0.088449\n\n\nFLAG_DOCUMENT_4 : 2\n    COUNT     RATIO  TARGET_MEAN\n0  307486  0.999919     0.080735\n1      25  0.000081     0.000000\n\n\nFLAG_DOCUMENT_5 : 2\n    COUNT     RATIO  TARGET_MEAN\n0  302863  0.984885     0.080739\n1    4648  0.015115     0.080034\n\n\nFLAG_DOCUMENT_6 : 2\n    COUNT     RATIO  TARGET_MEAN\n0  280433  0.911945     0.083150\n1   27078  0.088055     0.055654\n\n\nFLAG_DOCUMENT_7 : 2\n    COUNT     RATIO  TARGET_MEAN\n0  307452  0.999808     0.080735\n1      59  0.000192     0.050847\n\n\nFLAG_DOCUMENT_8 : 2\n    COUNT     RATIO  TARGET_MEAN\n0  282487  0.918624     0.081381\n1   25024  0.081376     0.073370\n\n\nFLAG_DOCUMENT_9 : 2\n    COUNT     RATIO  TARGET_MEAN\n0  306313  0.996104     0.080803\n1    1198  0.003896     0.061770\n\n\nFLAG_DOCUMENT_10 : 2\n    COUNT     RATIO  TARGET_MEAN\n0  307504  0.999977     0.080731\n1       7  0.000023     0.000000\n\n\nFLAG_DOCUMENT_11 : 2\n    COUNT     RATIO  TARGET_MEAN\n0  306308  0.996088     0.080801\n1    1203  0.003912     0.062344\n\n\nFLAG_DOCUMENT_12 : 2\n    COUNT     RATIO  TARGET_MEAN\n0  307509  0.999993     0.080729\n1       2  0.000007     0.000000\n\n\nFLAG_DOCUMENT_13 : 2\n    COUNT     RATIO  TARGET_MEAN\n0  306427  0.996475     0.080916\n1    1084  0.003525     0.027675\n\n\nFLAG_DOCUMENT_14 : 2\n    COUNT     RATIO  TARGET_MEAN\n0  306608  0.997064     0.080869\n1     903  0.002936     0.033223\n\n\nFLAG_DOCUMENT_15 : 2\n    COUNT    RATIO  TARGET_MEAN\n0  307139  0.99879     0.080791\n1     372  0.00121     0.029570\n\n\nFLAG_DOCUMENT_16 : 2\n    COUNT     RATIO  TARGET_MEAN\n0  304458  0.990072     0.081046\n1    3053  0.009928     0.049132\n\n\nFLAG_DOCUMENT_17 : 2\n    COUNT     RATIO  TARGET_MEAN\n0  307429  0.999733     0.080744\n1      82  0.000267     0.024390\n\n\nFLAG_DOCUMENT_18 : 2\n    COUNT    RATIO  TARGET_MEAN\n0  305011  0.99187     0.080925\n1    2500  0.00813     0.056800\n\n\nFLAG_DOCUMENT_19 : 2\n    COUNT     RATIO  TARGET_MEAN\n0  307328  0.999405     0.080738\n1     183  0.000595     0.065574\n\n\nFLAG_DOCUMENT_20 : 2\n    COUNT     RATIO  TARGET_MEAN\n0  307355  0.999493     0.080727\n1     156  0.000507     0.083333\n\n\nFLAG_DOCUMENT_21 : 2\n    COUNT     RATIO  TARGET_MEAN\n0  307408  0.999665     0.080710\n1     103  0.000335     0.135922\n\n\nAMT_REQ_CREDIT_BUREAU_HOUR : 5\n      COUNT     RATIO  TARGET_MEAN\n0.0  264366  0.859696     0.077173\n1.0    1560  0.005073     0.080128\n2.0      56  0.000182     0.107143\n3.0       9  0.000029     0.000000\n4.0       1  0.000003     0.000000\n\n\nAMT_REQ_CREDIT_BUREAU_DAY : 9\n      COUNT     RATIO  TARGET_MEAN\n0.0  264503  0.860142     0.077096\n1.0    1292  0.004201     0.096749\n2.0     106  0.000345     0.103774\n3.0      45  0.000146     0.044444\n4.0      26  0.000085     0.115385\n5.0       9  0.000029     0.000000\n6.0       8  0.000026     0.000000\n8.0       1  0.000003     0.000000\n9.0       2  0.000007     0.000000\n\n\nAMT_REQ_CREDIT_BUREAU_WEEK : 9\n      COUNT     RATIO  TARGET_MEAN\n0.0  257456  0.837225     0.077159\n1.0    8208  0.026692     0.077729\n2.0     199  0.000647     0.100503\n3.0      58  0.000189     0.068966\n4.0      34  0.000111     0.117647\n5.0      10  0.000033     0.100000\n6.0      20  0.000065     0.050000\n7.0       2  0.000007     0.000000\n8.0       5  0.000016     0.000000\n\n\n",
          "output_type": "stream"
        }
      ]
    },
    {
      "cell_type": "code",
      "source": [
        "rare_analyser(df, \"TARGET\", cat_cols)"
      ],
      "metadata": {
        "execution": {
          "iopub.status.busy": "2021-10-05T16:48:20.789562Z",
          "iopub.execute_input": "2021-10-05T16:48:20.789844Z",
          "iopub.status.idle": "2021-10-05T16:48:23.519106Z",
          "shell.execute_reply.started": "2021-10-05T16:48:20.789814Z",
          "shell.execute_reply": "2021-10-05T16:48:23.518254Z"
        },
        "trusted": true,
        "id": "Y27yD0hgkLdP",
        "outputId": "7025b223-a752-4ae4-b17a-48282d7c2c40"
      },
      "execution_count": null,
      "outputs": [
        {
          "name": "stdout",
          "text": "NAME_CONTRACT_TYPE : 2\n                  COUNT     RATIO  TARGET_MEAN\nCash loans       278232  0.904787     0.083459\nRevolving loans   29279  0.095213     0.054783\n\n\nCODE_GENDER : 3\n      COUNT     RATIO  TARGET_MEAN\nF    202448  0.658344     0.069993\nM    105059  0.341643     0.101419\nXNA       4  0.000013     0.000000\n\n\nFLAG_OWN_CAR : 2\n    COUNT     RATIO  TARGET_MEAN\nN  202924  0.659892     0.085002\nY  104587  0.340108     0.072437\n\n\nFLAG_OWN_REALTY : 2\n    COUNT     RATIO  TARGET_MEAN\nN   94199  0.306327     0.083249\nY  213312  0.693673     0.079616\n\n\nNAME_TYPE_SUITE : 7\n                  COUNT     RATIO  TARGET_MEAN\nChildren           3267  0.010624     0.073768\nFamily            40149  0.130561     0.074946\nGroup of people     271  0.000881     0.084871\nOther_A             866  0.002816     0.087760\nOther_B            1770  0.005756     0.098305\nSpouse, partner   11370  0.036974     0.078716\nUnaccompanied    248526  0.808186     0.081830\n\n\nNAME_INCOME_TYPE : 8\n                       COUNT     RATIO  TARGET_MEAN\nBusinessman               10  0.000033     0.000000\nCommercial associate   71617  0.232892     0.074843\nMaternity leave            5  0.000016     0.400000\nPensioner              55362  0.180033     0.053864\nState servant          21703  0.070576     0.057550\nStudent                   18  0.000059     0.000000\nUnemployed                22  0.000072     0.363636\nWorking               158774  0.516320     0.095885\n\n\nNAME_EDUCATION_TYPE : 5\n                                COUNT     RATIO  TARGET_MEAN\nAcademic degree                   164  0.000533     0.018293\nHigher education                74863  0.243448     0.053551\nIncomplete higher               10277  0.033420     0.084850\nLower secondary                  3816  0.012409     0.109277\nSecondary / secondary special  218391  0.710189     0.089399\n\n\nNAME_FAMILY_STATUS : 6\n                       COUNT     RATIO  TARGET_MEAN\nCivil marriage         29775  0.096826     0.099446\nMarried               196432  0.638780     0.075599\nSeparated              19770  0.064290     0.081942\nSingle / not married   45444  0.147780     0.098077\nUnknown                    2  0.000007     0.000000\nWidow                  16088  0.052317     0.058242\n\n\nNAME_HOUSING_TYPE : 6\n                      COUNT     RATIO  TARGET_MEAN\nCo-op apartment        1122  0.003649     0.079323\nHouse / apartment    272868  0.887344     0.077957\nMunicipal apartment   11183  0.036366     0.085397\nOffice apartment       2617  0.008510     0.065724\nRented apartment       4881  0.015873     0.123131\nWith parents          14840  0.048258     0.116981\n\n\nOCCUPATION_TYPE : 18\n                       COUNT     RATIO  TARGET_MEAN\nAccountants             9813  0.031911     0.048303\nCleaning staff          4653  0.015131     0.096067\nCooking staff           5946  0.019336     0.104440\nCore staff             27570  0.089655     0.063040\nDrivers                18603  0.060495     0.113261\nHR staff                 563  0.001831     0.063943\nHigh skill tech staff  11380  0.037007     0.061599\nIT staff                 526  0.001711     0.064639\nLaborers               55186  0.179460     0.105788\nLow-skill Laborers      2093  0.006806     0.171524\nManagers               21371  0.069497     0.062140\nMedicine staff          8537  0.027762     0.067002\nPrivate service staff   2652  0.008624     0.065988\nRealty agents            751  0.002442     0.078562\nSales staff            32102  0.104393     0.096318\nSecretaries             1305  0.004244     0.070498\nSecurity staff          6721  0.021856     0.107424\nWaiters/barmen staff    1348  0.004384     0.112760\n\n\nWEEKDAY_APPR_PROCESS_START : 7\n           COUNT     RATIO  TARGET_MEAN\nFRIDAY     50338  0.163695     0.081469\nMONDAY     50714  0.164918     0.077572\nSATURDAY   33852  0.110084     0.078873\nSUNDAY     16181  0.052619     0.079291\nTHURSDAY   50591  0.164518     0.081003\nTUESDAY    53901  0.175282     0.083505\nWEDNESDAY  51934  0.168885     0.081604\n\n\nFONDKAPREMONT_MODE : 4\n                       COUNT     RATIO  TARGET_MEAN\nnot specified           5687  0.018494     0.075435\norg spec account        5619  0.018273     0.058195\nreg oper account       73830  0.240089     0.069782\nreg oper spec account  12080  0.039283     0.065563\n\n\nHOUSETYPE_MODE : 3\n                   COUNT     RATIO  TARGET_MEAN\nblock of flats    150503  0.489423     0.069434\nspecific housing    1499  0.004875     0.101401\nterraced house      1212  0.003941     0.084983\n\n\nWALLSMATERIAL_MODE : 7\n              COUNT     RATIO  TARGET_MEAN\nBlock          9253  0.030090     0.070247\nMixed          2296  0.007466     0.075348\nMonolithic     1779  0.005785     0.047218\nOthers         1625  0.005284     0.083077\nPanel         66040  0.214757     0.063477\nStone, brick  64815  0.210773     0.074057\nWooden         5362  0.017437     0.096979\n\n\nEMERGENCYSTATE_MODE : 2\n      COUNT     RATIO  TARGET_MEAN\nNo   159428  0.518446     0.069649\nYes    2328  0.007570     0.095790\n\n\nTARGET : 2\n    COUNT     RATIO  TARGET_MEAN\n0  282686  0.919271          0.0\n1   24825  0.080729          1.0\n\n\nFLAG_MOBIL : 2\n    COUNT     RATIO  TARGET_MEAN\n0       1  0.000003     0.000000\n1  307510  0.999997     0.080729\n\n\nFLAG_EMP_PHONE : 2\n    COUNT     RATIO  TARGET_MEAN\n0   55386  0.180111     0.054003\n1  252125  0.819889     0.086600\n\n\nFLAG_WORK_PHONE : 2\n    COUNT     RATIO  TARGET_MEAN\n0  246203  0.800632     0.076851\n1   61308  0.199368     0.096301\n\n\nFLAG_CONT_MOBILE : 2\n    COUNT     RATIO  TARGET_MEAN\n0     574  0.001867     0.078397\n1  306937  0.998133     0.080733\n\n\nFLAG_PHONE : 2\n    COUNT     RATIO  TARGET_MEAN\n0  221080  0.718934     0.084784\n1   86431  0.281066     0.070357\n\n\nFLAG_EMAIL : 2\n    COUNT    RATIO  TARGET_MEAN\n0  290069  0.94328     0.080846\n1   17442  0.05672     0.078775\n\n\nREGION_RATING_CLIENT : 3\n    COUNT     RATIO  TARGET_MEAN\n1   32197  0.104702     0.048203\n2  226984  0.738133     0.078891\n3   48330  0.157165     0.111028\n\n\nREGION_RATING_CLIENT_W_CITY : 3\n    COUNT     RATIO  TARGET_MEAN\n1   34167  0.111108     0.048409\n2  229484  0.746263     0.079178\n3   43860  0.142629     0.114022\n\n\nREG_REGION_NOT_LIVE_REGION : 2\n    COUNT     RATIO  TARGET_MEAN\n0  302854  0.984856     0.080540\n1    4657  0.015144     0.092978\n\n\nREG_REGION_NOT_WORK_REGION : 2\n    COUNT     RATIO  TARGET_MEAN\n0  291899  0.949231     0.080291\n1   15612  0.050769     0.088906\n\n\nLIVE_REGION_NOT_WORK_REGION : 2\n    COUNT     RATIO  TARGET_MEAN\n0  295008  0.959341     0.080571\n1   12503  0.040659     0.084460\n\n\nREG_CITY_NOT_LIVE_CITY : 2\n    COUNT     RATIO  TARGET_MEAN\n0  283472  0.921827     0.077207\n1   24039  0.078173     0.122260\n\n\nREG_CITY_NOT_WORK_CITY : 2\n    COUNT     RATIO  TARGET_MEAN\n0  236644  0.769546     0.073127\n1   70867  0.230454     0.106114\n\n\nLIVE_CITY_NOT_WORK_CITY : 2\n    COUNT     RATIO  TARGET_MEAN\n0  252296  0.820445     0.076585\n1   55215  0.179555     0.099665\n\n\nDEF_60_CNT_SOCIAL_CIRCLE : 9\n       COUNT     RATIO  TARGET_MEAN\n0.0   280721  0.912881     0.078348\n1.0    21841  0.071025     0.105169\n2.0     3170  0.010309     0.121451\n3.0      598  0.001945     0.158863\n4.0      135  0.000439     0.111111\n5.0       20  0.000065     0.150000\n6.0        3  0.000010     0.000000\n7.0        1  0.000003     0.000000\n24.0       1  0.000003     0.000000\n\n\nFLAG_DOCUMENT_2 : 2\n    COUNT     RATIO  TARGET_MEAN\n0  307498  0.999958     0.080719\n1      13  0.000042     0.307692\n\n\nFLAG_DOCUMENT_3 : 2\n    COUNT     RATIO  TARGET_MEAN\n0   89171  0.289977     0.061825\n1  218340  0.710023     0.088449\n\n\nFLAG_DOCUMENT_4 : 2\n    COUNT     RATIO  TARGET_MEAN\n0  307486  0.999919     0.080735\n1      25  0.000081     0.000000\n\n\nFLAG_DOCUMENT_5 : 2\n    COUNT     RATIO  TARGET_MEAN\n0  302863  0.984885     0.080739\n1    4648  0.015115     0.080034\n\n\nFLAG_DOCUMENT_6 : 2\n    COUNT     RATIO  TARGET_MEAN\n0  280433  0.911945     0.083150\n1   27078  0.088055     0.055654\n\n\nFLAG_DOCUMENT_7 : 2\n    COUNT     RATIO  TARGET_MEAN\n0  307452  0.999808     0.080735\n1      59  0.000192     0.050847\n\n\nFLAG_DOCUMENT_8 : 2\n    COUNT     RATIO  TARGET_MEAN\n0  282487  0.918624     0.081381\n1   25024  0.081376     0.073370\n\n\nFLAG_DOCUMENT_9 : 2\n    COUNT     RATIO  TARGET_MEAN\n0  306313  0.996104     0.080803\n1    1198  0.003896     0.061770\n\n\nFLAG_DOCUMENT_10 : 2\n    COUNT     RATIO  TARGET_MEAN\n0  307504  0.999977     0.080731\n1       7  0.000023     0.000000\n\n\nFLAG_DOCUMENT_11 : 2\n    COUNT     RATIO  TARGET_MEAN\n0  306308  0.996088     0.080801\n1    1203  0.003912     0.062344\n\n\nFLAG_DOCUMENT_12 : 2\n    COUNT     RATIO  TARGET_MEAN\n0  307509  0.999993     0.080729\n1       2  0.000007     0.000000\n\n\nFLAG_DOCUMENT_13 : 2\n    COUNT     RATIO  TARGET_MEAN\n0  306427  0.996475     0.080916\n1    1084  0.003525     0.027675\n\n\nFLAG_DOCUMENT_14 : 2\n    COUNT     RATIO  TARGET_MEAN\n0  306608  0.997064     0.080869\n1     903  0.002936     0.033223\n\n\nFLAG_DOCUMENT_15 : 2\n    COUNT    RATIO  TARGET_MEAN\n0  307139  0.99879     0.080791\n1     372  0.00121     0.029570\n\n\nFLAG_DOCUMENT_16 : 2\n    COUNT     RATIO  TARGET_MEAN\n0  304458  0.990072     0.081046\n1    3053  0.009928     0.049132\n\n\nFLAG_DOCUMENT_17 : 2\n    COUNT     RATIO  TARGET_MEAN\n0  307429  0.999733     0.080744\n1      82  0.000267     0.024390\n\n\nFLAG_DOCUMENT_18 : 2\n    COUNT    RATIO  TARGET_MEAN\n0  305011  0.99187     0.080925\n1    2500  0.00813     0.056800\n\n\nFLAG_DOCUMENT_19 : 2\n    COUNT     RATIO  TARGET_MEAN\n0  307328  0.999405     0.080738\n1     183  0.000595     0.065574\n\n\nFLAG_DOCUMENT_20 : 2\n    COUNT     RATIO  TARGET_MEAN\n0  307355  0.999493     0.080727\n1     156  0.000507     0.083333\n\n\nFLAG_DOCUMENT_21 : 2\n    COUNT     RATIO  TARGET_MEAN\n0  307408  0.999665     0.080710\n1     103  0.000335     0.135922\n\n\nAMT_REQ_CREDIT_BUREAU_HOUR : 5\n      COUNT     RATIO  TARGET_MEAN\n0.0  264366  0.859696     0.077173\n1.0    1560  0.005073     0.080128\n2.0      56  0.000182     0.107143\n3.0       9  0.000029     0.000000\n4.0       1  0.000003     0.000000\n\n\nAMT_REQ_CREDIT_BUREAU_DAY : 9\n      COUNT     RATIO  TARGET_MEAN\n0.0  264503  0.860142     0.077096\n1.0    1292  0.004201     0.096749\n2.0     106  0.000345     0.103774\n3.0      45  0.000146     0.044444\n4.0      26  0.000085     0.115385\n5.0       9  0.000029     0.000000\n6.0       8  0.000026     0.000000\n8.0       1  0.000003     0.000000\n9.0       2  0.000007     0.000000\n\n\nAMT_REQ_CREDIT_BUREAU_WEEK : 9\n      COUNT     RATIO  TARGET_MEAN\n0.0  257456  0.837225     0.077159\n1.0    8208  0.026692     0.077729\n2.0     199  0.000647     0.100503\n3.0      58  0.000189     0.068966\n4.0      34  0.000111     0.117647\n5.0      10  0.000033     0.100000\n6.0      20  0.000065     0.050000\n7.0       2  0.000007     0.000000\n8.0       5  0.000016     0.000000\n\n\n",
          "output_type": "stream"
        }
      ]
    },
    {
      "cell_type": "markdown",
      "source": [
        "# 4. Feature Scaling\n",
        "\n",
        "![image.png](https://miro.medium.com/max/2000/1*yR54MSI1jjnf2QeGtt57PA.png)\n",
        "\n",
        "Feature scaling in machine learning is one of the most critical steps during the pre-processing of data before creating a machine learning model. Scaling can make a difference between a weak machine learning model and a better one.\n",
        "The most common techniques of feature scaling are Normalization and Standardization.\n",
        "Normalization is used when we want to bound our values between two numbers, typically, between [0,1] or [-1,1]. While Standardization transforms the data to have zero mean and a variance of 1, they make our data unitless. Refer to the below diagram, which shows how data looks after scaling in the X-Y plane.\n",
        "\n",
        "![image.png](https://i.stack.imgur.com/lggVP.png)\n",
        "\n",
        "__Type of feature scaling:__\n",
        "\n",
        "- __StandardScaler__: z = (x - u) / s\n",
        "\n",
        "- __RobustScaler__: value = (value – median) / (p75 – p25)\n",
        "\n",
        "- __MinMaxScaler__:  \n",
        "        \n",
        "        X_std = (X - X.min(axis=0)) / (X.max(axis=0) - X.min(axis=0))\n",
        "        X_scaled = X_std * (max - min) + min\n",
        "\n",
        "\n",
        "- __Logaritmic Scaler__: Taking the log of the value. But, if we have a negative values we couldn't take the log. So we need to be careful abaout it.\n",
        "\n",
        "\n",
        "Source:\n",
        "\n",
        "[Towards Data Science](https://towardsdatascience.com/all-about-feature-scaling-bcc0ad75cb35)"
      ],
      "metadata": {
        "id": "qzA_WCKykLdP"
      }
    },
    {
      "cell_type": "code",
      "source": [
        "df = pd.read_csv(\"../input/data-science-day1-titanic/DSB_Day1_Titanic_train.csv\")\n",
        "\n",
        "scaler = StandardScaler()\n",
        "\n",
        "df[\"Age_standard_scaler\"] = scaler.fit_transform(df[[\"Age\"]])\n",
        "\n",
        "df.head()"
      ],
      "metadata": {
        "execution": {
          "iopub.status.busy": "2021-10-05T16:57:41.150659Z",
          "iopub.execute_input": "2021-10-05T16:57:41.150949Z",
          "iopub.status.idle": "2021-10-05T16:57:41.183595Z",
          "shell.execute_reply.started": "2021-10-05T16:57:41.150917Z",
          "shell.execute_reply": "2021-10-05T16:57:41.182390Z"
        },
        "trusted": true,
        "id": "lB57YLUYkLdP",
        "outputId": "901c34e3-fe84-4c55-d8c8-ff5592c55b3f"
      },
      "execution_count": null,
      "outputs": [
        {
          "execution_count": 59,
          "output_type": "execute_result",
          "data": {
            "text/plain": "   PassengerId  Survived  Pclass  \\\n0            1         0       3   \n1            2         1       1   \n2            3         1       3   \n3            4         1       1   \n4            5         0       3   \n\n                                                Name     Sex   Age  SibSp  \\\n0                            Braund, Mr. Owen Harris    male  22.0      1   \n1  Cumings, Mrs. John Bradley (Florence Briggs Th...  female  38.0      1   \n2                             Heikkinen, Miss. Laina  female  26.0      0   \n3       Futrelle, Mrs. Jacques Heath (Lily May Peel)  female  35.0      1   \n4                           Allen, Mr. William Henry    male  35.0      0   \n\n   Parch            Ticket     Fare Cabin Embarked  Age_standard_scaler  \n0      0         A/5 21171   7.2500   NaN        S            -0.530377  \n1      0          PC 17599  71.2833   C85        C             0.571831  \n2      0  STON/O2. 3101282   7.9250   NaN        S            -0.254825  \n3      0            113803  53.1000  C123        S             0.365167  \n4      0            373450   8.0500   NaN        S             0.365167  ",
            "text/html": "<div>\n<style scoped>\n    .dataframe tbody tr th:only-of-type {\n        vertical-align: middle;\n    }\n\n    .dataframe tbody tr th {\n        vertical-align: top;\n    }\n\n    .dataframe thead th {\n        text-align: right;\n    }\n</style>\n<table border=\"1\" class=\"dataframe\">\n  <thead>\n    <tr style=\"text-align: right;\">\n      <th></th>\n      <th>PassengerId</th>\n      <th>Survived</th>\n      <th>Pclass</th>\n      <th>Name</th>\n      <th>Sex</th>\n      <th>Age</th>\n      <th>SibSp</th>\n      <th>Parch</th>\n      <th>Ticket</th>\n      <th>Fare</th>\n      <th>Cabin</th>\n      <th>Embarked</th>\n      <th>Age_standard_scaler</th>\n    </tr>\n  </thead>\n  <tbody>\n    <tr>\n      <th>0</th>\n      <td>1</td>\n      <td>0</td>\n      <td>3</td>\n      <td>Braund, Mr. Owen Harris</td>\n      <td>male</td>\n      <td>22.0</td>\n      <td>1</td>\n      <td>0</td>\n      <td>A/5 21171</td>\n      <td>7.2500</td>\n      <td>NaN</td>\n      <td>S</td>\n      <td>-0.530377</td>\n    </tr>\n    <tr>\n      <th>1</th>\n      <td>2</td>\n      <td>1</td>\n      <td>1</td>\n      <td>Cumings, Mrs. John Bradley (Florence Briggs Th...</td>\n      <td>female</td>\n      <td>38.0</td>\n      <td>1</td>\n      <td>0</td>\n      <td>PC 17599</td>\n      <td>71.2833</td>\n      <td>C85</td>\n      <td>C</td>\n      <td>0.571831</td>\n    </tr>\n    <tr>\n      <th>2</th>\n      <td>3</td>\n      <td>1</td>\n      <td>3</td>\n      <td>Heikkinen, Miss. Laina</td>\n      <td>female</td>\n      <td>26.0</td>\n      <td>0</td>\n      <td>0</td>\n      <td>STON/O2. 3101282</td>\n      <td>7.9250</td>\n      <td>NaN</td>\n      <td>S</td>\n      <td>-0.254825</td>\n    </tr>\n    <tr>\n      <th>3</th>\n      <td>4</td>\n      <td>1</td>\n      <td>1</td>\n      <td>Futrelle, Mrs. Jacques Heath (Lily May Peel)</td>\n      <td>female</td>\n      <td>35.0</td>\n      <td>1</td>\n      <td>0</td>\n      <td>113803</td>\n      <td>53.1000</td>\n      <td>C123</td>\n      <td>S</td>\n      <td>0.365167</td>\n    </tr>\n    <tr>\n      <th>4</th>\n      <td>5</td>\n      <td>0</td>\n      <td>3</td>\n      <td>Allen, Mr. William Henry</td>\n      <td>male</td>\n      <td>35.0</td>\n      <td>0</td>\n      <td>0</td>\n      <td>373450</td>\n      <td>8.0500</td>\n      <td>NaN</td>\n      <td>S</td>\n      <td>0.365167</td>\n    </tr>\n  </tbody>\n</table>\n</div>"
          },
          "metadata": {}
        }
      ]
    },
    {
      "cell_type": "code",
      "source": [
        "rscaler = RobustScaler()\n",
        "\n",
        "df[\"Age_robuts_scaler\"] = rscaler.fit_transform(df[[\"Age\"]])\n",
        "\n",
        "df.head()"
      ],
      "metadata": {
        "execution": {
          "iopub.status.busy": "2021-10-05T16:58:18.173471Z",
          "iopub.execute_input": "2021-10-05T16:58:18.173808Z",
          "iopub.status.idle": "2021-10-05T16:58:18.201502Z",
          "shell.execute_reply.started": "2021-10-05T16:58:18.173776Z",
          "shell.execute_reply": "2021-10-05T16:58:18.200731Z"
        },
        "trusted": true,
        "id": "dJToHY7JkLdP",
        "outputId": "45eb3812-6d53-4632-b675-e7f8f4922ec1"
      },
      "execution_count": null,
      "outputs": [
        {
          "execution_count": 60,
          "output_type": "execute_result",
          "data": {
            "text/plain": "   PassengerId  Survived  Pclass  \\\n0            1         0       3   \n1            2         1       1   \n2            3         1       3   \n3            4         1       1   \n4            5         0       3   \n\n                                                Name     Sex   Age  SibSp  \\\n0                            Braund, Mr. Owen Harris    male  22.0      1   \n1  Cumings, Mrs. John Bradley (Florence Briggs Th...  female  38.0      1   \n2                             Heikkinen, Miss. Laina  female  26.0      0   \n3       Futrelle, Mrs. Jacques Heath (Lily May Peel)  female  35.0      1   \n4                           Allen, Mr. William Henry    male  35.0      0   \n\n   Parch            Ticket     Fare Cabin Embarked  Age_standard_scaler  \\\n0      0         A/5 21171   7.2500   NaN        S            -0.530377   \n1      0          PC 17599  71.2833   C85        C             0.571831   \n2      0  STON/O2. 3101282   7.9250   NaN        S            -0.254825   \n3      0            113803  53.1000  C123        S             0.365167   \n4      0            373450   8.0500   NaN        S             0.365167   \n\n   Age_robuts_scaler  \n0          -0.335664  \n1           0.559441  \n2          -0.111888  \n3           0.391608  \n4           0.391608  ",
            "text/html": "<div>\n<style scoped>\n    .dataframe tbody tr th:only-of-type {\n        vertical-align: middle;\n    }\n\n    .dataframe tbody tr th {\n        vertical-align: top;\n    }\n\n    .dataframe thead th {\n        text-align: right;\n    }\n</style>\n<table border=\"1\" class=\"dataframe\">\n  <thead>\n    <tr style=\"text-align: right;\">\n      <th></th>\n      <th>PassengerId</th>\n      <th>Survived</th>\n      <th>Pclass</th>\n      <th>Name</th>\n      <th>Sex</th>\n      <th>Age</th>\n      <th>SibSp</th>\n      <th>Parch</th>\n      <th>Ticket</th>\n      <th>Fare</th>\n      <th>Cabin</th>\n      <th>Embarked</th>\n      <th>Age_standard_scaler</th>\n      <th>Age_robuts_scaler</th>\n    </tr>\n  </thead>\n  <tbody>\n    <tr>\n      <th>0</th>\n      <td>1</td>\n      <td>0</td>\n      <td>3</td>\n      <td>Braund, Mr. Owen Harris</td>\n      <td>male</td>\n      <td>22.0</td>\n      <td>1</td>\n      <td>0</td>\n      <td>A/5 21171</td>\n      <td>7.2500</td>\n      <td>NaN</td>\n      <td>S</td>\n      <td>-0.530377</td>\n      <td>-0.335664</td>\n    </tr>\n    <tr>\n      <th>1</th>\n      <td>2</td>\n      <td>1</td>\n      <td>1</td>\n      <td>Cumings, Mrs. John Bradley (Florence Briggs Th...</td>\n      <td>female</td>\n      <td>38.0</td>\n      <td>1</td>\n      <td>0</td>\n      <td>PC 17599</td>\n      <td>71.2833</td>\n      <td>C85</td>\n      <td>C</td>\n      <td>0.571831</td>\n      <td>0.559441</td>\n    </tr>\n    <tr>\n      <th>2</th>\n      <td>3</td>\n      <td>1</td>\n      <td>3</td>\n      <td>Heikkinen, Miss. Laina</td>\n      <td>female</td>\n      <td>26.0</td>\n      <td>0</td>\n      <td>0</td>\n      <td>STON/O2. 3101282</td>\n      <td>7.9250</td>\n      <td>NaN</td>\n      <td>S</td>\n      <td>-0.254825</td>\n      <td>-0.111888</td>\n    </tr>\n    <tr>\n      <th>3</th>\n      <td>4</td>\n      <td>1</td>\n      <td>1</td>\n      <td>Futrelle, Mrs. Jacques Heath (Lily May Peel)</td>\n      <td>female</td>\n      <td>35.0</td>\n      <td>1</td>\n      <td>0</td>\n      <td>113803</td>\n      <td>53.1000</td>\n      <td>C123</td>\n      <td>S</td>\n      <td>0.365167</td>\n      <td>0.391608</td>\n    </tr>\n    <tr>\n      <th>4</th>\n      <td>5</td>\n      <td>0</td>\n      <td>3</td>\n      <td>Allen, Mr. William Henry</td>\n      <td>male</td>\n      <td>35.0</td>\n      <td>0</td>\n      <td>0</td>\n      <td>373450</td>\n      <td>8.0500</td>\n      <td>NaN</td>\n      <td>S</td>\n      <td>0.365167</td>\n      <td>0.391608</td>\n    </tr>\n  </tbody>\n</table>\n</div>"
          },
          "metadata": {}
        }
      ]
    },
    {
      "cell_type": "code",
      "source": [
        "mmscaler = MinMaxScaler()\n",
        "\n",
        "df[\"Age_min_max_scaler\"] = mmscaler.fit_transform(df[[\"Age\"]])\n",
        "\n",
        "df.head()"
      ],
      "metadata": {
        "execution": {
          "iopub.status.busy": "2021-10-05T16:58:47.829050Z",
          "iopub.execute_input": "2021-10-05T16:58:47.829330Z",
          "iopub.status.idle": "2021-10-05T16:58:47.857105Z",
          "shell.execute_reply.started": "2021-10-05T16:58:47.829301Z",
          "shell.execute_reply": "2021-10-05T16:58:47.856373Z"
        },
        "trusted": true,
        "id": "8YtgHZNJkLdQ",
        "outputId": "99746b31-c387-405a-eaba-dbb663819d8b"
      },
      "execution_count": null,
      "outputs": [
        {
          "execution_count": 61,
          "output_type": "execute_result",
          "data": {
            "text/plain": "   PassengerId  Survived  Pclass  \\\n0            1         0       3   \n1            2         1       1   \n2            3         1       3   \n3            4         1       1   \n4            5         0       3   \n\n                                                Name     Sex   Age  SibSp  \\\n0                            Braund, Mr. Owen Harris    male  22.0      1   \n1  Cumings, Mrs. John Bradley (Florence Briggs Th...  female  38.0      1   \n2                             Heikkinen, Miss. Laina  female  26.0      0   \n3       Futrelle, Mrs. Jacques Heath (Lily May Peel)  female  35.0      1   \n4                           Allen, Mr. William Henry    male  35.0      0   \n\n   Parch            Ticket     Fare Cabin Embarked  Age_standard_scaler  \\\n0      0         A/5 21171   7.2500   NaN        S            -0.530377   \n1      0          PC 17599  71.2833   C85        C             0.571831   \n2      0  STON/O2. 3101282   7.9250   NaN        S            -0.254825   \n3      0            113803  53.1000  C123        S             0.365167   \n4      0            373450   8.0500   NaN        S             0.365167   \n\n   Age_robuts_scaler  Age_min_max_scaler  \n0          -0.335664            0.271174  \n1           0.559441            0.472229  \n2          -0.111888            0.321438  \n3           0.391608            0.434531  \n4           0.391608            0.434531  ",
            "text/html": "<div>\n<style scoped>\n    .dataframe tbody tr th:only-of-type {\n        vertical-align: middle;\n    }\n\n    .dataframe tbody tr th {\n        vertical-align: top;\n    }\n\n    .dataframe thead th {\n        text-align: right;\n    }\n</style>\n<table border=\"1\" class=\"dataframe\">\n  <thead>\n    <tr style=\"text-align: right;\">\n      <th></th>\n      <th>PassengerId</th>\n      <th>Survived</th>\n      <th>Pclass</th>\n      <th>Name</th>\n      <th>Sex</th>\n      <th>Age</th>\n      <th>SibSp</th>\n      <th>Parch</th>\n      <th>Ticket</th>\n      <th>Fare</th>\n      <th>Cabin</th>\n      <th>Embarked</th>\n      <th>Age_standard_scaler</th>\n      <th>Age_robuts_scaler</th>\n      <th>Age_min_max_scaler</th>\n    </tr>\n  </thead>\n  <tbody>\n    <tr>\n      <th>0</th>\n      <td>1</td>\n      <td>0</td>\n      <td>3</td>\n      <td>Braund, Mr. Owen Harris</td>\n      <td>male</td>\n      <td>22.0</td>\n      <td>1</td>\n      <td>0</td>\n      <td>A/5 21171</td>\n      <td>7.2500</td>\n      <td>NaN</td>\n      <td>S</td>\n      <td>-0.530377</td>\n      <td>-0.335664</td>\n      <td>0.271174</td>\n    </tr>\n    <tr>\n      <th>1</th>\n      <td>2</td>\n      <td>1</td>\n      <td>1</td>\n      <td>Cumings, Mrs. John Bradley (Florence Briggs Th...</td>\n      <td>female</td>\n      <td>38.0</td>\n      <td>1</td>\n      <td>0</td>\n      <td>PC 17599</td>\n      <td>71.2833</td>\n      <td>C85</td>\n      <td>C</td>\n      <td>0.571831</td>\n      <td>0.559441</td>\n      <td>0.472229</td>\n    </tr>\n    <tr>\n      <th>2</th>\n      <td>3</td>\n      <td>1</td>\n      <td>3</td>\n      <td>Heikkinen, Miss. Laina</td>\n      <td>female</td>\n      <td>26.0</td>\n      <td>0</td>\n      <td>0</td>\n      <td>STON/O2. 3101282</td>\n      <td>7.9250</td>\n      <td>NaN</td>\n      <td>S</td>\n      <td>-0.254825</td>\n      <td>-0.111888</td>\n      <td>0.321438</td>\n    </tr>\n    <tr>\n      <th>3</th>\n      <td>4</td>\n      <td>1</td>\n      <td>1</td>\n      <td>Futrelle, Mrs. Jacques Heath (Lily May Peel)</td>\n      <td>female</td>\n      <td>35.0</td>\n      <td>1</td>\n      <td>0</td>\n      <td>113803</td>\n      <td>53.1000</td>\n      <td>C123</td>\n      <td>S</td>\n      <td>0.365167</td>\n      <td>0.391608</td>\n      <td>0.434531</td>\n    </tr>\n    <tr>\n      <th>4</th>\n      <td>5</td>\n      <td>0</td>\n      <td>3</td>\n      <td>Allen, Mr. William Henry</td>\n      <td>male</td>\n      <td>35.0</td>\n      <td>0</td>\n      <td>0</td>\n      <td>373450</td>\n      <td>8.0500</td>\n      <td>NaN</td>\n      <td>S</td>\n      <td>0.365167</td>\n      <td>0.391608</td>\n      <td>0.434531</td>\n    </tr>\n  </tbody>\n</table>\n</div>"
          },
          "metadata": {}
        }
      ]
    },
    {
      "cell_type": "code",
      "source": [
        "df[\"Age_log\"] = np.log(df[\"Age\"])\n",
        "\n",
        "df.head()"
      ],
      "metadata": {
        "execution": {
          "iopub.status.busy": "2021-10-05T16:59:03.531784Z",
          "iopub.execute_input": "2021-10-05T16:59:03.532314Z",
          "iopub.status.idle": "2021-10-05T16:59:03.555456Z",
          "shell.execute_reply.started": "2021-10-05T16:59:03.532282Z",
          "shell.execute_reply": "2021-10-05T16:59:03.554398Z"
        },
        "trusted": true,
        "id": "k1RsSexYkLdQ",
        "outputId": "77af7833-c822-4e1c-c082-7594fd884ab0"
      },
      "execution_count": null,
      "outputs": [
        {
          "execution_count": 62,
          "output_type": "execute_result",
          "data": {
            "text/plain": "   PassengerId  Survived  Pclass  \\\n0            1         0       3   \n1            2         1       1   \n2            3         1       3   \n3            4         1       1   \n4            5         0       3   \n\n                                                Name     Sex   Age  SibSp  \\\n0                            Braund, Mr. Owen Harris    male  22.0      1   \n1  Cumings, Mrs. John Bradley (Florence Briggs Th...  female  38.0      1   \n2                             Heikkinen, Miss. Laina  female  26.0      0   \n3       Futrelle, Mrs. Jacques Heath (Lily May Peel)  female  35.0      1   \n4                           Allen, Mr. William Henry    male  35.0      0   \n\n   Parch            Ticket     Fare Cabin Embarked  Age_standard_scaler  \\\n0      0         A/5 21171   7.2500   NaN        S            -0.530377   \n1      0          PC 17599  71.2833   C85        C             0.571831   \n2      0  STON/O2. 3101282   7.9250   NaN        S            -0.254825   \n3      0            113803  53.1000  C123        S             0.365167   \n4      0            373450   8.0500   NaN        S             0.365167   \n\n   Age_robuts_scaler  Age_min_max_scaler   Age_log  \n0          -0.335664            0.271174  3.091042  \n1           0.559441            0.472229  3.637586  \n2          -0.111888            0.321438  3.258097  \n3           0.391608            0.434531  3.555348  \n4           0.391608            0.434531  3.555348  ",
            "text/html": "<div>\n<style scoped>\n    .dataframe tbody tr th:only-of-type {\n        vertical-align: middle;\n    }\n\n    .dataframe tbody tr th {\n        vertical-align: top;\n    }\n\n    .dataframe thead th {\n        text-align: right;\n    }\n</style>\n<table border=\"1\" class=\"dataframe\">\n  <thead>\n    <tr style=\"text-align: right;\">\n      <th></th>\n      <th>PassengerId</th>\n      <th>Survived</th>\n      <th>Pclass</th>\n      <th>Name</th>\n      <th>Sex</th>\n      <th>Age</th>\n      <th>SibSp</th>\n      <th>Parch</th>\n      <th>Ticket</th>\n      <th>Fare</th>\n      <th>Cabin</th>\n      <th>Embarked</th>\n      <th>Age_standard_scaler</th>\n      <th>Age_robuts_scaler</th>\n      <th>Age_min_max_scaler</th>\n      <th>Age_log</th>\n    </tr>\n  </thead>\n  <tbody>\n    <tr>\n      <th>0</th>\n      <td>1</td>\n      <td>0</td>\n      <td>3</td>\n      <td>Braund, Mr. Owen Harris</td>\n      <td>male</td>\n      <td>22.0</td>\n      <td>1</td>\n      <td>0</td>\n      <td>A/5 21171</td>\n      <td>7.2500</td>\n      <td>NaN</td>\n      <td>S</td>\n      <td>-0.530377</td>\n      <td>-0.335664</td>\n      <td>0.271174</td>\n      <td>3.091042</td>\n    </tr>\n    <tr>\n      <th>1</th>\n      <td>2</td>\n      <td>1</td>\n      <td>1</td>\n      <td>Cumings, Mrs. John Bradley (Florence Briggs Th...</td>\n      <td>female</td>\n      <td>38.0</td>\n      <td>1</td>\n      <td>0</td>\n      <td>PC 17599</td>\n      <td>71.2833</td>\n      <td>C85</td>\n      <td>C</td>\n      <td>0.571831</td>\n      <td>0.559441</td>\n      <td>0.472229</td>\n      <td>3.637586</td>\n    </tr>\n    <tr>\n      <th>2</th>\n      <td>3</td>\n      <td>1</td>\n      <td>3</td>\n      <td>Heikkinen, Miss. Laina</td>\n      <td>female</td>\n      <td>26.0</td>\n      <td>0</td>\n      <td>0</td>\n      <td>STON/O2. 3101282</td>\n      <td>7.9250</td>\n      <td>NaN</td>\n      <td>S</td>\n      <td>-0.254825</td>\n      <td>-0.111888</td>\n      <td>0.321438</td>\n      <td>3.258097</td>\n    </tr>\n    <tr>\n      <th>3</th>\n      <td>4</td>\n      <td>1</td>\n      <td>1</td>\n      <td>Futrelle, Mrs. Jacques Heath (Lily May Peel)</td>\n      <td>female</td>\n      <td>35.0</td>\n      <td>1</td>\n      <td>0</td>\n      <td>113803</td>\n      <td>53.1000</td>\n      <td>C123</td>\n      <td>S</td>\n      <td>0.365167</td>\n      <td>0.391608</td>\n      <td>0.434531</td>\n      <td>3.555348</td>\n    </tr>\n    <tr>\n      <th>4</th>\n      <td>5</td>\n      <td>0</td>\n      <td>3</td>\n      <td>Allen, Mr. William Henry</td>\n      <td>male</td>\n      <td>35.0</td>\n      <td>0</td>\n      <td>0</td>\n      <td>373450</td>\n      <td>8.0500</td>\n      <td>NaN</td>\n      <td>S</td>\n      <td>0.365167</td>\n      <td>0.391608</td>\n      <td>0.434531</td>\n      <td>3.555348</td>\n    </tr>\n  </tbody>\n</table>\n</div>"
          },
          "metadata": {}
        }
      ]
    },
    {
      "cell_type": "markdown",
      "source": [
        "# 5. Feature Extraction\n",
        "\n",
        "Feature extraction is a process of dimensionality reduction by which an initial set of raw data is reduced to more manageable groups for processing. A characteristic of these large data sets is a large number of variables that require a lot of computing resources to process.\n",
        "\n",
        "![image.png](https://www.shopfactory.com/contents/media/feature-people.png)\n",
        "\n",
        "[Deep AI](https://deepai.org/machine-learning-glossary-and-terms/feature-extraction#:~:text=Feature%20extraction%20is%20a%20process,of%20computing%20resources%20to%20process.)"
      ],
      "metadata": {
        "id": "Uthm1rz0kLdQ"
      }
    },
    {
      "cell_type": "code",
      "source": [
        "# If the cabin is Nan we will assign as 0 otherwise 1\n",
        "# We know that employees att Titanic dont have Cabin\n",
        "\n",
        "df[\"NEW_CABIN_BOOL\"] = df[\"Cabin\"].notnull().astype('int')\n",
        "\n",
        "# So let's analyze them if they survive or not\n",
        "\n",
        "df.groupby(\"NEW_CABIN_BOOL\").agg({\"Survived\": \"mean\"})"
      ],
      "metadata": {
        "execution": {
          "iopub.status.busy": "2021-10-05T17:21:51.310487Z",
          "iopub.execute_input": "2021-10-05T17:21:51.310795Z",
          "iopub.status.idle": "2021-10-05T17:21:51.324300Z",
          "shell.execute_reply.started": "2021-10-05T17:21:51.310765Z",
          "shell.execute_reply": "2021-10-05T17:21:51.323301Z"
        },
        "trusted": true,
        "id": "W8b-lUwdkLdR",
        "outputId": "7dd6c04f-645a-4f8b-ced4-f715399c0121"
      },
      "execution_count": null,
      "outputs": [
        {
          "execution_count": 65,
          "output_type": "execute_result",
          "data": {
            "text/plain": "                Survived\nNEW_CABIN_BOOL          \n0               0.299854\n1               0.666667",
            "text/html": "<div>\n<style scoped>\n    .dataframe tbody tr th:only-of-type {\n        vertical-align: middle;\n    }\n\n    .dataframe tbody tr th {\n        vertical-align: top;\n    }\n\n    .dataframe thead th {\n        text-align: right;\n    }\n</style>\n<table border=\"1\" class=\"dataframe\">\n  <thead>\n    <tr style=\"text-align: right;\">\n      <th></th>\n      <th>Survived</th>\n    </tr>\n    <tr>\n      <th>NEW_CABIN_BOOL</th>\n      <th></th>\n    </tr>\n  </thead>\n  <tbody>\n    <tr>\n      <th>0</th>\n      <td>0.299854</td>\n    </tr>\n    <tr>\n      <th>1</th>\n      <td>0.666667</td>\n    </tr>\n  </tbody>\n</table>\n</div>"
          },
          "metadata": {}
        }
      ]
    },
    {
      "cell_type": "code",
      "source": [
        "# Lets check the used method for Cabin column using proportion test\n",
        "\n",
        "from statsmodels.stats.proportion import proportions_ztest\n",
        "\n",
        "test_stat, pvalue = proportions_ztest(count=[df.loc[df[\"NEW_CABIN_BOOL\"] == 1, \"Survived\"].sum(),\n",
        "                                             df.loc[df[\"NEW_CABIN_BOOL\"] == 0, \"Survived\"].sum()],\n",
        "\n",
        "                                      nobs=[df.loc[df[\"NEW_CABIN_BOOL\"] == 1, \"Survived\"].shape[0],\n",
        "                                            df.loc[df[\"NEW_CABIN_BOOL\"] == 0, \"Survived\"].shape[0]])\n",
        "\n",
        "print('Test Stat = %.4f, p-value = %.4f' % (test_stat, pvalue))\n",
        "\n",
        "# Ho rejected. That means, there is no difference between the cabin breakdown for Survived target as statistically"
      ],
      "metadata": {
        "execution": {
          "iopub.status.busy": "2021-10-05T17:25:51.222013Z",
          "iopub.execute_input": "2021-10-05T17:25:51.222319Z",
          "iopub.status.idle": "2021-10-05T17:25:51.267262Z",
          "shell.execute_reply.started": "2021-10-05T17:25:51.222278Z",
          "shell.execute_reply": "2021-10-05T17:25:51.266272Z"
        },
        "trusted": true,
        "id": "Z04d_VJakLdR",
        "outputId": "d1c6e3f4-7c06-4039-c664-2806c8a6c6b3"
      },
      "execution_count": null,
      "outputs": [
        {
          "name": "stdout",
          "text": "Test Stat = 9.4597, p-value = 0.0000\n",
          "output_type": "stream"
        }
      ]
    },
    {
      "cell_type": "code",
      "source": [
        "#sibsp\t# of siblings / spouses aboard the Titanic\n",
        "#parch\t# of parents / children aboard the Titanic\n",
        "\n",
        "# Lets check the relation as alone or not using feature extraction\n",
        "\n",
        "df.loc[((df['SibSp'] + df['Parch']) > 0), \"NEW_IS_ALONE\"] = \"NO\"\n",
        "df.loc[((df['SibSp'] + df['Parch']) == 0), \"NEW_IS_ALONE\"] = \"YES\"\n",
        "df.head()"
      ],
      "metadata": {
        "execution": {
          "iopub.status.busy": "2021-10-05T17:29:40.868913Z",
          "iopub.execute_input": "2021-10-05T17:29:40.869374Z",
          "iopub.status.idle": "2021-10-05T17:29:40.897398Z",
          "shell.execute_reply.started": "2021-10-05T17:29:40.869325Z",
          "shell.execute_reply": "2021-10-05T17:29:40.896425Z"
        },
        "trusted": true,
        "id": "8fdUaTcVkLdR",
        "outputId": "2bc2530c-a9c6-499d-cc19-d146f665dc78"
      },
      "execution_count": null,
      "outputs": [
        {
          "execution_count": 68,
          "output_type": "execute_result",
          "data": {
            "text/plain": "   PassengerId  Survived  Pclass  \\\n0            1         0       3   \n1            2         1       1   \n2            3         1       3   \n3            4         1       1   \n4            5         0       3   \n\n                                                Name     Sex   Age  SibSp  \\\n0                            Braund, Mr. Owen Harris    male  22.0      1   \n1  Cumings, Mrs. John Bradley (Florence Briggs Th...  female  38.0      1   \n2                             Heikkinen, Miss. Laina  female  26.0      0   \n3       Futrelle, Mrs. Jacques Heath (Lily May Peel)  female  35.0      1   \n4                           Allen, Mr. William Henry    male  35.0      0   \n\n   Parch            Ticket     Fare Cabin Embarked  Age_standard_scaler  \\\n0      0         A/5 21171   7.2500   NaN        S            -0.530377   \n1      0          PC 17599  71.2833   C85        C             0.571831   \n2      0  STON/O2. 3101282   7.9250   NaN        S            -0.254825   \n3      0            113803  53.1000  C123        S             0.365167   \n4      0            373450   8.0500   NaN        S             0.365167   \n\n   Age_robuts_scaler  Age_min_max_scaler   Age_log  NEW_CABIN_BOOL  \\\n0          -0.335664            0.271174  3.091042               0   \n1           0.559441            0.472229  3.637586               1   \n2          -0.111888            0.321438  3.258097               0   \n3           0.391608            0.434531  3.555348               1   \n4           0.391608            0.434531  3.555348               0   \n\n  NEW_IS_ALONE  \n0           NO  \n1           NO  \n2          YES  \n3           NO  \n4          YES  ",
            "text/html": "<div>\n<style scoped>\n    .dataframe tbody tr th:only-of-type {\n        vertical-align: middle;\n    }\n\n    .dataframe tbody tr th {\n        vertical-align: top;\n    }\n\n    .dataframe thead th {\n        text-align: right;\n    }\n</style>\n<table border=\"1\" class=\"dataframe\">\n  <thead>\n    <tr style=\"text-align: right;\">\n      <th></th>\n      <th>PassengerId</th>\n      <th>Survived</th>\n      <th>Pclass</th>\n      <th>Name</th>\n      <th>Sex</th>\n      <th>Age</th>\n      <th>SibSp</th>\n      <th>Parch</th>\n      <th>Ticket</th>\n      <th>Fare</th>\n      <th>Cabin</th>\n      <th>Embarked</th>\n      <th>Age_standard_scaler</th>\n      <th>Age_robuts_scaler</th>\n      <th>Age_min_max_scaler</th>\n      <th>Age_log</th>\n      <th>NEW_CABIN_BOOL</th>\n      <th>NEW_IS_ALONE</th>\n    </tr>\n  </thead>\n  <tbody>\n    <tr>\n      <th>0</th>\n      <td>1</td>\n      <td>0</td>\n      <td>3</td>\n      <td>Braund, Mr. Owen Harris</td>\n      <td>male</td>\n      <td>22.0</td>\n      <td>1</td>\n      <td>0</td>\n      <td>A/5 21171</td>\n      <td>7.2500</td>\n      <td>NaN</td>\n      <td>S</td>\n      <td>-0.530377</td>\n      <td>-0.335664</td>\n      <td>0.271174</td>\n      <td>3.091042</td>\n      <td>0</td>\n      <td>NO</td>\n    </tr>\n    <tr>\n      <th>1</th>\n      <td>2</td>\n      <td>1</td>\n      <td>1</td>\n      <td>Cumings, Mrs. John Bradley (Florence Briggs Th...</td>\n      <td>female</td>\n      <td>38.0</td>\n      <td>1</td>\n      <td>0</td>\n      <td>PC 17599</td>\n      <td>71.2833</td>\n      <td>C85</td>\n      <td>C</td>\n      <td>0.571831</td>\n      <td>0.559441</td>\n      <td>0.472229</td>\n      <td>3.637586</td>\n      <td>1</td>\n      <td>NO</td>\n    </tr>\n    <tr>\n      <th>2</th>\n      <td>3</td>\n      <td>1</td>\n      <td>3</td>\n      <td>Heikkinen, Miss. Laina</td>\n      <td>female</td>\n      <td>26.0</td>\n      <td>0</td>\n      <td>0</td>\n      <td>STON/O2. 3101282</td>\n      <td>7.9250</td>\n      <td>NaN</td>\n      <td>S</td>\n      <td>-0.254825</td>\n      <td>-0.111888</td>\n      <td>0.321438</td>\n      <td>3.258097</td>\n      <td>0</td>\n      <td>YES</td>\n    </tr>\n    <tr>\n      <th>3</th>\n      <td>4</td>\n      <td>1</td>\n      <td>1</td>\n      <td>Futrelle, Mrs. Jacques Heath (Lily May Peel)</td>\n      <td>female</td>\n      <td>35.0</td>\n      <td>1</td>\n      <td>0</td>\n      <td>113803</td>\n      <td>53.1000</td>\n      <td>C123</td>\n      <td>S</td>\n      <td>0.365167</td>\n      <td>0.391608</td>\n      <td>0.434531</td>\n      <td>3.555348</td>\n      <td>1</td>\n      <td>NO</td>\n    </tr>\n    <tr>\n      <th>4</th>\n      <td>5</td>\n      <td>0</td>\n      <td>3</td>\n      <td>Allen, Mr. William Henry</td>\n      <td>male</td>\n      <td>35.0</td>\n      <td>0</td>\n      <td>0</td>\n      <td>373450</td>\n      <td>8.0500</td>\n      <td>NaN</td>\n      <td>S</td>\n      <td>0.365167</td>\n      <td>0.391608</td>\n      <td>0.434531</td>\n      <td>3.555348</td>\n      <td>0</td>\n      <td>YES</td>\n    </tr>\n  </tbody>\n</table>\n</div>"
          },
          "metadata": {}
        }
      ]
    },
    {
      "cell_type": "code",
      "source": [
        "df.groupby(\"NEW_IS_ALONE\").agg({\"Survived\": \"mean\"})"
      ],
      "metadata": {
        "execution": {
          "iopub.status.busy": "2021-10-05T17:30:36.381275Z",
          "iopub.execute_input": "2021-10-05T17:30:36.381813Z",
          "iopub.status.idle": "2021-10-05T17:30:36.397887Z",
          "shell.execute_reply.started": "2021-10-05T17:30:36.381764Z",
          "shell.execute_reply": "2021-10-05T17:30:36.396807Z"
        },
        "trusted": true,
        "id": "kf1mVL7ckLdS",
        "outputId": "9d079348-50e3-48bc-a755-a04970cffd0a"
      },
      "execution_count": null,
      "outputs": [
        {
          "execution_count": 69,
          "output_type": "execute_result",
          "data": {
            "text/plain": "              Survived\nNEW_IS_ALONE          \nNO            0.505650\nYES           0.303538",
            "text/html": "<div>\n<style scoped>\n    .dataframe tbody tr th:only-of-type {\n        vertical-align: middle;\n    }\n\n    .dataframe tbody tr th {\n        vertical-align: top;\n    }\n\n    .dataframe thead th {\n        text-align: right;\n    }\n</style>\n<table border=\"1\" class=\"dataframe\">\n  <thead>\n    <tr style=\"text-align: right;\">\n      <th></th>\n      <th>Survived</th>\n    </tr>\n    <tr>\n      <th>NEW_IS_ALONE</th>\n      <th></th>\n    </tr>\n  </thead>\n  <tbody>\n    <tr>\n      <th>NO</th>\n      <td>0.505650</td>\n    </tr>\n    <tr>\n      <th>YES</th>\n      <td>0.303538</td>\n    </tr>\n  </tbody>\n</table>\n</div>"
          },
          "metadata": {}
        }
      ]
    },
    {
      "cell_type": "code",
      "source": [
        "test_stat, pvalue = proportions_ztest(count=[df.loc[df[\"NEW_IS_ALONE\"] == \"YES\", \"Survived\"].sum(),\n",
        "                                             df.loc[df[\"NEW_IS_ALONE\"] == \"NO\", \"Survived\"].sum()],\n",
        "\n",
        "                                      nobs=[df.loc[df[\"NEW_IS_ALONE\"] == \"YES\", \"Survived\"].shape[0],\n",
        "                                            df.loc[df[\"NEW_IS_ALONE\"] == \"NO\", \"Survived\"].shape[0]])\n",
        "\n",
        "print('Test Stat = %.4f, p-value = %.4f' % (test_stat, pvalue))\n",
        "\n",
        "# Ho rejected. That means, there is no difference between the cabin breakdown for Survived target as statistically"
      ],
      "metadata": {
        "execution": {
          "iopub.status.busy": "2021-10-05T17:32:01.534260Z",
          "iopub.execute_input": "2021-10-05T17:32:01.534530Z",
          "iopub.status.idle": "2021-10-05T17:32:01.552134Z",
          "shell.execute_reply.started": "2021-10-05T17:32:01.534501Z",
          "shell.execute_reply": "2021-10-05T17:32:01.549765Z"
        },
        "trusted": true,
        "id": "nrEguRGnkLdS",
        "outputId": "f5717fb3-c549-4978-adb3-041c5b25cfc3"
      },
      "execution_count": null,
      "outputs": [
        {
          "name": "stdout",
          "text": "Test Stat = -6.0704, p-value = 0.0000\n",
          "output_type": "stream"
        }
      ]
    },
    {
      "cell_type": "code",
      "source": [
        "# Lets check the title of the titanic crew and analyze\n",
        "\n",
        "df[\"NEW_NAME_DR\"] = df[\"Name\"].apply(lambda x: len([x for x in x.split() if x.startswith(\"Dr\")]))\n",
        "df.groupby(\"NEW_NAME_DR\").agg({\"Survived\": \"mean\"})"
      ],
      "metadata": {
        "execution": {
          "iopub.status.busy": "2021-10-05T17:33:01.692702Z",
          "iopub.execute_input": "2021-10-05T17:33:01.693473Z",
          "iopub.status.idle": "2021-10-05T17:33:01.711042Z",
          "shell.execute_reply.started": "2021-10-05T17:33:01.693420Z",
          "shell.execute_reply": "2021-10-05T17:33:01.710017Z"
        },
        "trusted": true,
        "id": "AuuKiVPakLdS",
        "outputId": "f72e28e3-f733-43c4-8b4f-05c5ddf51d15"
      },
      "execution_count": null,
      "outputs": [
        {
          "execution_count": 72,
          "output_type": "execute_result",
          "data": {
            "text/plain": "             Survived\nNEW_NAME_DR          \n0             0.38252\n1             0.50000",
            "text/html": "<div>\n<style scoped>\n    .dataframe tbody tr th:only-of-type {\n        vertical-align: middle;\n    }\n\n    .dataframe tbody tr th {\n        vertical-align: top;\n    }\n\n    .dataframe thead th {\n        text-align: right;\n    }\n</style>\n<table border=\"1\" class=\"dataframe\">\n  <thead>\n    <tr style=\"text-align: right;\">\n      <th></th>\n      <th>Survived</th>\n    </tr>\n    <tr>\n      <th>NEW_NAME_DR</th>\n      <th></th>\n    </tr>\n  </thead>\n  <tbody>\n    <tr>\n      <th>0</th>\n      <td>0.38252</td>\n    </tr>\n    <tr>\n      <th>1</th>\n      <td>0.50000</td>\n    </tr>\n  </tbody>\n</table>\n</div>"
          },
          "metadata": {}
        }
      ]
    },
    {
      "cell_type": "code",
      "source": [
        "# Lets use the same method for all title using regex\n",
        "df['NEW_TITLE'] = df.Name.str.extract(' ([A-Za-z]+)\\.', expand=False)\n",
        "df[[\"NEW_TITLE\", \"Survived\", \"Age\"]].groupby([\"NEW_TITLE\"]).agg({\"Survived\": \"mean\", \"Age\": [\"count\", \"mean\"]})"
      ],
      "metadata": {
        "execution": {
          "iopub.status.busy": "2021-10-05T17:34:47.272197Z",
          "iopub.execute_input": "2021-10-05T17:34:47.272500Z",
          "iopub.status.idle": "2021-10-05T17:34:47.299252Z",
          "shell.execute_reply.started": "2021-10-05T17:34:47.272469Z",
          "shell.execute_reply": "2021-10-05T17:34:47.298162Z"
        },
        "trusted": true,
        "id": "xPukKL12kLdT",
        "outputId": "1556606d-9132-4982-9f89-52dead9908ae"
      },
      "execution_count": null,
      "outputs": [
        {
          "execution_count": 73,
          "output_type": "execute_result",
          "data": {
            "text/plain": "           Survived   Age           \n               mean count       mean\nNEW_TITLE                           \nCapt       0.000000     1  70.000000\nCol        0.500000     2  58.000000\nCountess   1.000000     1  33.000000\nDon        0.000000     1  40.000000\nDr         0.428571     6  42.000000\nJonkheer   0.000000     1  38.000000\nLady       1.000000     1  48.000000\nMajor      0.500000     2  48.500000\nMaster     0.575000    36   4.574167\nMiss       0.697802   146  21.773973\nMlle       1.000000     2  24.000000\nMme        1.000000     1  24.000000\nMr         0.156673   398  32.368090\nMrs        0.792000   108  35.898148\nMs         1.000000     1  28.000000\nRev        0.000000     6  43.166667\nSir        1.000000     1  49.000000",
            "text/html": "<div>\n<style scoped>\n    .dataframe tbody tr th:only-of-type {\n        vertical-align: middle;\n    }\n\n    .dataframe tbody tr th {\n        vertical-align: top;\n    }\n\n    .dataframe thead tr th {\n        text-align: left;\n    }\n\n    .dataframe thead tr:last-of-type th {\n        text-align: right;\n    }\n</style>\n<table border=\"1\" class=\"dataframe\">\n  <thead>\n    <tr>\n      <th></th>\n      <th>Survived</th>\n      <th colspan=\"2\" halign=\"left\">Age</th>\n    </tr>\n    <tr>\n      <th></th>\n      <th>mean</th>\n      <th>count</th>\n      <th>mean</th>\n    </tr>\n    <tr>\n      <th>NEW_TITLE</th>\n      <th></th>\n      <th></th>\n      <th></th>\n    </tr>\n  </thead>\n  <tbody>\n    <tr>\n      <th>Capt</th>\n      <td>0.000000</td>\n      <td>1</td>\n      <td>70.000000</td>\n    </tr>\n    <tr>\n      <th>Col</th>\n      <td>0.500000</td>\n      <td>2</td>\n      <td>58.000000</td>\n    </tr>\n    <tr>\n      <th>Countess</th>\n      <td>1.000000</td>\n      <td>1</td>\n      <td>33.000000</td>\n    </tr>\n    <tr>\n      <th>Don</th>\n      <td>0.000000</td>\n      <td>1</td>\n      <td>40.000000</td>\n    </tr>\n    <tr>\n      <th>Dr</th>\n      <td>0.428571</td>\n      <td>6</td>\n      <td>42.000000</td>\n    </tr>\n    <tr>\n      <th>Jonkheer</th>\n      <td>0.000000</td>\n      <td>1</td>\n      <td>38.000000</td>\n    </tr>\n    <tr>\n      <th>Lady</th>\n      <td>1.000000</td>\n      <td>1</td>\n      <td>48.000000</td>\n    </tr>\n    <tr>\n      <th>Major</th>\n      <td>0.500000</td>\n      <td>2</td>\n      <td>48.500000</td>\n    </tr>\n    <tr>\n      <th>Master</th>\n      <td>0.575000</td>\n      <td>36</td>\n      <td>4.574167</td>\n    </tr>\n    <tr>\n      <th>Miss</th>\n      <td>0.697802</td>\n      <td>146</td>\n      <td>21.773973</td>\n    </tr>\n    <tr>\n      <th>Mlle</th>\n      <td>1.000000</td>\n      <td>2</td>\n      <td>24.000000</td>\n    </tr>\n    <tr>\n      <th>Mme</th>\n      <td>1.000000</td>\n      <td>1</td>\n      <td>24.000000</td>\n    </tr>\n    <tr>\n      <th>Mr</th>\n      <td>0.156673</td>\n      <td>398</td>\n      <td>32.368090</td>\n    </tr>\n    <tr>\n      <th>Mrs</th>\n      <td>0.792000</td>\n      <td>108</td>\n      <td>35.898148</td>\n    </tr>\n    <tr>\n      <th>Ms</th>\n      <td>1.000000</td>\n      <td>1</td>\n      <td>28.000000</td>\n    </tr>\n    <tr>\n      <th>Rev</th>\n      <td>0.000000</td>\n      <td>6</td>\n      <td>43.166667</td>\n    </tr>\n    <tr>\n      <th>Sir</th>\n      <td>1.000000</td>\n      <td>1</td>\n      <td>49.000000</td>\n    </tr>\n  </tbody>\n</table>\n</div>"
          },
          "metadata": {}
        }
      ]
    },
    {
      "cell_type": "markdown",
      "source": [
        "# 6. Feature Interactions\n",
        "\n",
        "![image.png](https://miro.medium.com/max/620/1*SGai7lOKRn9YhM2p-8SChQ.jpeg)\n",
        "\n",
        "If a machine learning model makes a prediction based on two features, we can decompose the prediction into four terms: a constant term, a term for the first feature, a term for the second feature and a term for the interaction between the two features.\n",
        "The interaction between two features is the change in the prediction that occurs by varying the features after considering the individual feature effects.\n"
      ],
      "metadata": {
        "id": "avkIcCdYkLdT"
      }
    },
    {
      "cell_type": "code",
      "source": [
        "\n",
        "df[\"NEW_FAMILY_SIZE\"] = df[\"SibSp\"] + df[\"Parch\"] + 1\n",
        "df.loc[(df['Sex'] == 'male') & (df['Age'] <= 21), 'NEW_SEX_CAT'] = 'youngmale'\n",
        "df.loc[(df['Sex'] == 'male') & ((df['Age'] > 21) & (df['Age']) < 50), 'NEW_SEX_CAT'] = 'maturemale'\n",
        "df.loc[(df['Sex'] == 'male') & (df['Age'] > 50), 'NEW_SEX_CAT'] = 'seniormale'\n",
        "df.loc[(df['Sex'] == 'female') & (df['Age'] <= 21), 'NEW_SEX_CAT'] = 'youngfemale'\n",
        "df.loc[(df['Sex'] == 'female') & ((df['Age'] > 21) & (df['Age']) < 50), 'NEW_SEX_CAT'] = 'maturefemale'\n",
        "df.loc[(df['Sex'] == 'female') & (df['Age'] > 50), 'NEW_SEX_CAT'] = 'seniorfemale'\n",
        "\n",
        "df[\"NEW_AGExPCLASS\"] = df[\"Age\"] * df[\"Pclass\"]"
      ],
      "metadata": {
        "execution": {
          "iopub.status.busy": "2021-10-05T17:37:46.573064Z",
          "iopub.execute_input": "2021-10-05T17:37:46.573377Z",
          "iopub.status.idle": "2021-10-05T17:37:46.596275Z",
          "shell.execute_reply.started": "2021-10-05T17:37:46.573337Z",
          "shell.execute_reply": "2021-10-05T17:37:46.595507Z"
        },
        "trusted": true,
        "id": "_hUIO7fNkLdT"
      },
      "execution_count": null,
      "outputs": []
    },
    {
      "cell_type": "code",
      "source": [
        "df.head()"
      ],
      "metadata": {
        "execution": {
          "iopub.status.busy": "2021-10-05T17:37:54.071214Z",
          "iopub.execute_input": "2021-10-05T17:37:54.072009Z",
          "iopub.status.idle": "2021-10-05T17:37:54.104817Z",
          "shell.execute_reply.started": "2021-10-05T17:37:54.071971Z",
          "shell.execute_reply": "2021-10-05T17:37:54.103633Z"
        },
        "trusted": true,
        "id": "_qEzDxSUkLdT",
        "outputId": "5700fda6-51a6-4e45-8d17-9704a2747962"
      },
      "execution_count": null,
      "outputs": [
        {
          "execution_count": 75,
          "output_type": "execute_result",
          "data": {
            "text/plain": "   PassengerId  Survived  Pclass  \\\n0            1         0       3   \n1            2         1       1   \n2            3         1       3   \n3            4         1       1   \n4            5         0       3   \n\n                                                Name     Sex   Age  SibSp  \\\n0                            Braund, Mr. Owen Harris    male  22.0      1   \n1  Cumings, Mrs. John Bradley (Florence Briggs Th...  female  38.0      1   \n2                             Heikkinen, Miss. Laina  female  26.0      0   \n3       Futrelle, Mrs. Jacques Heath (Lily May Peel)  female  35.0      1   \n4                           Allen, Mr. William Henry    male  35.0      0   \n\n   Parch            Ticket     Fare  ... Age_robuts_scaler Age_min_max_scaler  \\\n0      0         A/5 21171   7.2500  ...         -0.335664           0.271174   \n1      0          PC 17599  71.2833  ...          0.559441           0.472229   \n2      0  STON/O2. 3101282   7.9250  ...         -0.111888           0.321438   \n3      0            113803  53.1000  ...          0.391608           0.434531   \n4      0            373450   8.0500  ...          0.391608           0.434531   \n\n    Age_log  NEW_CABIN_BOOL  NEW_IS_ALONE  NEW_NAME_DR  NEW_TITLE  \\\n0  3.091042               0            NO            0         Mr   \n1  3.637586               1            NO            0        Mrs   \n2  3.258097               0           YES            0       Miss   \n3  3.555348               1            NO            0        Mrs   \n4  3.555348               0           YES            0         Mr   \n\n  NEW_FAMILY_SIZE   NEW_SEX_CAT NEW_AGExPCLASS  \n0               2    maturemale           66.0  \n1               2  maturefemale           38.0  \n2               1  maturefemale           78.0  \n3               2  maturefemale           35.0  \n4               1    maturemale          105.0  \n\n[5 rows x 23 columns]",
            "text/html": "<div>\n<style scoped>\n    .dataframe tbody tr th:only-of-type {\n        vertical-align: middle;\n    }\n\n    .dataframe tbody tr th {\n        vertical-align: top;\n    }\n\n    .dataframe thead th {\n        text-align: right;\n    }\n</style>\n<table border=\"1\" class=\"dataframe\">\n  <thead>\n    <tr style=\"text-align: right;\">\n      <th></th>\n      <th>PassengerId</th>\n      <th>Survived</th>\n      <th>Pclass</th>\n      <th>Name</th>\n      <th>Sex</th>\n      <th>Age</th>\n      <th>SibSp</th>\n      <th>Parch</th>\n      <th>Ticket</th>\n      <th>Fare</th>\n      <th>...</th>\n      <th>Age_robuts_scaler</th>\n      <th>Age_min_max_scaler</th>\n      <th>Age_log</th>\n      <th>NEW_CABIN_BOOL</th>\n      <th>NEW_IS_ALONE</th>\n      <th>NEW_NAME_DR</th>\n      <th>NEW_TITLE</th>\n      <th>NEW_FAMILY_SIZE</th>\n      <th>NEW_SEX_CAT</th>\n      <th>NEW_AGExPCLASS</th>\n    </tr>\n  </thead>\n  <tbody>\n    <tr>\n      <th>0</th>\n      <td>1</td>\n      <td>0</td>\n      <td>3</td>\n      <td>Braund, Mr. Owen Harris</td>\n      <td>male</td>\n      <td>22.0</td>\n      <td>1</td>\n      <td>0</td>\n      <td>A/5 21171</td>\n      <td>7.2500</td>\n      <td>...</td>\n      <td>-0.335664</td>\n      <td>0.271174</td>\n      <td>3.091042</td>\n      <td>0</td>\n      <td>NO</td>\n      <td>0</td>\n      <td>Mr</td>\n      <td>2</td>\n      <td>maturemale</td>\n      <td>66.0</td>\n    </tr>\n    <tr>\n      <th>1</th>\n      <td>2</td>\n      <td>1</td>\n      <td>1</td>\n      <td>Cumings, Mrs. John Bradley (Florence Briggs Th...</td>\n      <td>female</td>\n      <td>38.0</td>\n      <td>1</td>\n      <td>0</td>\n      <td>PC 17599</td>\n      <td>71.2833</td>\n      <td>...</td>\n      <td>0.559441</td>\n      <td>0.472229</td>\n      <td>3.637586</td>\n      <td>1</td>\n      <td>NO</td>\n      <td>0</td>\n      <td>Mrs</td>\n      <td>2</td>\n      <td>maturefemale</td>\n      <td>38.0</td>\n    </tr>\n    <tr>\n      <th>2</th>\n      <td>3</td>\n      <td>1</td>\n      <td>3</td>\n      <td>Heikkinen, Miss. Laina</td>\n      <td>female</td>\n      <td>26.0</td>\n      <td>0</td>\n      <td>0</td>\n      <td>STON/O2. 3101282</td>\n      <td>7.9250</td>\n      <td>...</td>\n      <td>-0.111888</td>\n      <td>0.321438</td>\n      <td>3.258097</td>\n      <td>0</td>\n      <td>YES</td>\n      <td>0</td>\n      <td>Miss</td>\n      <td>1</td>\n      <td>maturefemale</td>\n      <td>78.0</td>\n    </tr>\n    <tr>\n      <th>3</th>\n      <td>4</td>\n      <td>1</td>\n      <td>1</td>\n      <td>Futrelle, Mrs. Jacques Heath (Lily May Peel)</td>\n      <td>female</td>\n      <td>35.0</td>\n      <td>1</td>\n      <td>0</td>\n      <td>113803</td>\n      <td>53.1000</td>\n      <td>...</td>\n      <td>0.391608</td>\n      <td>0.434531</td>\n      <td>3.555348</td>\n      <td>1</td>\n      <td>NO</td>\n      <td>0</td>\n      <td>Mrs</td>\n      <td>2</td>\n      <td>maturefemale</td>\n      <td>35.0</td>\n    </tr>\n    <tr>\n      <th>4</th>\n      <td>5</td>\n      <td>0</td>\n      <td>3</td>\n      <td>Allen, Mr. William Henry</td>\n      <td>male</td>\n      <td>35.0</td>\n      <td>0</td>\n      <td>0</td>\n      <td>373450</td>\n      <td>8.0500</td>\n      <td>...</td>\n      <td>0.391608</td>\n      <td>0.434531</td>\n      <td>3.555348</td>\n      <td>0</td>\n      <td>YES</td>\n      <td>0</td>\n      <td>Mr</td>\n      <td>1</td>\n      <td>maturemale</td>\n      <td>105.0</td>\n    </tr>\n  </tbody>\n</table>\n<p>5 rows × 23 columns</p>\n</div>"
          },
          "metadata": {}
        }
      ]
    },
    {
      "cell_type": "markdown",
      "source": [
        "# 7. End-to-End Application\n",
        "\n",
        "We will use Titanic dataset and we will use all the feature engineering methods. After all this process, we will use Random Forest Classifier to predict Survive or not.\n",
        "\n",
        "![image.png](https://upload.wikimedia.org/wikipedia/commons/thumb/f/fd/RMS_Titanic_3.jpg/1200px-RMS_Titanic_3.jpg)"
      ],
      "metadata": {
        "id": "1skwwpBEkLdU"
      }
    },
    {
      "cell_type": "code",
      "source": [
        "df = pd.read_csv(\"../input/data-science-day1-titanic/DSB_Day1_Titanic_train.csv\")"
      ],
      "metadata": {
        "execution": {
          "iopub.status.busy": "2021-10-05T17:42:20.008410Z",
          "iopub.execute_input": "2021-10-05T17:42:20.008713Z",
          "iopub.status.idle": "2021-10-05T17:42:20.023263Z",
          "shell.execute_reply.started": "2021-10-05T17:42:20.008684Z",
          "shell.execute_reply": "2021-10-05T17:42:20.022224Z"
        },
        "trusted": true,
        "id": "JRspSF0RkLdU"
      },
      "execution_count": null,
      "outputs": []
    },
    {
      "cell_type": "code",
      "source": [
        "# Feature Engineering\n",
        "\n",
        "\n",
        "# Cabin bool\n",
        "df[\"NEW_CABIN_BOOL\"] = df[\"Cabin\"].notnull().astype('int')\n",
        "# Name count\n",
        "df[\"NEW_NAME_COUNT\"] = df[\"Name\"].str.len()\n",
        "# name word count\n",
        "df[\"NEW_NAME_WORD_COUNT\"] = df[\"Name\"].apply(lambda x: len(str(x).split(\" \")))\n",
        "# name dr\n",
        "df[\"NEW_NAME_DR\"] = df[\"Name\"].apply(lambda x: len([x for x in x.split() if x.startswith(\"Dr\")]))\n",
        "# name title\n",
        "df['NEW_TITLE'] = df.Name.str.extract(' ([A-Za-z]+)\\.', expand=False)\n",
        "# family size\n",
        "df[\"NEW_FAMILY_SIZE\"] = df[\"SibSp\"] + df[\"Parch\"] + 1\n",
        "# age_pclass\n",
        "df[\"NEW_AGE_PCLASS\"] = df[\"Age\"] * df[\"Pclass\"]\n",
        "# is alone\n",
        "df.loc[((df['SibSp'] + df['Parch']) > 0), \"NEW_IS_ALONE\"] = \"NO\"\n",
        "df.loc[((df['SibSp'] + df['Parch']) == 0), \"NEW_IS_ALONE\"] = \"YES\"\n",
        "# age level\n",
        "df.loc[(df['Age'] < 18), 'NEW_AGE_CAT'] = 'young'\n",
        "df.loc[(df['Age'] >= 18) & (df['Age'] < 56), 'NEW_AGE_CAT'] = 'mature'\n",
        "df.loc[(df['Age'] >= 56), 'NEW_AGE_CAT'] = 'senior'\n",
        "# sex x age\n",
        "df.loc[(df['Sex'] == 'male') & (df['Age'] <= 21), 'NEW_SEX_CAT'] = 'youngmale'\n",
        "df.loc[(df['Sex'] == 'male') & ((df['Age'] > 21) & (df['Age']) < 50), 'NEW_SEX_CAT'] = 'maturemale'\n",
        "df.loc[(df['Sex'] == 'male') & (df['Age'] > 50), 'NEW_SEX_CAT'] = 'seniormale'\n",
        "df.loc[(df['Sex'] == 'female') & (df['Age'] <= 21), 'NEW_SEX_CAT'] = 'youngfemale'\n",
        "df.loc[(df['Sex'] == 'female') & ((df['Age'] > 21) & (df['Age']) < 50), 'NEW_SEX_CAT'] = 'maturefemale'\n",
        "df.loc[(df['Sex'] == 'female') & (df['Age'] > 50), 'NEW_SEX_CAT'] = 'seniorfemale'\n",
        "\n",
        "df.head()"
      ],
      "metadata": {
        "execution": {
          "iopub.status.busy": "2021-10-05T17:45:40.361961Z",
          "iopub.execute_input": "2021-10-05T17:45:40.362397Z",
          "iopub.status.idle": "2021-10-05T17:45:40.434184Z",
          "shell.execute_reply.started": "2021-10-05T17:45:40.362364Z",
          "shell.execute_reply": "2021-10-05T17:45:40.433570Z"
        },
        "trusted": true,
        "id": "f9CAceZ-kLdU",
        "outputId": "43dbe68d-deb6-4a95-aec9-a0d65387b6c1"
      },
      "execution_count": null,
      "outputs": [
        {
          "execution_count": 81,
          "output_type": "execute_result",
          "data": {
            "text/plain": "   PassengerId  Survived  Pclass  \\\n0            1         0       3   \n1            2         1       1   \n2            3         1       3   \n3            4         1       1   \n4            5         0       3   \n\n                                                Name     Sex   Age  SibSp  \\\n0                            Braund, Mr. Owen Harris    male  22.0      1   \n1  Cumings, Mrs. John Bradley (Florence Briggs Th...  female  38.0      1   \n2                             Heikkinen, Miss. Laina  female  26.0      0   \n3       Futrelle, Mrs. Jacques Heath (Lily May Peel)  female  35.0      1   \n4                           Allen, Mr. William Henry    male  35.0      0   \n\n   Parch            Ticket     Fare  ... NEW_CABIN_BOOL NEW_NAME_COUNT  \\\n0      0         A/5 21171   7.2500  ...              0             23   \n1      0          PC 17599  71.2833  ...              1             51   \n2      0  STON/O2. 3101282   7.9250  ...              0             22   \n3      0            113803  53.1000  ...              1             44   \n4      0            373450   8.0500  ...              0             24   \n\n   NEW_NAME_WORD_COUNT  NEW_NAME_DR  NEW_TITLE  NEW_FAMILY_SIZE  \\\n0                    4            0         Mr                2   \n1                    7            0        Mrs                2   \n2                    3            0       Miss                1   \n3                    7            0        Mrs                2   \n4                    4            0         Mr                1   \n\n  NEW_AGE_PCLASS  NEW_IS_ALONE  NEW_AGE_CAT   NEW_SEX_CAT  \n0           66.0            NO       mature    maturemale  \n1           38.0            NO       mature  maturefemale  \n2           78.0           YES       mature  maturefemale  \n3           35.0            NO       mature  maturefemale  \n4          105.0           YES       mature    maturemale  \n\n[5 rows x 22 columns]",
            "text/html": "<div>\n<style scoped>\n    .dataframe tbody tr th:only-of-type {\n        vertical-align: middle;\n    }\n\n    .dataframe tbody tr th {\n        vertical-align: top;\n    }\n\n    .dataframe thead th {\n        text-align: right;\n    }\n</style>\n<table border=\"1\" class=\"dataframe\">\n  <thead>\n    <tr style=\"text-align: right;\">\n      <th></th>\n      <th>PassengerId</th>\n      <th>Survived</th>\n      <th>Pclass</th>\n      <th>Name</th>\n      <th>Sex</th>\n      <th>Age</th>\n      <th>SibSp</th>\n      <th>Parch</th>\n      <th>Ticket</th>\n      <th>Fare</th>\n      <th>...</th>\n      <th>NEW_CABIN_BOOL</th>\n      <th>NEW_NAME_COUNT</th>\n      <th>NEW_NAME_WORD_COUNT</th>\n      <th>NEW_NAME_DR</th>\n      <th>NEW_TITLE</th>\n      <th>NEW_FAMILY_SIZE</th>\n      <th>NEW_AGE_PCLASS</th>\n      <th>NEW_IS_ALONE</th>\n      <th>NEW_AGE_CAT</th>\n      <th>NEW_SEX_CAT</th>\n    </tr>\n  </thead>\n  <tbody>\n    <tr>\n      <th>0</th>\n      <td>1</td>\n      <td>0</td>\n      <td>3</td>\n      <td>Braund, Mr. Owen Harris</td>\n      <td>male</td>\n      <td>22.0</td>\n      <td>1</td>\n      <td>0</td>\n      <td>A/5 21171</td>\n      <td>7.2500</td>\n      <td>...</td>\n      <td>0</td>\n      <td>23</td>\n      <td>4</td>\n      <td>0</td>\n      <td>Mr</td>\n      <td>2</td>\n      <td>66.0</td>\n      <td>NO</td>\n      <td>mature</td>\n      <td>maturemale</td>\n    </tr>\n    <tr>\n      <th>1</th>\n      <td>2</td>\n      <td>1</td>\n      <td>1</td>\n      <td>Cumings, Mrs. John Bradley (Florence Briggs Th...</td>\n      <td>female</td>\n      <td>38.0</td>\n      <td>1</td>\n      <td>0</td>\n      <td>PC 17599</td>\n      <td>71.2833</td>\n      <td>...</td>\n      <td>1</td>\n      <td>51</td>\n      <td>7</td>\n      <td>0</td>\n      <td>Mrs</td>\n      <td>2</td>\n      <td>38.0</td>\n      <td>NO</td>\n      <td>mature</td>\n      <td>maturefemale</td>\n    </tr>\n    <tr>\n      <th>2</th>\n      <td>3</td>\n      <td>1</td>\n      <td>3</td>\n      <td>Heikkinen, Miss. Laina</td>\n      <td>female</td>\n      <td>26.0</td>\n      <td>0</td>\n      <td>0</td>\n      <td>STON/O2. 3101282</td>\n      <td>7.9250</td>\n      <td>...</td>\n      <td>0</td>\n      <td>22</td>\n      <td>3</td>\n      <td>0</td>\n      <td>Miss</td>\n      <td>1</td>\n      <td>78.0</td>\n      <td>YES</td>\n      <td>mature</td>\n      <td>maturefemale</td>\n    </tr>\n    <tr>\n      <th>3</th>\n      <td>4</td>\n      <td>1</td>\n      <td>1</td>\n      <td>Futrelle, Mrs. Jacques Heath (Lily May Peel)</td>\n      <td>female</td>\n      <td>35.0</td>\n      <td>1</td>\n      <td>0</td>\n      <td>113803</td>\n      <td>53.1000</td>\n      <td>...</td>\n      <td>1</td>\n      <td>44</td>\n      <td>7</td>\n      <td>0</td>\n      <td>Mrs</td>\n      <td>2</td>\n      <td>35.0</td>\n      <td>NO</td>\n      <td>mature</td>\n      <td>maturefemale</td>\n    </tr>\n    <tr>\n      <th>4</th>\n      <td>5</td>\n      <td>0</td>\n      <td>3</td>\n      <td>Allen, Mr. William Henry</td>\n      <td>male</td>\n      <td>35.0</td>\n      <td>0</td>\n      <td>0</td>\n      <td>373450</td>\n      <td>8.0500</td>\n      <td>...</td>\n      <td>0</td>\n      <td>24</td>\n      <td>4</td>\n      <td>0</td>\n      <td>Mr</td>\n      <td>1</td>\n      <td>105.0</td>\n      <td>YES</td>\n      <td>mature</td>\n      <td>maturemale</td>\n    </tr>\n  </tbody>\n</table>\n<p>5 rows × 22 columns</p>\n</div>"
          },
          "metadata": {}
        }
      ]
    },
    {
      "cell_type": "code",
      "source": [
        "cat_cols, num_cols, cat_but_car = grab_col_names(df)\n",
        "\n",
        "num_cols = [col for col in num_cols if \"PASSENGERID\" not in col]\n",
        "\n",
        "df.shape"
      ],
      "metadata": {
        "execution": {
          "iopub.status.busy": "2021-10-05T17:46:05.584186Z",
          "iopub.execute_input": "2021-10-05T17:46:05.584638Z",
          "iopub.status.idle": "2021-10-05T17:46:05.602104Z",
          "shell.execute_reply.started": "2021-10-05T17:46:05.584606Z",
          "shell.execute_reply": "2021-10-05T17:46:05.601074Z"
        },
        "trusted": true,
        "id": "5SxOReJCkLdU",
        "outputId": "7e4d37f6-c854-4f66-9703-c382e1fc4177"
      },
      "execution_count": null,
      "outputs": [
        {
          "name": "stdout",
          "text": "Observations: 891\nVariables: 22\ncat_cols: 14\nnum_cols: 5\ncat_but_car: 3\nnum_but_cat: 8\n",
          "output_type": "stream"
        },
        {
          "execution_count": 82,
          "output_type": "execute_result",
          "data": {
            "text/plain": "(891, 22)"
          },
          "metadata": {}
        }
      ]
    },
    {
      "cell_type": "code",
      "source": [
        "#############################################\n",
        "# 2. Outliers (Aykırı Değerler)\n",
        "#############################################\n",
        "\n",
        "\n",
        "for col in num_cols:\n",
        "    print(col, check_outlier(df, col))\n",
        "\n",
        "\n",
        "for col in num_cols:\n",
        "    replace_with_thresholds(df, col)\n",
        "\n",
        "\n",
        "for col in num_cols:\n",
        "    print(col, check_outlier(df, col))"
      ],
      "metadata": {
        "execution": {
          "iopub.status.busy": "2021-10-05T17:46:15.797322Z",
          "iopub.execute_input": "2021-10-05T17:46:15.797984Z",
          "iopub.status.idle": "2021-10-05T17:46:15.875574Z",
          "shell.execute_reply.started": "2021-10-05T17:46:15.797941Z",
          "shell.execute_reply": "2021-10-05T17:46:15.874487Z"
        },
        "trusted": true,
        "id": "sboLbqNrkLdV",
        "outputId": "f423be96-4409-494a-c6ae-2531d78391bd"
      },
      "execution_count": null,
      "outputs": [
        {
          "name": "stdout",
          "text": "PassengerId False\nAge True\nFare True\nNEW_NAME_COUNT True\nNEW_AGE_PCLASS True\nPassengerId False\nAge False\nFare False\nNEW_NAME_COUNT False\nNEW_AGE_PCLASS False\n",
          "output_type": "stream"
        }
      ]
    },
    {
      "cell_type": "code",
      "source": [
        "#############################################\n",
        "# 3. Missing Values (Eksik Değerler)\n",
        "#############################################\n",
        "\n",
        "missing_values_table(df)\n",
        "df.head()\n",
        "\n",
        "\n",
        "df.drop(\"Cabin\", inplace=True, axis=1)\n",
        "missing_values_table(df)\n",
        "\n",
        "\n",
        "\n",
        "remove_cols = [\"Ticket\", \"Name\"]\n",
        "df.drop(remove_cols, inplace=True, axis=1)\n",
        "df.head()\n",
        "\n",
        "missing_values_table(df)"
      ],
      "metadata": {
        "execution": {
          "iopub.status.busy": "2021-10-05T17:46:45.316559Z",
          "iopub.execute_input": "2021-10-05T17:46:45.317668Z",
          "iopub.status.idle": "2021-10-05T17:46:45.366985Z",
          "shell.execute_reply.started": "2021-10-05T17:46:45.317629Z",
          "shell.execute_reply": "2021-10-05T17:46:45.365991Z"
        },
        "trusted": true,
        "id": "HJXj5eRjkLdV",
        "outputId": "60833b30-f6db-4cb8-ddcd-97f909a33cb0"
      },
      "execution_count": null,
      "outputs": [
        {
          "name": "stdout",
          "text": "                n_miss  ratio\nCabin              687  77.10\nAge                177  19.87\nNEW_AGE_PCLASS     177  19.87\nNEW_AGE_CAT        177  19.87\nEmbarked             2   0.22\n                n_miss  ratio\nAge                177  19.87\nNEW_AGE_PCLASS     177  19.87\nNEW_AGE_CAT        177  19.87\nEmbarked             2   0.22\n                n_miss  ratio\nAge                177  19.87\nNEW_AGE_PCLASS     177  19.87\nNEW_AGE_CAT        177  19.87\nEmbarked             2   0.22\n",
          "output_type": "stream"
        }
      ]
    },
    {
      "cell_type": "code",
      "source": [
        "\n",
        "df[\"Age\"] = df[\"Age\"].fillna(df.groupby(\"NEW_TITLE\")[\"Age\"].transform(\"median\"))\n",
        "missing_values_table(df)\n",
        "\n",
        "df[\"NEW_AGE_PCLASS\"] = df[\"Age\"] * df[\"Pclass\"]\n",
        "\n",
        "df.loc[(df['Age'] < 18), 'NEW_AGE_CAT'] = 'young'\n",
        "df.loc[(df['Age'] >= 18) & (df['Age'] < 56), 'NEW_AGE_CAT'] = 'mature'\n",
        "df.loc[(df['Age'] >= 56), 'NEW_AGE_CAT'] = 'senior'\n",
        "\n",
        "df.loc[(df['Sex'] == 'male') & (df['Age'] <= 21), 'NEW_SEX_CAT'] = 'youngmale'\n",
        "df.loc[(df['Sex'] == 'male') & ((df['Age'] > 21) & (df['Age']) < 50), 'NEW_SEX_CAT'] = 'maturemale'\n",
        "df.loc[(df['Sex'] == 'male') & (df['Age'] > 50), 'NEW_SEX_CAT'] = 'seniormale'\n",
        "df.loc[(df['Sex'] == 'female') & (df['Age'] <= 21), 'NEW_SEX_CAT'] = 'youngfemale'\n",
        "df.loc[(df['Sex'] == 'female') & ((df['Age'] > 21) & (df['Age']) < 50), 'NEW_SEX_CAT'] = 'maturefemale'\n",
        "df.loc[(df['Sex'] == 'female') & (df['Age'] > 50), 'NEW_SEX_CAT'] = 'seniorfemale'\n",
        "\n",
        "missing_values_table(df)\n",
        "\n",
        "df = df.apply(lambda x: x.fillna(x.mode()[0]) if (x.dtype == \"O\" and len(x.unique()) <= 10) else x, axis=0)\n",
        "missing_values_table(df)"
      ],
      "metadata": {
        "execution": {
          "iopub.status.busy": "2021-10-05T17:47:48.563199Z",
          "iopub.execute_input": "2021-10-05T17:47:48.563559Z",
          "iopub.status.idle": "2021-10-05T17:47:48.634764Z",
          "shell.execute_reply.started": "2021-10-05T17:47:48.563499Z",
          "shell.execute_reply": "2021-10-05T17:47:48.634021Z"
        },
        "trusted": true,
        "id": "Pq11U3vnkLdV",
        "outputId": "4a8f8e89-425b-42f4-85a5-82800811771f"
      },
      "execution_count": null,
      "outputs": [
        {
          "name": "stdout",
          "text": "                n_miss  ratio\nNEW_AGE_PCLASS     177  19.87\nNEW_AGE_CAT        177  19.87\nEmbarked             2   0.22\n          n_miss  ratio\nEmbarked       2   0.22\nEmpty DataFrame\nColumns: [n_miss, ratio]\nIndex: []\n",
          "output_type": "stream"
        }
      ]
    },
    {
      "cell_type": "code",
      "source": [
        "# Label Encoding\n",
        "\n",
        "binary_cols = [col for col in df.columns if df[col].dtype not in [int, float]\n",
        "               and df[col].nunique() == 2]\n",
        "\n",
        "for col in binary_cols:\n",
        "    df = label_encoder(df, col)"
      ],
      "metadata": {
        "execution": {
          "iopub.status.busy": "2021-10-05T17:48:09.991752Z",
          "iopub.execute_input": "2021-10-05T17:48:09.992294Z",
          "iopub.status.idle": "2021-10-05T17:48:10.002278Z",
          "shell.execute_reply.started": "2021-10-05T17:48:09.992262Z",
          "shell.execute_reply": "2021-10-05T17:48:10.001195Z"
        },
        "trusted": true,
        "id": "DLq7t2bPkLdW"
      },
      "execution_count": null,
      "outputs": []
    },
    {
      "cell_type": "code",
      "source": [
        "# Rare Encoding\n",
        "\n",
        "rare_analyser(df, \"Survived\", cat_cols)\n",
        "\n",
        "df = rare_encoder(df, 0.01)\n",
        "df[\"NEW_TITLE\"].value_counts()\n",
        "rare_analyser(df, \"Survived\", cat_cols)"
      ],
      "metadata": {
        "execution": {
          "iopub.status.busy": "2021-10-05T17:48:37.223196Z",
          "iopub.execute_input": "2021-10-05T17:48:37.223516Z",
          "iopub.status.idle": "2021-10-05T17:48:37.437361Z",
          "shell.execute_reply.started": "2021-10-05T17:48:37.223485Z",
          "shell.execute_reply": "2021-10-05T17:48:37.436303Z"
        },
        "trusted": true,
        "id": "fKz-LQP-kLdW",
        "outputId": "d9030a57-e066-4bce-8e49-9ed7b5905310"
      },
      "execution_count": null,
      "outputs": [
        {
          "name": "stdout",
          "text": "Sex : 2\n   COUNT     RATIO  TARGET_MEAN\n0    314  0.352413     0.742038\n1    577  0.647587     0.188908\n\n\nEmbarked : 3\n   COUNT     RATIO  TARGET_MEAN\nC    168  0.188552     0.553571\nQ     77  0.086420     0.389610\nS    646  0.725028     0.339009\n\n\nNEW_TITLE : 17\n          COUNT     RATIO  TARGET_MEAN\nCapt          1  0.001122     0.000000\nCol           2  0.002245     0.500000\nCountess      1  0.001122     1.000000\nDon           1  0.001122     0.000000\nDr            7  0.007856     0.428571\nJonkheer      1  0.001122     0.000000\nLady          1  0.001122     1.000000\nMajor         2  0.002245     0.500000\nMaster       40  0.044893     0.575000\nMiss        182  0.204265     0.697802\nMlle          2  0.002245     1.000000\nMme           1  0.001122     1.000000\nMr          517  0.580247     0.156673\nMrs         125  0.140292     0.792000\nMs            1  0.001122     1.000000\nRev           6  0.006734     0.000000\nSir           1  0.001122     1.000000\n\n\nNEW_IS_ALONE : 2\n   COUNT     RATIO  TARGET_MEAN\n0    354  0.397306     0.505650\n1    537  0.602694     0.303538\n\n\nNEW_AGE_CAT : 3\n        COUNT     RATIO  TARGET_MEAN\nmature    735  0.824916     0.363265\nsenior     39  0.043771     0.307692\nyoung     117  0.131313     0.538462\n\n\nNEW_SEX_CAT : 4\n              COUNT     RATIO  TARGET_MEAN\nmaturefemale    297  0.333333     0.730640\nmaturemale      530  0.594837     0.194340\nseniorfemale     17  0.019080     0.941176\nseniormale       47  0.052750     0.127660\n\n\nSurvived : 2\n   COUNT     RATIO  TARGET_MEAN\n0    549  0.616162          0.0\n1    342  0.383838          1.0\n\n\nPclass : 3\n   COUNT     RATIO  TARGET_MEAN\n1    216  0.242424     0.629630\n2    184  0.206510     0.472826\n3    491  0.551066     0.242363\n\n\nSibSp : 7\n   COUNT     RATIO  TARGET_MEAN\n0    608  0.682379     0.345395\n1    209  0.234568     0.535885\n2     28  0.031425     0.464286\n3     16  0.017957     0.250000\n4     18  0.020202     0.166667\n5      5  0.005612     0.000000\n8      7  0.007856     0.000000\n\n\nParch : 7\n   COUNT     RATIO  TARGET_MEAN\n0    678  0.760943     0.343658\n1    118  0.132435     0.550847\n2     80  0.089787     0.500000\n3      5  0.005612     0.600000\n4      4  0.004489     0.000000\n5      5  0.005612     0.200000\n6      1  0.001122     0.000000\n\n\nNEW_CABIN_BOOL : 2\n   COUNT     RATIO  TARGET_MEAN\n0    687  0.771044     0.299854\n1    204  0.228956     0.666667\n\n\nNEW_NAME_WORD_COUNT : 8\n    COUNT     RATIO  TARGET_MEAN\n3     305  0.342312     0.291803\n4     388  0.435466     0.340206\n5      96  0.107744     0.427083\n6      53  0.059484     0.773585\n7      38  0.042649     0.842105\n8       9  0.010101     0.555556\n9       1  0.001122     1.000000\n14      1  0.001122     1.000000\n\n\nNEW_NAME_DR : 2\n   COUNT     RATIO  TARGET_MEAN\n0    881  0.988777      0.38252\n1     10  0.011223      0.50000\n\n\nNEW_FAMILY_SIZE : 9\n    COUNT     RATIO  TARGET_MEAN\n1     537  0.602694     0.303538\n2     161  0.180696     0.552795\n3     102  0.114478     0.578431\n4      29  0.032548     0.724138\n5      15  0.016835     0.200000\n6      22  0.024691     0.136364\n7      12  0.013468     0.333333\n8       6  0.006734     0.000000\n11      7  0.007856     0.000000\n\n\nSex : 2\n   COUNT     RATIO  TARGET_MEAN\n0    314  0.352413     0.742038\n1    577  0.647587     0.188908\n\n\nEmbarked : 3\n   COUNT     RATIO  TARGET_MEAN\nC    168  0.188552     0.553571\nQ     77  0.086420     0.389610\nS    646  0.725028     0.339009\n\n\nNEW_TITLE : 5\n        COUNT     RATIO  TARGET_MEAN\nMaster     40  0.044893     0.575000\nMiss      182  0.204265     0.697802\nMr        517  0.580247     0.156673\nMrs       125  0.140292     0.792000\nRare       27  0.030303     0.444444\n\n\nNEW_IS_ALONE : 2\n   COUNT     RATIO  TARGET_MEAN\n0    354  0.397306     0.505650\n1    537  0.602694     0.303538\n\n\nNEW_AGE_CAT : 3\n        COUNT     RATIO  TARGET_MEAN\nmature    735  0.824916     0.363265\nsenior     39  0.043771     0.307692\nyoung     117  0.131313     0.538462\n\n\nNEW_SEX_CAT : 4\n              COUNT     RATIO  TARGET_MEAN\nmaturefemale    297  0.333333     0.730640\nmaturemale      530  0.594837     0.194340\nseniorfemale     17  0.019080     0.941176\nseniormale       47  0.052750     0.127660\n\n\nSurvived : 2\n   COUNT     RATIO  TARGET_MEAN\n0    549  0.616162          0.0\n1    342  0.383838          1.0\n\n\nPclass : 3\n   COUNT     RATIO  TARGET_MEAN\n1    216  0.242424     0.629630\n2    184  0.206510     0.472826\n3    491  0.551066     0.242363\n\n\nSibSp : 7\n   COUNT     RATIO  TARGET_MEAN\n0    608  0.682379     0.345395\n1    209  0.234568     0.535885\n2     28  0.031425     0.464286\n3     16  0.017957     0.250000\n4     18  0.020202     0.166667\n5      5  0.005612     0.000000\n8      7  0.007856     0.000000\n\n\nParch : 7\n   COUNT     RATIO  TARGET_MEAN\n0    678  0.760943     0.343658\n1    118  0.132435     0.550847\n2     80  0.089787     0.500000\n3      5  0.005612     0.600000\n4      4  0.004489     0.000000\n5      5  0.005612     0.200000\n6      1  0.001122     0.000000\n\n\nNEW_CABIN_BOOL : 2\n   COUNT     RATIO  TARGET_MEAN\n0    687  0.771044     0.299854\n1    204  0.228956     0.666667\n\n\nNEW_NAME_WORD_COUNT : 8\n    COUNT     RATIO  TARGET_MEAN\n3     305  0.342312     0.291803\n4     388  0.435466     0.340206\n5      96  0.107744     0.427083\n6      53  0.059484     0.773585\n7      38  0.042649     0.842105\n8       9  0.010101     0.555556\n9       1  0.001122     1.000000\n14      1  0.001122     1.000000\n\n\nNEW_NAME_DR : 2\n   COUNT     RATIO  TARGET_MEAN\n0    881  0.988777      0.38252\n1     10  0.011223      0.50000\n\n\nNEW_FAMILY_SIZE : 9\n    COUNT     RATIO  TARGET_MEAN\n1     537  0.602694     0.303538\n2     161  0.180696     0.552795\n3     102  0.114478     0.578431\n4      29  0.032548     0.724138\n5      15  0.016835     0.200000\n6      22  0.024691     0.136364\n7      12  0.013468     0.333333\n8       6  0.006734     0.000000\n11      7  0.007856     0.000000\n\n\n",
          "output_type": "stream"
        }
      ]
    },
    {
      "cell_type": "code",
      "source": [
        "#############################################\n",
        "# One-Hot Encoding\n",
        "#############################################\n",
        "\n",
        "\n",
        "ohe_cols = [col for col in df.columns if 10 >= df[col].nunique() > 2]\n",
        "\n",
        "df = one_hot_encoder(df, ohe_cols)\n",
        "df.head()\n",
        "df.shape\n",
        "\n",
        "cat_cols, num_cols, cat_but_car = grab_col_names(df)\n",
        "\n",
        "num_cols = [col for col in num_cols if \"PassengerId\" not in col]\n",
        "\n",
        "\n",
        "rare_analyser(df, \"Survived\", cat_cols)\n",
        "df.head()\n",
        "\n",
        "\n",
        "\n",
        "(df[\"Sex\"].value_counts() / len(df) < 0.01).any()\n",
        "(df[\"NEW_NAME_WORD_COUNT_9\"].value_counts() / len(df) < 0.01).any()\n",
        "\n",
        "\n",
        "useless_cols = [col for col in df.columns if df[col].nunique() == 2 and\n",
        "                (df[col].value_counts() / len(df) < 0.01).any(axis=None)]"
      ],
      "metadata": {
        "execution": {
          "iopub.status.busy": "2021-10-05T17:49:34.945978Z",
          "iopub.execute_input": "2021-10-05T17:49:34.946305Z",
          "iopub.status.idle": "2021-10-05T17:49:35.358048Z",
          "shell.execute_reply.started": "2021-10-05T17:49:34.946272Z",
          "shell.execute_reply": "2021-10-05T17:49:35.356919Z"
        },
        "trusted": true,
        "id": "hGN28vf-kLdW",
        "outputId": "f16e166f-1564-407b-ffb6-385ee1f16b6c"
      },
      "execution_count": null,
      "outputs": [
        {
          "name": "stdout",
          "text": "Observations: 891\nVariables: 59\ncat_cols: 54\nnum_cols: 5\ncat_but_car: 0\nnum_but_cat: 54\nSurvived : 2\n   COUNT     RATIO  TARGET_MEAN\n0    549  0.616162          0.0\n1    342  0.383838          1.0\n\n\nSex : 2\n   COUNT     RATIO  TARGET_MEAN\n0    314  0.352413     0.742038\n1    577  0.647587     0.188908\n\n\nNEW_CABIN_BOOL : 2\n   COUNT     RATIO  TARGET_MEAN\n0    687  0.771044     0.299854\n1    204  0.228956     0.666667\n\n\nNEW_NAME_DR : 2\n   COUNT     RATIO  TARGET_MEAN\n0    881  0.988777      0.38252\n1     10  0.011223      0.50000\n\n\nNEW_IS_ALONE : 2\n   COUNT     RATIO  TARGET_MEAN\n0    354  0.397306     0.505650\n1    537  0.602694     0.303538\n\n\nPclass_1 : 2\n   COUNT     RATIO  TARGET_MEAN\n0    675  0.757576     0.305185\n1    216  0.242424     0.629630\n\n\nPclass_2 : 2\n   COUNT    RATIO  TARGET_MEAN\n0    707  0.79349     0.360679\n1    184  0.20651     0.472826\n\n\nPclass_3 : 2\n   COUNT     RATIO  TARGET_MEAN\n0    400  0.448934     0.557500\n1    491  0.551066     0.242363\n\n\nSibSp_0 : 2\n   COUNT     RATIO  TARGET_MEAN\n0    283  0.317621     0.466431\n1    608  0.682379     0.345395\n\n\nSibSp_1 : 2\n   COUNT     RATIO  TARGET_MEAN\n0    682  0.765432     0.337243\n1    209  0.234568     0.535885\n\n\nSibSp_2 : 2\n   COUNT     RATIO  TARGET_MEAN\n0    863  0.968575     0.381228\n1     28  0.031425     0.464286\n\n\nSibSp_3 : 2\n   COUNT     RATIO  TARGET_MEAN\n0    875  0.982043     0.386286\n1     16  0.017957     0.250000\n\n\nSibSp_4 : 2\n   COUNT     RATIO  TARGET_MEAN\n0    873  0.979798     0.388316\n1     18  0.020202     0.166667\n\n\nSibSp_5 : 2\n   COUNT     RATIO  TARGET_MEAN\n0    886  0.994388     0.386005\n1      5  0.005612     0.000000\n\n\nSibSp_8 : 2\n   COUNT     RATIO  TARGET_MEAN\n0    884  0.992144     0.386878\n1      7  0.007856     0.000000\n\n\nParch_0 : 2\n   COUNT     RATIO  TARGET_MEAN\n0    213  0.239057     0.511737\n1    678  0.760943     0.343658\n\n\nParch_1 : 2\n   COUNT     RATIO  TARGET_MEAN\n0    773  0.867565     0.358344\n1    118  0.132435     0.550847\n\n\nParch_2 : 2\n   COUNT     RATIO  TARGET_MEAN\n0    811  0.910213      0.37238\n1     80  0.089787      0.50000\n\n\nParch_3 : 2\n   COUNT     RATIO  TARGET_MEAN\n0    886  0.994388     0.382619\n1      5  0.005612     0.600000\n\n\nParch_4 : 2\n   COUNT     RATIO  TARGET_MEAN\n0    887  0.995511     0.385569\n1      4  0.004489     0.000000\n\n\nParch_5 : 2\n   COUNT     RATIO  TARGET_MEAN\n0    886  0.994388     0.384876\n1      5  0.005612     0.200000\n\n\nParch_6 : 2\n   COUNT     RATIO  TARGET_MEAN\n0    890  0.998878      0.38427\n1      1  0.001122      0.00000\n\n\nEmbarked_C : 2\n   COUNT     RATIO  TARGET_MEAN\n0    723  0.811448     0.344398\n1    168  0.188552     0.553571\n\n\nEmbarked_Q : 2\n   COUNT    RATIO  TARGET_MEAN\n0    814  0.91358     0.383292\n1     77  0.08642     0.389610\n\n\nEmbarked_S : 2\n   COUNT     RATIO  TARGET_MEAN\n0    245  0.274972     0.502041\n1    646  0.725028     0.339009\n\n\nNEW_NAME_WORD_COUNT_3 : 2\n   COUNT     RATIO  TARGET_MEAN\n0    586  0.657688     0.431741\n1    305  0.342312     0.291803\n\n\nNEW_NAME_WORD_COUNT_4 : 2\n   COUNT     RATIO  TARGET_MEAN\n0    503  0.564534     0.417495\n1    388  0.435466     0.340206\n\n\nNEW_NAME_WORD_COUNT_5 : 2\n   COUNT     RATIO  TARGET_MEAN\n0    795  0.892256     0.378616\n1     96  0.107744     0.427083\n\n\nNEW_NAME_WORD_COUNT_6 : 2\n   COUNT     RATIO  TARGET_MEAN\n0    838  0.940516     0.359189\n1     53  0.059484     0.773585\n\n\nNEW_NAME_WORD_COUNT_7 : 2\n   COUNT     RATIO  TARGET_MEAN\n0    853  0.957351     0.363423\n1     38  0.042649     0.842105\n\n\nNEW_NAME_WORD_COUNT_8 : 2\n   COUNT     RATIO  TARGET_MEAN\n0    882  0.989899     0.382086\n1      9  0.010101     0.555556\n\n\nNEW_NAME_WORD_COUNT_9 : 2\n   COUNT     RATIO  TARGET_MEAN\n0    890  0.998878     0.383146\n1      1  0.001122     1.000000\n\n\nNEW_NAME_WORD_COUNT_14 : 2\n   COUNT     RATIO  TARGET_MEAN\n0    890  0.998878     0.383146\n1      1  0.001122     1.000000\n\n\nNEW_TITLE_Master : 2\n   COUNT     RATIO  TARGET_MEAN\n0    851  0.955107     0.374853\n1     40  0.044893     0.575000\n\n\nNEW_TITLE_Miss : 2\n   COUNT     RATIO  TARGET_MEAN\n0    709  0.795735     0.303244\n1    182  0.204265     0.697802\n\n\nNEW_TITLE_Mr : 2\n   COUNT     RATIO  TARGET_MEAN\n0    374  0.419753     0.697861\n1    517  0.580247     0.156673\n\n\nNEW_TITLE_Mrs : 2\n   COUNT     RATIO  TARGET_MEAN\n0    766  0.859708     0.317232\n1    125  0.140292     0.792000\n\n\nNEW_TITLE_Rare : 2\n   COUNT     RATIO  TARGET_MEAN\n0    864  0.969697     0.381944\n1     27  0.030303     0.444444\n\n\nNEW_FAMILY_SIZE_1 : 2\n   COUNT     RATIO  TARGET_MEAN\n0    354  0.397306     0.505650\n1    537  0.602694     0.303538\n\n\nNEW_FAMILY_SIZE_2 : 2\n   COUNT     RATIO  TARGET_MEAN\n0    730  0.819304     0.346575\n1    161  0.180696     0.552795\n\n\nNEW_FAMILY_SIZE_3 : 2\n   COUNT     RATIO  TARGET_MEAN\n0    789  0.885522     0.358682\n1    102  0.114478     0.578431\n\n\nNEW_FAMILY_SIZE_4 : 2\n   COUNT     RATIO  TARGET_MEAN\n0    862  0.967452     0.372390\n1     29  0.032548     0.724138\n\n\nNEW_FAMILY_SIZE_5 : 2\n   COUNT     RATIO  TARGET_MEAN\n0    876  0.983165     0.386986\n1     15  0.016835     0.200000\n\n\nNEW_FAMILY_SIZE_6 : 2\n   COUNT     RATIO  TARGET_MEAN\n0    869  0.975309     0.390104\n1     22  0.024691     0.136364\n\n\nNEW_FAMILY_SIZE_7 : 2\n   COUNT     RATIO  TARGET_MEAN\n0    879  0.986532     0.384528\n1     12  0.013468     0.333333\n\n\nNEW_FAMILY_SIZE_8 : 2\n   COUNT     RATIO  TARGET_MEAN\n0    885  0.993266     0.386441\n1      6  0.006734     0.000000\n\n\nNEW_FAMILY_SIZE_11 : 2\n   COUNT     RATIO  TARGET_MEAN\n0    884  0.992144     0.386878\n1      7  0.007856     0.000000\n\n\nNEW_AGE_CAT_mature : 2\n   COUNT     RATIO  TARGET_MEAN\n0    156  0.175084     0.480769\n1    735  0.824916     0.363265\n\n\nNEW_AGE_CAT_senior : 2\n   COUNT     RATIO  TARGET_MEAN\n0    852  0.956229     0.387324\n1     39  0.043771     0.307692\n\n\nNEW_AGE_CAT_young : 2\n   COUNT     RATIO  TARGET_MEAN\n0    774  0.868687     0.360465\n1    117  0.131313     0.538462\n\n\nNEW_SEX_CAT_maturefemale : 2\n   COUNT     RATIO  TARGET_MEAN\n0    594  0.666667     0.210438\n1    297  0.333333     0.730640\n\n\nNEW_SEX_CAT_maturemale : 2\n   COUNT     RATIO  TARGET_MEAN\n0    361  0.405163      0.66205\n1    530  0.594837      0.19434\n\n\nNEW_SEX_CAT_seniorfemale : 2\n   COUNT    RATIO  TARGET_MEAN\n0    874  0.98092     0.372998\n1     17  0.01908     0.941176\n\n\nNEW_SEX_CAT_seniormale : 2\n   COUNT    RATIO  TARGET_MEAN\n0    844  0.94725     0.398104\n1     47  0.05275     0.127660\n\n\n",
          "output_type": "stream"
        }
      ]
    },
    {
      "cell_type": "code",
      "source": [
        "#############################################\n",
        "# Standart Scaler\n",
        "#############################################\n",
        "\n",
        "\n",
        "num_cols\n",
        "\n",
        "scaler = StandardScaler()\n",
        "df[num_cols] = scaler.fit_transform(df[num_cols])\n",
        "\n",
        "df[num_cols].head()\n",
        "\n",
        "# son kontrol:\n",
        "df.head()\n",
        "df.shape\n",
        "df.tail()"
      ],
      "metadata": {
        "execution": {
          "iopub.status.busy": "2021-10-05T17:49:49.270620Z",
          "iopub.execute_input": "2021-10-05T17:49:49.270901Z",
          "iopub.status.idle": "2021-10-05T17:49:49.305053Z",
          "shell.execute_reply.started": "2021-10-05T17:49:49.270873Z",
          "shell.execute_reply": "2021-10-05T17:49:49.304073Z"
        },
        "trusted": true,
        "id": "XQ9Q5dM4kLdX",
        "outputId": "20639b8e-de1b-4bcd-cca8-82d4820705f1"
      },
      "execution_count": null,
      "outputs": [
        {
          "execution_count": 93,
          "output_type": "execute_result",
          "data": {
            "text/plain": "     PassengerId  Survived  Sex       Age      Fare  NEW_CABIN_BOOL  \\\n886          887         0    1 -0.178157 -0.539655               0   \n887          888         1    0 -0.790127  0.290823               1   \n888          889         0    0 -0.637135 -0.029155               0   \n889          890         1    1 -0.254653  0.290823               1   \n890          891         0    1  0.204324 -0.796127               0   \n\n     NEW_NAME_COUNT  NEW_NAME_DR  NEW_AGE_PCLASS  NEW_IS_ALONE  ...  \\\n886       -0.680764            0       -0.300762             1  ...   \n887        0.173547            0       -1.371908             1  ...   \n888        1.638081            0       -0.025324             0  ...   \n889       -0.680764            0       -1.157679             1  ...   \n890       -0.924853            0        0.984614             1  ...   \n\n     NEW_FAMILY_SIZE_7  NEW_FAMILY_SIZE_8  NEW_FAMILY_SIZE_11  \\\n886                  0                  0                   0   \n887                  0                  0                   0   \n888                  0                  0                   0   \n889                  0                  0                   0   \n890                  0                  0                   0   \n\n     NEW_AGE_CAT_mature  NEW_AGE_CAT_senior  NEW_AGE_CAT_young  \\\n886                   1                   0                  0   \n887                   1                   0                  0   \n888                   1                   0                  0   \n889                   1                   0                  0   \n890                   1                   0                  0   \n\n     NEW_SEX_CAT_maturefemale  NEW_SEX_CAT_maturemale  \\\n886                         0                       1   \n887                         1                       0   \n888                         1                       0   \n889                         0                       1   \n890                         0                       1   \n\n     NEW_SEX_CAT_seniorfemale  NEW_SEX_CAT_seniormale  \n886                         0                       0  \n887                         0                       0  \n888                         0                       0  \n889                         0                       0  \n890                         0                       0  \n\n[5 rows x 59 columns]",
            "text/html": "<div>\n<style scoped>\n    .dataframe tbody tr th:only-of-type {\n        vertical-align: middle;\n    }\n\n    .dataframe tbody tr th {\n        vertical-align: top;\n    }\n\n    .dataframe thead th {\n        text-align: right;\n    }\n</style>\n<table border=\"1\" class=\"dataframe\">\n  <thead>\n    <tr style=\"text-align: right;\">\n      <th></th>\n      <th>PassengerId</th>\n      <th>Survived</th>\n      <th>Sex</th>\n      <th>Age</th>\n      <th>Fare</th>\n      <th>NEW_CABIN_BOOL</th>\n      <th>NEW_NAME_COUNT</th>\n      <th>NEW_NAME_DR</th>\n      <th>NEW_AGE_PCLASS</th>\n      <th>NEW_IS_ALONE</th>\n      <th>...</th>\n      <th>NEW_FAMILY_SIZE_7</th>\n      <th>NEW_FAMILY_SIZE_8</th>\n      <th>NEW_FAMILY_SIZE_11</th>\n      <th>NEW_AGE_CAT_mature</th>\n      <th>NEW_AGE_CAT_senior</th>\n      <th>NEW_AGE_CAT_young</th>\n      <th>NEW_SEX_CAT_maturefemale</th>\n      <th>NEW_SEX_CAT_maturemale</th>\n      <th>NEW_SEX_CAT_seniorfemale</th>\n      <th>NEW_SEX_CAT_seniormale</th>\n    </tr>\n  </thead>\n  <tbody>\n    <tr>\n      <th>886</th>\n      <td>887</td>\n      <td>0</td>\n      <td>1</td>\n      <td>-0.178157</td>\n      <td>-0.539655</td>\n      <td>0</td>\n      <td>-0.680764</td>\n      <td>0</td>\n      <td>-0.300762</td>\n      <td>1</td>\n      <td>...</td>\n      <td>0</td>\n      <td>0</td>\n      <td>0</td>\n      <td>1</td>\n      <td>0</td>\n      <td>0</td>\n      <td>0</td>\n      <td>1</td>\n      <td>0</td>\n      <td>0</td>\n    </tr>\n    <tr>\n      <th>887</th>\n      <td>888</td>\n      <td>1</td>\n      <td>0</td>\n      <td>-0.790127</td>\n      <td>0.290823</td>\n      <td>1</td>\n      <td>0.173547</td>\n      <td>0</td>\n      <td>-1.371908</td>\n      <td>1</td>\n      <td>...</td>\n      <td>0</td>\n      <td>0</td>\n      <td>0</td>\n      <td>1</td>\n      <td>0</td>\n      <td>0</td>\n      <td>1</td>\n      <td>0</td>\n      <td>0</td>\n      <td>0</td>\n    </tr>\n    <tr>\n      <th>888</th>\n      <td>889</td>\n      <td>0</td>\n      <td>0</td>\n      <td>-0.637135</td>\n      <td>-0.029155</td>\n      <td>0</td>\n      <td>1.638081</td>\n      <td>0</td>\n      <td>-0.025324</td>\n      <td>0</td>\n      <td>...</td>\n      <td>0</td>\n      <td>0</td>\n      <td>0</td>\n      <td>1</td>\n      <td>0</td>\n      <td>0</td>\n      <td>1</td>\n      <td>0</td>\n      <td>0</td>\n      <td>0</td>\n    </tr>\n    <tr>\n      <th>889</th>\n      <td>890</td>\n      <td>1</td>\n      <td>1</td>\n      <td>-0.254653</td>\n      <td>0.290823</td>\n      <td>1</td>\n      <td>-0.680764</td>\n      <td>0</td>\n      <td>-1.157679</td>\n      <td>1</td>\n      <td>...</td>\n      <td>0</td>\n      <td>0</td>\n      <td>0</td>\n      <td>1</td>\n      <td>0</td>\n      <td>0</td>\n      <td>0</td>\n      <td>1</td>\n      <td>0</td>\n      <td>0</td>\n    </tr>\n    <tr>\n      <th>890</th>\n      <td>891</td>\n      <td>0</td>\n      <td>1</td>\n      <td>0.204324</td>\n      <td>-0.796127</td>\n      <td>0</td>\n      <td>-0.924853</td>\n      <td>0</td>\n      <td>0.984614</td>\n      <td>1</td>\n      <td>...</td>\n      <td>0</td>\n      <td>0</td>\n      <td>0</td>\n      <td>1</td>\n      <td>0</td>\n      <td>0</td>\n      <td>0</td>\n      <td>1</td>\n      <td>0</td>\n      <td>0</td>\n    </tr>\n  </tbody>\n</table>\n<p>5 rows × 59 columns</p>\n</div>"
          },
          "metadata": {}
        }
      ]
    },
    {
      "cell_type": "code",
      "source": [
        "\n",
        "#############################################\n",
        "# Model\n",
        "#############################################\n",
        "\n",
        "\n",
        "y = df[\"Survived\"]\n",
        "X = df.drop([\"PassengerId\", \"Survived\"], axis=1)\n",
        "X_train, X_test, y_train, y_test = train_test_split(X, y, test_size=0.30, random_state=42)\n",
        "\n",
        "# MODEL\n",
        "from sklearn.ensemble import RandomForestClassifier\n",
        "rf_model = RandomForestClassifier(random_state=46).fit(X_train, y_train)\n",
        "y_pred = rf_model.predict(X_test)\n",
        "accuracy_score(y_pred, y_test)"
      ],
      "metadata": {
        "execution": {
          "iopub.status.busy": "2021-10-05T18:08:57.238139Z",
          "iopub.execute_input": "2021-10-05T18:08:57.238649Z",
          "iopub.status.idle": "2021-10-05T18:08:57.519039Z",
          "shell.execute_reply.started": "2021-10-05T18:08:57.238608Z",
          "shell.execute_reply": "2021-10-05T18:08:57.518095Z"
        },
        "trusted": true,
        "id": "raRxSWvFkLdX",
        "outputId": "ea61a1ac-b914-43e6-e3fd-a03c08ed295f"
      },
      "execution_count": null,
      "outputs": [
        {
          "execution_count": 96,
          "output_type": "execute_result",
          "data": {
            "text/plain": "0.8022388059701493"
          },
          "metadata": {}
        }
      ]
    },
    {
      "cell_type": "markdown",
      "source": [
        "## Principal Component Analysis (PCA) for dimensionality reduction.\n"
      ],
      "metadata": {
        "id": "iOs_rYCVjLJd"
      }
    },
    {
      "cell_type": "code",
      "source": [
        "pip install scikit-learn"
      ],
      "metadata": {
        "colab": {
          "base_uri": "https://localhost:8080/"
        },
        "id": "KzDR3EV0jgbx",
        "outputId": "3057f513-580d-4519-b0be-91231679e014"
      },
      "execution_count": 1,
      "outputs": [
        {
          "output_type": "stream",
          "name": "stdout",
          "text": [
            "Requirement already satisfied: scikit-learn in /usr/local/lib/python3.10/dist-packages (1.2.2)\n",
            "Requirement already satisfied: numpy>=1.17.3 in /usr/local/lib/python3.10/dist-packages (from scikit-learn) (1.23.5)\n",
            "Requirement already satisfied: scipy>=1.3.2 in /usr/local/lib/python3.10/dist-packages (from scikit-learn) (1.10.1)\n",
            "Requirement already satisfied: joblib>=1.1.1 in /usr/local/lib/python3.10/dist-packages (from scikit-learn) (1.3.2)\n",
            "Requirement already satisfied: threadpoolctl>=2.0.0 in /usr/local/lib/python3.10/dist-packages (from scikit-learn) (3.2.0)\n"
          ]
        }
      ]
    },
    {
      "cell_type": "code",
      "source": [
        "import numpy as np\n",
        "from sklearn.decomposition import PCA\n",
        "import matplotlib.pyplot as plt\n",
        "\n",
        "# Create some sample data\n",
        "np.random.seed(0)\n",
        "data = np.random.randn(100, 2)  # Create a 100x2 random dataset\n",
        "\n",
        "# Initialize and fit PCA model\n",
        "n_components = 1  # Number of principal components to retain\n",
        "pca = PCA(n_components=n_components)\n",
        "principal_components = pca.fit_transform(data)\n",
        "\n",
        "# Variance explained by each component\n",
        "explained_variance_ratio = pca.explained_variance_ratio_\n",
        "print(f\"Explained Variance Ratios: {explained_variance_ratio}\")\n",
        "\n",
        "# Total variance explained by selected components\n",
        "total_variance_explained = np.sum(explained_variance_ratio)\n",
        "print(f\"Total Variance Explained: {total_variance_explained * 100:.2f}%\")\n",
        "\n",
        "# Plot the original data and principal components\n",
        "plt.figure(figsize=(10, 5))\n",
        "plt.subplot(121)\n",
        "plt.scatter(data[:, 0], data[:, 1])\n",
        "plt.title(\"Original Data\")\n",
        "\n",
        "plt.subplot(122)\n",
        "plt.scatter(principal_components, np.zeros_like(principal_components))\n",
        "plt.title(f\"Principal Component 1 (Explained Variance: {explained_variance_ratio[0]*100:.2f}%)\")\n",
        "plt.xlabel(\"Principal Component 1\")\n",
        "plt.gca().axes.get_yaxis().set_visible(False)\n",
        "\n",
        "plt.tight_layout()\n",
        "plt.show()"
      ],
      "metadata": {
        "colab": {
          "base_uri": "https://localhost:8080/",
          "height": 542
        },
        "id": "jiQ9xBhmkMcQ",
        "outputId": "8e80c1bd-e070-4b1f-e279-0892f8c6849d"
      },
      "execution_count": 2,
      "outputs": [
        {
          "output_type": "stream",
          "name": "stdout",
          "text": [
            "Explained Variance Ratios: [0.5123751]\n",
            "Total Variance Explained: 51.24%\n"
          ]
        },
        {
          "output_type": "display_data",
          "data": {
            "text/plain": [
              "<Figure size 1000x500 with 2 Axes>"
            ],
            "image/png": "[encoded data removed]"
          },
          "metadata": {}
        }
      ]
    },
    {
      "cell_type": "markdown",
      "source": [
        "In this code:\n",
        "\n",
        "- We create some sample data, a 100x2 matrix, where each row represents a data point with two features.\n",
        "\n",
        "- We initialize a PCA model with the desired number of components (n_components). In this case, we are reducing the dimensionality to 1.\n",
        "\n",
        "- We fit the PCA model to the data using the fit_transform method.\n",
        "\n",
        "- We calculate the explained variance ratios for each component using explained_variance_ratio_. This tells us how much of the total variance in the data is explained by each component.\n",
        "\n",
        "- We print the explained variance ratios and the total variance explained by the selected components.\n",
        "\n",
        "- Finally, we create a plot to visualize the original data and the first principal component.\n",
        "\n",
        "- You can adjust the n_components parameter to retain a different number of principal components as per your dimensionality reduction needs."
      ],
      "metadata": {
        "id": "tIVZD1AHkXS3"
      }
    },
    {
      "cell_type": "markdown",
      "source": [
        "## SelectkBest\n",
        "\n",
        "SelectKBest uses statistical tests to score and rank features based on their individual importance, retaining the top K features that have the highest correlation with the target variable."
      ],
      "metadata": {
        "id": "AIZPqMw-kg6h"
      }
    },
    {
      "cell_type": "code",
      "source": [
        "import numpy as np\n",
        "from sklearn.datasets import load_iris\n",
        "from sklearn.feature_selection import SelectKBest\n",
        "from sklearn.feature_selection import chi2  # You can choose a different scoring function\n",
        "\n",
        "# Load a sample dataset (Iris dataset)\n",
        "iris = load_iris()\n",
        "X = iris.data  # Feature matrix\n",
        "y = iris.target  # Target variable\n",
        "\n",
        "# Initialize SelectKBest with a scoring function (e.g., chi-squared)\n",
        "k_best = SelectKBest(score_func=chi2, k=2)  # Select the top 2 features\n",
        "\n",
        "# Fit and transform the feature matrix to select the top k features\n",
        "X_new = k_best.fit_transform(X, y)\n",
        "\n",
        "# Get the selected feature indices\n",
        "selected_indices = k_best.get_support(indices=True)\n",
        "\n",
        "# Print the selected feature indices and their scores\n",
        "print(\"Selected Feature Indices:\", selected_indices)\n",
        "print(\"Selected Feature Scores:\", k_best.scores_)\n",
        "\n",
        "# Print the transformed feature matrix with only the selected features\n",
        "print(\"Transformed Feature Matrix:\")\n",
        "print(X_new)"
      ],
      "metadata": {
        "colab": {
          "base_uri": "https://localhost:8080/"
        },
        "id": "-nqDMTNTkuz8",
        "outputId": "0d2c5be1-cf1f-4b39-d11e-4cc762450cc0"
      },
      "execution_count": 3,
      "outputs": [
        {
          "output_type": "stream",
          "name": "stdout",
          "text": [
            "Selected Feature Indices: [2 3]\n",
            "Selected Feature Scores: [ 10.81782088   3.7107283  116.31261309  67.0483602 ]\n",
            "Transformed Feature Matrix:\n",
            "[[1.4 0.2]\n",
            " [1.4 0.2]\n",
            " [1.3 0.2]\n",
            " [1.5 0.2]\n",
            " [1.4 0.2]\n",
            " [1.7 0.4]\n",
            " [1.4 0.3]\n",
            " [1.5 0.2]\n",
            " [1.4 0.2]\n",
            " [1.5 0.1]\n",
            " [1.5 0.2]\n",
            " [1.6 0.2]\n",
            " [1.4 0.1]\n",
            " [1.1 0.1]\n",
            " [1.2 0.2]\n",
            " [1.5 0.4]\n",
            " [1.3 0.4]\n",
            " [1.4 0.3]\n",
            " [1.7 0.3]\n",
            " [1.5 0.3]\n",
            " [1.7 0.2]\n",
            " [1.5 0.4]\n",
            " [1.  0.2]\n",
            " [1.7 0.5]\n",
            " [1.9 0.2]\n",
            " [1.6 0.2]\n",
            " [1.6 0.4]\n",
            " [1.5 0.2]\n",
            " [1.4 0.2]\n",
            " [1.6 0.2]\n",
            " [1.6 0.2]\n",
            " [1.5 0.4]\n",
            " [1.5 0.1]\n",
            " [1.4 0.2]\n",
            " [1.5 0.2]\n",
            " [1.2 0.2]\n",
            " [1.3 0.2]\n",
            " [1.4 0.1]\n",
            " [1.3 0.2]\n",
            " [1.5 0.2]\n",
            " [1.3 0.3]\n",
            " [1.3 0.3]\n",
            " [1.3 0.2]\n",
            " [1.6 0.6]\n",
            " [1.9 0.4]\n",
            " [1.4 0.3]\n",
            " [1.6 0.2]\n",
            " [1.4 0.2]\n",
            " [1.5 0.2]\n",
            " [1.4 0.2]\n",
            " [4.7 1.4]\n",
            " [4.5 1.5]\n",
            " [4.9 1.5]\n",
            " [4.  1.3]\n",
            " [4.6 1.5]\n",
            " [4.5 1.3]\n",
            " [4.7 1.6]\n",
            " [3.3 1. ]\n",
            " [4.6 1.3]\n",
            " [3.9 1.4]\n",
            " [3.5 1. ]\n",
            " [4.2 1.5]\n",
            " [4.  1. ]\n",
            " [4.7 1.4]\n",
            " [3.6 1.3]\n",
            " [4.4 1.4]\n",
            " [4.5 1.5]\n",
            " [4.1 1. ]\n",
            " [4.5 1.5]\n",
            " [3.9 1.1]\n",
            " [4.8 1.8]\n",
            " [4.  1.3]\n",
            " [4.9 1.5]\n",
            " [4.7 1.2]\n",
            " [4.3 1.3]\n",
            " [4.4 1.4]\n",
            " [4.8 1.4]\n",
            " [5.  1.7]\n",
            " [4.5 1.5]\n",
            " [3.5 1. ]\n",
            " [3.8 1.1]\n",
            " [3.7 1. ]\n",
            " [3.9 1.2]\n",
            " [5.1 1.6]\n",
            " [4.5 1.5]\n",
            " [4.5 1.6]\n",
            " [4.7 1.5]\n",
            " [4.4 1.3]\n",
            " [4.1 1.3]\n",
            " [4.  1.3]\n",
            " [4.4 1.2]\n",
            " [4.6 1.4]\n",
            " [4.  1.2]\n",
            " [3.3 1. ]\n",
            " [4.2 1.3]\n",
            " [4.2 1.2]\n",
            " [4.2 1.3]\n",
            " [4.3 1.3]\n",
            " [3.  1.1]\n",
            " [4.1 1.3]\n",
            " [6.  2.5]\n",
            " [5.1 1.9]\n",
            " [5.9 2.1]\n",
            " [5.6 1.8]\n",
            " [5.8 2.2]\n",
            " [6.6 2.1]\n",
            " [4.5 1.7]\n",
            " [6.3 1.8]\n",
            " [5.8 1.8]\n",
            " [6.1 2.5]\n",
            " [5.1 2. ]\n",
            " [5.3 1.9]\n",
            " [5.5 2.1]\n",
            " [5.  2. ]\n",
            " [5.1 2.4]\n",
            " [5.3 2.3]\n",
            " [5.5 1.8]\n",
            " [6.7 2.2]\n",
            " [6.9 2.3]\n",
            " [5.  1.5]\n",
            " [5.7 2.3]\n",
            " [4.9 2. ]\n",
            " [6.7 2. ]\n",
            " [4.9 1.8]\n",
            " [5.7 2.1]\n",
            " [6.  1.8]\n",
            " [4.8 1.8]\n",
            " [4.9 1.8]\n",
            " [5.6 2.1]\n",
            " [5.8 1.6]\n",
            " [6.1 1.9]\n",
            " [6.4 2. ]\n",
            " [5.6 2.2]\n",
            " [5.1 1.5]\n",
            " [5.6 1.4]\n",
            " [6.1 2.3]\n",
            " [5.6 2.4]\n",
            " [5.5 1.8]\n",
            " [4.8 1.8]\n",
            " [5.4 2.1]\n",
            " [5.6 2.4]\n",
            " [5.1 2.3]\n",
            " [5.1 1.9]\n",
            " [5.9 2.3]\n",
            " [5.7 2.5]\n",
            " [5.2 2.3]\n",
            " [5.  1.9]\n",
            " [5.2 2. ]\n",
            " [5.4 2.3]\n",
            " [5.1 1.8]]\n"
          ]
        }
      ]
    },
    {
      "cell_type": "markdown",
      "source": [
        "- We import the necessary libraries, including SelectKBest from sklearn.feature_selection and a scoring function (chi2 in this example, but you can use other scoring functions like f_classif for ANOVA F-value).\n",
        "\n",
        "- We load a sample dataset (the Iris dataset) for demonstration purposes. You can replace this dataset with your own dataset.\n",
        "\n",
        "- We initialize the SelectKBest object, specifying the scoring function and the number of top features to select (in this case, 2).\n",
        "\n",
        "- We fit the SelectKBest object to the feature matrix X and the target variable y, and then transform X to get a new feature matrix X_new containing only the selected features.\n",
        "\n",
        "- We retrieve the indices of the selected features using the get_support method and print them along with their scores.\n",
        "\n",
        "- Finally, we print the transformed feature matrix, which contains only the selected features."
      ],
      "metadata": {
        "id": "_Y7-_9FCk1NX"
      }
    },
    {
      "cell_type": "markdown",
      "source": [
        "## Feature engineering using clustering techniques.\n",
        "\n",
        "Feature engineering using clustering techniques involves creating new features based on the clusters or groups that data points belong to. One common approach is to use k-means clustering to create cluster labels for the data, and then use these labels as categorical features. Here's a Python code example that demonstrates how to perform feature engineering using k-means clustering:"
      ],
      "metadata": {
        "id": "hUJZYLmsk-TA"
      }
    },
    {
      "cell_type": "code",
      "source": [
        "import numpy as np\n",
        "import pandas as pd\n",
        "from sklearn.cluster import KMeans\n",
        "from sklearn.datasets import load_iris\n",
        "\n",
        "# Load a sample dataset (Iris dataset)\n",
        "iris = load_iris()\n",
        "X = iris.data  # Feature matrix\n",
        "y = iris.target  # Target variable\n",
        "\n",
        "# Initialize and fit a k-means clustering model\n",
        "n_clusters = 4  # Number of clusters to create\n",
        "kmeans = KMeans(n_clusters=n_clusters, random_state=0)\n",
        "cluster_labels = kmeans.fit_predict(X)\n",
        "\n",
        "# Create a new DataFrame to store the original features and cluster labels\n",
        "df = pd.DataFrame(X, columns=iris.feature_names)\n",
        "df['Cluster_Label'] = cluster_labels\n",
        "\n",
        "# Perform feature engineering based on cluster labels\n",
        "# Here, we calculate the mean of each feature for each cluster\n",
        "cluster_means = df.groupby('Cluster_Label').mean()\n",
        "\n",
        "# Rename the columns to reflect the cluster means\n",
        "cluster_means.columns = [f'Cluster_{i}_Mean' for i in range(n_clusters)]\n",
        "\n",
        "# Merge the cluster means back into the original DataFrame\n",
        "df = pd.merge(df, cluster_means, left_on='Cluster_Label', right_index=True)\n",
        "\n",
        "# Print the first few rows of the resulting DataFrame\n",
        "print(df.head())"
      ],
      "metadata": {
        "colab": {
          "base_uri": "https://localhost:8080/"
        },
        "id": "wx3U2_jllMYU",
        "outputId": "3601cb26-ddb5-413b-c353-8c16eb6fb26d"
      },
      "execution_count": 7,
      "outputs": [
        {
          "output_type": "stream",
          "name": "stdout",
          "text": [
            "   sepal length (cm)  sepal width (cm)  petal length (cm)  petal width (cm)  \\\n",
            "0                5.1               3.5                1.4               0.2   \n",
            "1                4.9               3.0                1.4               0.2   \n",
            "2                4.7               3.2                1.3               0.2   \n",
            "3                4.6               3.1                1.5               0.2   \n",
            "4                5.0               3.6                1.4               0.2   \n",
            "\n",
            "   Cluster_Label  Cluster_0_Mean  Cluster_1_Mean  Cluster_2_Mean  \\\n",
            "0              1           5.006           3.428           1.462   \n",
            "1              1           5.006           3.428           1.462   \n",
            "2              1           5.006           3.428           1.462   \n",
            "3              1           5.006           3.428           1.462   \n",
            "4              1           5.006           3.428           1.462   \n",
            "\n",
            "   Cluster_3_Mean  \n",
            "0           0.246  \n",
            "1           0.246  \n",
            "2           0.246  \n",
            "3           0.246  \n",
            "4           0.246  \n"
          ]
        },
        {
          "output_type": "stream",
          "name": "stderr",
          "text": [
            "/usr/local/lib/python3.10/dist-packages/sklearn/cluster/_kmeans.py:870: FutureWarning: The default value of `n_init` will change from 10 to 'auto' in 1.4. Set the value of `n_init` explicitly to suppress the warning\n",
            "  warnings.warn(\n"
          ]
        }
      ]
    },
    {
      "cell_type": "markdown",
      "source": [
        "## Feature engineering using embeddings.\n",
        "Feature engineering using embeddings typically involves creating low-dimensional vector representations of categorical variables to capture meaningful relationships and patterns in the data. One common technique is to use Word2Vec-like embeddings. However, applying this technique to non-text data can be challenging.\n",
        "\n",
        "Here's a simplified example using Python's Gensim library to generate embeddings for a categorical feature. Please note that this example is a simplified illustration, and in practice, you'd need a more extensive dataset and possibly more advanced techniques for meaningful embeddings:"
      ],
      "metadata": {
        "id": "lGpSIxy4lvF4"
      }
    },
    {
      "cell_type": "code",
      "source": [
        "import pandas as pd\n",
        "import numpy as np\n",
        "from gensim.models import Word2Vec\n",
        "\n",
        "# Sample dataset\n",
        "data = {\n",
        "    'Category': ['A', 'B', 'A', 'C', 'B', 'A', 'C', 'A', 'B', 'C'],\n",
        "    'Value': [10, 20, 15, 30, 25, 12, 28, 14, 18, 35]\n",
        "}\n",
        "\n",
        "df = pd.DataFrame(data)\n",
        "\n",
        "# Initialize and train a Word2Vec model (a simplified example)\n",
        "sentences = df['Category'].apply(lambda x: [x]).tolist()\n",
        "model = Word2Vec(sentences, vector_size=2, window=1, min_count=1, sg=1)\n",
        "\n",
        "# Function to create embeddings for each category\n",
        "def category_embedding(category):\n",
        "    return model.wv[category]\n",
        "\n",
        "# Apply the function to create embeddings for the 'Category' feature\n",
        "df['Category_Embedding'] = df['Category'].apply(category_embedding)\n",
        "\n",
        "# Print the resulting DataFrame\n",
        "print(df)"
      ],
      "metadata": {
        "colab": {
          "base_uri": "https://localhost:8080/"
        },
        "id": "dFAuL8hjl5Ph",
        "outputId": "8a1c1992-66aa-4581-8b59-ba9a4cc887b1"
      },
      "execution_count": 8,
      "outputs": [
        {
          "output_type": "stream",
          "name": "stdout",
          "text": [
            "  Category  Value           Category_Embedding\n",
            "0        A     10  [-0.026811361, 0.011821568]\n",
            "1        B     20    [-0.4651475, -0.35584044]\n",
            "2        A     15  [-0.026811361, 0.011821568]\n",
            "3        C     30     [0.25516748, 0.45046365]\n",
            "4        B     25    [-0.4651475, -0.35584044]\n",
            "5        A     12  [-0.026811361, 0.011821568]\n",
            "6        C     28     [0.25516748, 0.45046365]\n",
            "7        A     14  [-0.026811361, 0.011821568]\n",
            "8        B     18    [-0.4651475, -0.35584044]\n",
            "9        C     35     [0.25516748, 0.45046365]\n"
          ]
        }
      ]
    },
    {
      "cell_type": "markdown",
      "source": [
        "## Target encoding for categorical variables.\n",
        "Target encoding is a technique used to transform categorical variables into numerical values based on the relationship between the categorical variable and the target variable. Here's a Python code example that demonstrates how to perform target encoding using the scikit-learn library:"
      ],
      "metadata": {
        "id": "ELpRdjC3l-xB"
      }
    },
    {
      "cell_type": "code",
      "source": [
        "pip install category_encoders"
      ],
      "metadata": {
        "colab": {
          "base_uri": "https://localhost:8080/"
        },
        "id": "VL2r09LcmYL0",
        "outputId": "d2535c96-384c-4ed3-fb76-2103063ee089"
      },
      "execution_count": 10,
      "outputs": [
        {
          "output_type": "stream",
          "name": "stdout",
          "text": [
            "Collecting category_encoders\n",
            "  Downloading category_encoders-2.6.2-py2.py3-none-any.whl (81 kB)\n",
            "\u001b[2K     \u001b[90m━━━━━━━━━━━━━━━━━━━━━━━━━━━━━━━━━━━━━━━━\u001b[0m \u001b[32m81.8/81.8 kB\u001b[0m \u001b[31m1.4 MB/s\u001b[0m eta \u001b[36m0:00:00\u001b[0m\n",
            "\u001b[?25hRequirement already satisfied: numpy>=1.14.0 in /usr/local/lib/python3.10/dist-packages (from category_encoders) (1.23.5)\n",
            "Requirement already satisfied: scikit-learn>=0.20.0 in /usr/local/lib/python3.10/dist-packages (from category_encoders) (1.2.2)\n",
            "Requirement already satisfied: scipy>=1.0.0 in /usr/local/lib/python3.10/dist-packages (from category_encoders) (1.10.1)\n",
            "Requirement already satisfied: statsmodels>=0.9.0 in /usr/local/lib/python3.10/dist-packages (from category_encoders) (0.14.0)\n",
            "Requirement already satisfied: pandas>=1.0.5 in /usr/local/lib/python3.10/dist-packages (from category_encoders) (1.5.3)\n",
            "Requirement already satisfied: patsy>=0.5.1 in /usr/local/lib/python3.10/dist-packages (from category_encoders) (0.5.3)\n",
            "Requirement already satisfied: python-dateutil>=2.8.1 in /usr/local/lib/python3.10/dist-packages (from pandas>=1.0.5->category_encoders) (2.8.2)\n",
            "Requirement already satisfied: pytz>=2020.1 in /usr/local/lib/python3.10/dist-packages (from pandas>=1.0.5->category_encoders) (2023.3.post1)\n",
            "Requirement already satisfied: six in /usr/local/lib/python3.10/dist-packages (from patsy>=0.5.1->category_encoders) (1.16.0)\n",
            "Requirement already satisfied: joblib>=1.1.1 in /usr/local/lib/python3.10/dist-packages (from scikit-learn>=0.20.0->category_encoders) (1.3.2)\n",
            "Requirement already satisfied: threadpoolctl>=2.0.0 in /usr/local/lib/python3.10/dist-packages (from scikit-learn>=0.20.0->category_encoders) (3.2.0)\n",
            "Requirement already satisfied: packaging>=21.3 in /usr/local/lib/python3.10/dist-packages (from statsmodels>=0.9.0->category_encoders) (23.1)\n",
            "Installing collected packages: category_encoders\n",
            "Successfully installed category_encoders-2.6.2\n"
          ]
        }
      ]
    },
    {
      "cell_type": "code",
      "source": [
        "import pandas as pd\n",
        "from sklearn.model_selection import train_test_split\n",
        "from category_encoders import TargetEncoder\n",
        "from sklearn.ensemble import RandomForestClassifier\n",
        "from sklearn.metrics import accuracy_score\n",
        "\n",
        "# Sample dataset with a categorical variable ('Category') and a binary target variable ('Target')\n",
        "data = {\n",
        "    'Category': ['A', 'B', 'A', 'C', 'B', 'A', 'C', 'A', 'B', 'C'],\n",
        "    'Target': [1, 0, 1, 0, 1, 0, 1, 0, 1, 0]\n",
        "}\n",
        "\n",
        "df = pd.DataFrame(data)\n",
        "\n",
        "# Split the dataset into features and target\n",
        "X = df.drop(columns=['Target'])\n",
        "y = df['Target']\n",
        "\n",
        "# Split the data into training and testing sets\n",
        "X_train, X_test, y_train, y_test = train_test_split(X, y, test_size=0.2, random_state=42)\n",
        "\n",
        "# Initialize and fit the TargetEncoder on the training data\n",
        "encoder = TargetEncoder()\n",
        "X_train_encoded = encoder.fit_transform(X_train, y_train)\n",
        "\n",
        "# Transform the test data using the encoder\n",
        "X_test_encoded = encoder.transform(X_test)\n",
        "\n",
        "# Train a machine learning model (Random Forest) on the encoded features\n",
        "clf = RandomForestClassifier(random_state=42)\n",
        "clf.fit(X_train_encoded, y_train)\n",
        "\n",
        "# Make predictions on the test data\n",
        "y_pred = clf.predict(X_test_encoded)\n",
        "\n",
        "# Calculate accuracy on the test data\n",
        "accuracy = accuracy_score(y_test, y_pred)\n",
        "print(f\"Accuracy: {accuracy * 100:.2f}%\")\n"
      ],
      "metadata": {
        "colab": {
          "base_uri": "https://localhost:8080/"
        },
        "id": "RbCqZWodmKyL",
        "outputId": "967630b7-f841-4666-dc8a-7772534b81e5"
      },
      "execution_count": 12,
      "outputs": [
        {
          "output_type": "stream",
          "name": "stdout",
          "text": [
            "Accuracy: 50.00%\n"
          ]
        }
      ]
    },
    {
      "cell_type": "markdown",
      "source": [
        "In this code:\n",
        "\n",
        " - We create a sample dataset with a categorical feature ('Category') and a binary target variable ('Target').\n",
        "\n",
        "- We split the dataset into features (X) and the target variable (y).\n",
        "\n",
        "- We split the data into training and testing sets using train_test_split.\n",
        "\n",
        "- We initialize a TargetEncoder and fit it on the training data (X_train) while specifying the target variable (y_train).\n",
        "\n",
        "- We transform both the training and testing data using the encoder to replace the categorical values with the encoded numerical values.\n",
        "\n",
        "- We train a machine learning model (Random Forest Classifier) on the encoded training data and make predictions on the test data.\n",
        "\n",
        "- Finally, we calculate and print the accuracy of the model on the test data."
      ],
      "metadata": {
        "id": "0EAbnOKhmkGg"
      }
    },
    {
      "cell_type": "markdown",
      "source": [
        "## Summary of key takeaways.\n",
        "\n",
        "- Feature engineering transforms raw data into informative features.\n",
        "- Feature extraction creates new features from existing ones (e.g., date from datetime).\n",
        "- Feature engineering mitigates overfitting and increases model robustness.\n",
        "- Feature engineering is an iterative process, often involving trial and error.\n",
        "- Raw data may be unusable or less effective for machine learning algorithms.\n"
      ],
      "metadata": {
        "id": "Dr1Hk5Ctmx2z"
      }
    },
    {
      "cell_type": "markdown",
      "source": [
        "## Future Trends in Feature Engineering\n",
        "\n",
        "- Incorporating more advanced machine learning algorithms.\n",
        "- Integrating feature engineering with deep learning.\n",
        "- Reinforcement learning for feature engineering.\n"
      ],
      "metadata": {
        "id": "vemwpb67nLxz"
      }
    }
  ]
}