{
  "nbformat": 4,
  "nbformat_minor": 0,
  "metadata": {
    "colab": {
      "name": "keras lstm",
      "version": "0.3.2",
      "provenance": [],
      "include_colab_link": true
    },
    "kernelspec": {
      "name": "python3",
      "display_name": "Python 3"
    }
  },
  "cells": [
    {
      "cell_type": "markdown",
      "metadata": {
        "id": "view-in-github",
        "colab_type": "text"
      },
      "source": [
        "<a href=\"https://colab.research.google.com/github/krishnayogik/python/blob/master/keras_lstm.ipynb\" target=\"_parent\"><img src=\"https://colab.research.google.com/assets/colab-badge.svg\" alt=\"Open In Colab\"/></a>"
      ]
    },
    {
      "metadata": {
        "id": "UtMlZfLevi8k",
        "colab_type": "code",
        "colab": {}
      },
      "cell_type": "code",
      "source": [
        "# write to txt file direclty\n",
        "from urllib.request import urlopen\n",
        "\n",
        "csvlink ='https://raw.githubusercontent.com/mwitiderrick/stockprice/master/NSE-TATAGLOBAL.csv'\n",
        "\n",
        "import pandas as pd\n",
        "df = pd.read_csv(csvlink,index_col=0,parse_dates=[0])\n"
      ],
      "execution_count": 0,
      "outputs": []
    },
    {
      "metadata": {
        "id": "dY8JZX14vr1l",
        "colab_type": "code",
        "colab": {}
      },
      "cell_type": "code",
      "source": [
        "dataset_train = df\n",
        "\n",
        "training_set = dataset_train.iloc[:, 1:2].values\n",
        "dataset_train.head()\n",
        "\n",
        "from sklearn.preprocessing import MinMaxScaler\n",
        "sc = MinMaxScaler(feature_range = (0, 1))\n",
        "training_set_scaled = sc.fit_transform(training_set)\n",
        "\n",
        "import numpy as np\n",
        "\n",
        "X_train = []\n",
        "y_train = []\n",
        "for i in range(60, 2035):\n",
        "    X_train.append(training_set_scaled[i-60:i, 0])\n",
        "    y_train.append(training_set_scaled[i, 0])\n",
        "X_train, y_train = np.array(X_train), np.array(y_train)\n",
        "\n",
        "X_train = np.reshape(X_train, (X_train.shape[0], X_train.shape[1], 1))"
      ],
      "execution_count": 0,
      "outputs": []
    },
    {
      "metadata": {
        "id": "D7lld9mwvyet",
        "colab_type": "code",
        "colab": {
          "base_uri": "https://localhost:8080/",
          "height": 1924
        },
        "outputId": "fb5e95bd-789a-4e59-bfa9-06bf23699e1b"
      },
      "cell_type": "code",
      "source": [
        "from keras.models import Sequential\n",
        "from keras.layers import Dense\n",
        "from keras.layers import LSTM\n",
        "from keras.layers import Dropout\n",
        "\n",
        "regressor = Sequential()\n",
        "\n",
        "regressor.add(LSTM(units = 50, return_sequences = True, input_shape = (X_train.shape[1], 1)))\n",
        "regressor.add(Dropout(0.2))\n",
        "\n",
        "regressor.add(LSTM(units = 50, return_sequences = True))\n",
        "regressor.add(Dropout(0.2))\n",
        "\n",
        "regressor.add(LSTM(units = 50, return_sequences = True))\n",
        "regressor.add(Dropout(0.2))\n",
        "\n",
        "regressor.add(LSTM(units = 50))\n",
        "regressor.add(Dropout(0.2))\n",
        "\n",
        "regressor.add(Dense(units = 1))\n",
        "\n",
        "regressor.compile(optimizer = 'adam', loss = 'mean_squared_error')\n",
        "\n",
        "regressor.fit(X_train, y_train, epochs = 50, batch_size = 32)\n"
      ],
      "execution_count": 3,
      "outputs": [
        {
          "output_type": "stream",
          "text": [
            "Using TensorFlow backend.\n"
          ],
          "name": "stderr"
        },
        {
          "output_type": "stream",
          "text": [
            "WARNING:tensorflow:From /usr/local/lib/python3.6/dist-packages/tensorflow/python/framework/op_def_library.py:263: colocate_with (from tensorflow.python.framework.ops) is deprecated and will be removed in a future version.\n",
            "Instructions for updating:\n",
            "Colocations handled automatically by placer.\n",
            "WARNING:tensorflow:From /usr/local/lib/python3.6/dist-packages/keras/backend/tensorflow_backend.py:3445: calling dropout (from tensorflow.python.ops.nn_ops) with keep_prob is deprecated and will be removed in a future version.\n",
            "Instructions for updating:\n",
            "Please use `rate` instead of `keep_prob`. Rate should be set to `rate = 1 - keep_prob`.\n",
            "WARNING:tensorflow:From /usr/local/lib/python3.6/dist-packages/tensorflow/python/ops/math_ops.py:3066: to_int32 (from tensorflow.python.ops.math_ops) is deprecated and will be removed in a future version.\n",
            "Instructions for updating:\n",
            "Use tf.cast instead.\n",
            "Epoch 1/50\n",
            "1975/1975 [==============================] - 13s 7ms/step - loss: 0.0135\n",
            "Epoch 2/50\n",
            "1975/1975 [==============================] - 9s 5ms/step - loss: 0.0030\n",
            "Epoch 3/50\n",
            "1975/1975 [==============================] - 9s 5ms/step - loss: 0.0030\n",
            "Epoch 4/50\n",
            "1975/1975 [==============================] - 9s 5ms/step - loss: 0.0027\n",
            "Epoch 5/50\n",
            "1975/1975 [==============================] - 9s 5ms/step - loss: 0.0027\n",
            "Epoch 6/50\n",
            "1975/1975 [==============================] - 9s 5ms/step - loss: 0.0022\n",
            "Epoch 7/50\n",
            "1975/1975 [==============================] - 9s 5ms/step - loss: 0.0020\n",
            "Epoch 8/50\n",
            "1975/1975 [==============================] - 9s 5ms/step - loss: 0.0022\n",
            "Epoch 9/50\n",
            "1975/1975 [==============================] - 9s 5ms/step - loss: 0.0020\n",
            "Epoch 10/50\n",
            "1975/1975 [==============================] - 9s 5ms/step - loss: 0.0019\n",
            "Epoch 11/50\n",
            "1975/1975 [==============================] - 9s 5ms/step - loss: 0.0023\n",
            "Epoch 12/50\n",
            "1975/1975 [==============================] - 10s 5ms/step - loss: 0.0018\n",
            "Epoch 13/50\n",
            "1975/1975 [==============================] - 9s 5ms/step - loss: 0.0018\n",
            "Epoch 14/50\n",
            "1975/1975 [==============================] - 10s 5ms/step - loss: 0.0016\n",
            "Epoch 15/50\n",
            "1975/1975 [==============================] - 10s 5ms/step - loss: 0.0016\n",
            "Epoch 16/50\n",
            "1975/1975 [==============================] - 9s 5ms/step - loss: 0.0015\n",
            "Epoch 17/50\n",
            "1975/1975 [==============================] - 9s 5ms/step - loss: 0.0015\n",
            "Epoch 18/50\n",
            "1975/1975 [==============================] - 9s 5ms/step - loss: 0.0014\n",
            "Epoch 19/50\n",
            "1975/1975 [==============================] - 9s 5ms/step - loss: 0.0013\n",
            "Epoch 20/50\n",
            "1975/1975 [==============================] - 9s 5ms/step - loss: 0.0015\n",
            "Epoch 21/50\n",
            "1975/1975 [==============================] - 9s 5ms/step - loss: 0.0014\n",
            "Epoch 22/50\n",
            "1975/1975 [==============================] - 9s 5ms/step - loss: 0.0014\n",
            "Epoch 23/50\n",
            "1975/1975 [==============================] - 9s 5ms/step - loss: 0.0015\n",
            "Epoch 24/50\n",
            "1975/1975 [==============================] - 9s 5ms/step - loss: 0.0011\n",
            "Epoch 25/50\n",
            "1975/1975 [==============================] - 9s 5ms/step - loss: 0.0013\n",
            "Epoch 26/50\n",
            "1975/1975 [==============================] - 9s 5ms/step - loss: 0.0012\n",
            "Epoch 27/50\n",
            "1975/1975 [==============================] - 9s 5ms/step - loss: 0.0011\n",
            "Epoch 28/50\n",
            "1975/1975 [==============================] - 9s 5ms/step - loss: 0.0012\n",
            "Epoch 29/50\n",
            "1975/1975 [==============================] - 9s 5ms/step - loss: 0.0011\n",
            "Epoch 30/50\n",
            "1975/1975 [==============================] - 9s 5ms/step - loss: 0.0011\n",
            "Epoch 31/50\n",
            "1975/1975 [==============================] - 9s 5ms/step - loss: 0.0011\n",
            "Epoch 32/50\n",
            "1975/1975 [==============================] - 9s 5ms/step - loss: 0.0011\n",
            "Epoch 33/50\n",
            "1975/1975 [==============================] - 9s 5ms/step - loss: 0.0011\n",
            "Epoch 34/50\n",
            "1975/1975 [==============================] - 9s 5ms/step - loss: 0.0010\n",
            "Epoch 35/50\n",
            "1975/1975 [==============================] - 9s 5ms/step - loss: 9.5224e-04\n",
            "Epoch 36/50\n",
            "1975/1975 [==============================] - 9s 5ms/step - loss: 9.6932e-04\n",
            "Epoch 37/50\n",
            "1975/1975 [==============================] - 9s 5ms/step - loss: 0.0011\n",
            "Epoch 38/50\n",
            "1975/1975 [==============================] - 9s 5ms/step - loss: 8.9471e-04\n",
            "Epoch 39/50\n",
            "1975/1975 [==============================] - 9s 5ms/step - loss: 8.7525e-04\n",
            "Epoch 40/50\n",
            "1975/1975 [==============================] - 9s 5ms/step - loss: 9.8049e-04\n",
            "Epoch 41/50\n",
            "1975/1975 [==============================] - 9s 5ms/step - loss: 9.8897e-04\n",
            "Epoch 42/50\n",
            "1975/1975 [==============================] - 9s 5ms/step - loss: 0.0011\n",
            "Epoch 43/50\n",
            "1975/1975 [==============================] - 9s 5ms/step - loss: 8.6117e-04\n",
            "Epoch 44/50\n",
            "1975/1975 [==============================] - 9s 5ms/step - loss: 8.9390e-04\n",
            "Epoch 45/50\n",
            "1975/1975 [==============================] - 10s 5ms/step - loss: 9.1396e-04\n",
            "Epoch 46/50\n",
            "1975/1975 [==============================] - 9s 5ms/step - loss: 8.4758e-04\n",
            "Epoch 47/50\n",
            "1975/1975 [==============================] - 10s 5ms/step - loss: 8.3366e-04\n",
            "Epoch 48/50\n",
            "1975/1975 [==============================] - 10s 5ms/step - loss: 9.0376e-04\n",
            "Epoch 49/50\n",
            "1975/1975 [==============================] - 9s 5ms/step - loss: 8.6942e-04\n",
            "Epoch 50/50\n",
            "1975/1975 [==============================] - 9s 5ms/step - loss: 8.5451e-04\n"
          ],
          "name": "stdout"
        },
        {
          "output_type": "execute_result",
          "data": {
            "text/plain": [
              "<keras.callbacks.History at 0x7f16195dbfd0>"
            ]
          },
          "metadata": {
            "tags": []
          },
          "execution_count": 3
        }
      ]
    },
    {
      "metadata": {
        "id": "7A_2bWhOv1w4",
        "colab_type": "code",
        "colab": {
          "base_uri": "https://localhost:8080/",
          "height": 376
        },
        "outputId": "236d7a5a-0f2f-46db-827a-c416b85f6efd"
      },
      "cell_type": "code",
      "source": [
        "#test \n",
        "\n",
        "testlink =\"https://raw.githubusercontent.com/mwitiderrick/stockprice/master/tatatest.csv\"\n",
        "dataset_test = pd.read_csv(csvlink,index_col=0,parse_dates=[0])\n",
        "real_stock_price = dataset_test.iloc[:, 1:2].values\n",
        "\n",
        "# Getting the predicted stock price of 2017\n",
        "dataset_total = pd.concat((dataset_train['Open'], dataset_test['Open']), axis = 0)\n",
        "inputs = dataset_total[len(dataset_total) - len(dataset_test) - 60:].values\n",
        "inputs = inputs.reshape(-1,1)\n",
        "inputs = sc.transform(inputs)\n",
        "X_test = []\n",
        "for i in range(60, 76):\n",
        "    X_test.append(inputs[i-60:i, 0])\n",
        "X_test = np.array(X_test)\n",
        "X_test = np.reshape(X_test, (X_test.shape[0], X_test.shape[1], 1))\n",
        "predicted_stock_price = regressor.predict(X_test)\n",
        "predicted_stock_price = sc.inverse_transform(predicted_stock_price)\n",
        "\n",
        "\n",
        "import matplotlib.pyplot as plt\n",
        "\n",
        "# Visualising the results\n",
        "plt.plot(real_stock_price, color = 'red', label = 'Real TATA Stock Price')\n",
        "plt.plot(predicted_stock_price, color = 'blue', label = 'Predicted TAT Stock Price')\n",
        "plt.title('TATA Stock Price Prediction')\n",
        "plt.xlabel('Time')\n",
        "plt.ylabel('TATA Stock Price')\n",
        "plt.legend()\n",
        "plt.show()"
      ],
      "execution_count": 4,
      "outputs": [
        {
          "output_type": "display_data",
          "data": {
            "image/png": "[encoded data removed]",
            "text/plain": [
              "<Figure size 576x396 with 1 Axes>"
            ]
          },
          "metadata": {
            "tags": []
          }
        }
      ]
    },
    {
      "metadata": {
        "id": "IfEV_sL3x4cF",
        "colab_type": "code",
        "colab": {}
      },
      "cell_type": "code",
      "source": [
        ""
      ],
      "execution_count": 0,
      "outputs": []
    }
  ]
}