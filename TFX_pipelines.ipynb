{
  "nbformat": 4,
  "nbformat_minor": 0,
  "metadata": {
    "colab": {
      "provenance": [],
      "authorship_tag": "ABX9TyMDwBQlcKoScNNM2gUkGr7T",
      "include_colab_link": true
    },
    "kernelspec": {
      "name": "python3",
      "display_name": "Python 3"
    },
    "language_info": {
      "name": "python"
    }
  },
  "cells": [
    {
      "cell_type": "markdown",
      "metadata": {
        "id": "view-in-github",
        "colab_type": "text"
      },
      "source": [
        "<a href=\"https://colab.research.google.com/github/krishnayogik/Data-Science-Python/blob/master/TFX_pipelines.ipynb\" target=\"_parent\"><img src=\"https://colab.research.google.com/assets/colab-badge.svg\" alt=\"Open In Colab\"/></a>"
      ]
    },
    {
      "cell_type": "code",
      "execution_count": 1,
      "metadata": {
        "colab": {
          "base_uri": "https://localhost:8080/"
        },
        "id": "biduHXmTzJN3",
        "outputId": "ff345bb9-2656-4f90-dba6-540fc76134b6"
      },
      "outputs": [
        {
          "output_type": "stream",
          "name": "stdout",
          "text": [
            "\u001b[K     |████████████████████████████████| 2.7 MB 4.2 MB/s \n",
            "\u001b[K     |████████████████████████████████| 60 kB 7.7 MB/s \n",
            "\u001b[K     |████████████████████████████████| 206 kB 71.9 MB/s \n",
            "\u001b[K     |████████████████████████████████| 6.7 MB 64.3 MB/s \n",
            "\u001b[K     |████████████████████████████████| 1.4 MB 51.9 MB/s \n",
            "\u001b[K     |████████████████████████████████| 2.3 MB 50.1 MB/s \n",
            "\u001b[K     |████████████████████████████████| 40 kB 5.5 MB/s \n",
            "\u001b[K     |████████████████████████████████| 439 kB 64.9 MB/s \n",
            "\u001b[K     |████████████████████████████████| 1.7 MB 53.5 MB/s \n",
            "\u001b[K     |████████████████████████████████| 135 kB 60.4 MB/s \n",
            "\u001b[K     |████████████████████████████████| 93 kB 2.0 MB/s \n",
            "\u001b[K     |████████████████████████████████| 662 kB 69.4 MB/s \n",
            "\u001b[K     |████████████████████████████████| 1.9 MB 58.9 MB/s \n",
            "\u001b[K     |████████████████████████████████| 147 kB 62.9 MB/s \n",
            "\u001b[K     |████████████████████████████████| 55 kB 3.4 MB/s \n",
            "\u001b[K     |████████████████████████████████| 152 kB 62.6 MB/s \n",
            "\u001b[K     |████████████████████████████████| 235 kB 55.4 MB/s \n",
            "\u001b[K     |████████████████████████████████| 120 kB 62.3 MB/s \n",
            "\u001b[K     |████████████████████████████████| 115 kB 61.9 MB/s \n",
            "\u001b[K     |████████████████████████████████| 115 kB 63.1 MB/s \n",
            "\u001b[K     |████████████████████████████████| 115 kB 54.2 MB/s \n",
            "\u001b[K     |████████████████████████████████| 115 kB 48.9 MB/s \n",
            "\u001b[K     |████████████████████████████████| 114 kB 63.5 MB/s \n",
            "\u001b[K     |████████████████████████████████| 114 kB 62.7 MB/s \n",
            "\u001b[K     |████████████████████████████████| 120 kB 64.8 MB/s \n",
            "\u001b[K     |████████████████████████████████| 115 kB 63.6 MB/s \n",
            "\u001b[K     |████████████████████████████████| 115 kB 64.5 MB/s \n",
            "\u001b[K     |████████████████████████████████| 115 kB 63.0 MB/s \n",
            "\u001b[K     |████████████████████████████████| 233 kB 63.2 MB/s \n",
            "\u001b[K     |████████████████████████████████| 1.6 MB 44.6 MB/s \n",
            "\u001b[31mERROR: pip's dependency resolver does not currently take into account all the packages that are installed. This behaviour is the source of the following dependency conflicts.\n",
            "xarray 2022.12.0 requires packaging>=21.3, but you have packaging 20.9 which is incompatible.\u001b[0m\n",
            "\u001b[?25h"
          ]
        }
      ],
      "source": [
        "!pip install -q -U tfx\n",
        "# !pip install tensorflow==2.7.0\n",
        "# !pip install tensorflow_decision_forests==0.2.1\n",
        "\n",
        "#!pip install tensorflow_data_validation "
      ]
    },
    {
      "cell_type": "code",
      "source": [
        "!pip install import tensorflow_model_analysis &&  tensorflow_decision_forests "
      ],
      "metadata": {
        "id": "i6SuPYZ4zecS"
      },
      "execution_count": null,
      "outputs": []
    },
    {
      "cell_type": "code",
      "source": [
        "import tempfile\n",
        "import tensorflow as tf\n",
        "import urllib.request\n",
        "import os\n",
        "import pandas as pd\n",
        "import shutil\n",
        "import tensorflow_data_validation as tfdv\n",
        "import tensorflow_model_analysis as tfma\n",
        "import tensorflow_decision_forests as tfdf\n",
        "\n",
        "from absl import logging\n",
        "from pathlib import Path\n",
        "from tfx import v1 as tfx\n",
        "from tensorflow_metadata.proto.v0 import schema_pb2\n",
        "from tfx.proto import example_gen_pb2\n",
        "\n",
        "print(f\"Tensorflow Version: {tf.__version__}\")\n",
        "print(f\"TFX Version: {tfx.__version__}\")\n",
        "print(f\"TFDF Version: {tfdf.__version__}\")\n",
        "\n",
        "print(f\"Tensorflow Data Validation Version: {tfdv.__version__}\")\n",
        "\n",
        "logging.set_verbosity(logging.INFO)"
      ],
      "metadata": {
        "colab": {
          "base_uri": "https://localhost:8080/",
          "height": 383
        },
        "id": "njzCLqh3zNpt",
        "outputId": "62f03200-d6f2-4d97-b245-08ea42e5ad52"
      },
      "execution_count": 1,
      "outputs": [
        {
          "output_type": "error",
          "ename": "ModuleNotFoundError",
          "evalue": "ignored",
          "traceback": [
            "\u001b[0;31m---------------------------------------------------------------------------\u001b[0m",
            "\u001b[0;31mModuleNotFoundError\u001b[0m                       Traceback (most recent call last)",
            "\u001b[0;32m<ipython-input-1-3fbfd29f634f>\u001b[0m in \u001b[0;36m<module>\u001b[0;34m\u001b[0m\n\u001b[1;32m      5\u001b[0m \u001b[0;32mimport\u001b[0m \u001b[0mpandas\u001b[0m \u001b[0;32mas\u001b[0m \u001b[0mpd\u001b[0m\u001b[0;34m\u001b[0m\u001b[0;34m\u001b[0m\u001b[0m\n\u001b[1;32m      6\u001b[0m \u001b[0;32mimport\u001b[0m \u001b[0mshutil\u001b[0m\u001b[0;34m\u001b[0m\u001b[0;34m\u001b[0m\u001b[0m\n\u001b[0;32m----> 7\u001b[0;31m \u001b[0;32mimport\u001b[0m \u001b[0mtensorflow_data_validation\u001b[0m \u001b[0;32mas\u001b[0m \u001b[0mtfdv\u001b[0m\u001b[0;34m\u001b[0m\u001b[0;34m\u001b[0m\u001b[0m\n\u001b[0m\u001b[1;32m      8\u001b[0m \u001b[0;32mimport\u001b[0m \u001b[0mtensorflow_model_analysis\u001b[0m \u001b[0;32mas\u001b[0m \u001b[0mtfma\u001b[0m\u001b[0;34m\u001b[0m\u001b[0;34m\u001b[0m\u001b[0m\n\u001b[1;32m      9\u001b[0m \u001b[0;32mimport\u001b[0m \u001b[0mtensorflow_decision_forests\u001b[0m \u001b[0;32mas\u001b[0m \u001b[0mtfdf\u001b[0m\u001b[0;34m\u001b[0m\u001b[0;34m\u001b[0m\u001b[0m\n",
            "\u001b[0;31mModuleNotFoundError\u001b[0m: No module named 'tensorflow_data_validation'",
            "",
            "\u001b[0;31m---------------------------------------------------------------------------\u001b[0;32m\nNOTE: If your import is failing due to a missing package, you can\nmanually install dependencies using either !pip or !apt.\n\nTo view examples of installing some common dependencies, click the\n\"Open Examples\" button below.\n\u001b[0;31m---------------------------------------------------------------------------\u001b[0m\n"
          ],
          "errorDetails": {
            "actions": [
              {
                "action": "open_url",
                "actionText": "Open Examples",
                "url": "/notebooks/snippets/importing_libraries.ipynb"
              }
            ]
          }
        }
      ]
    }
  ]
}